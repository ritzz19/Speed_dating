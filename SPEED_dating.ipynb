{
  "nbformat": 4,
  "nbformat_minor": 0,
  "metadata": {
    "colab": {
      "name": "SPEED_dating.ipynb",
      "provenance": [],
      "authorship_tag": "ABX9TyNV5ZPD5xqSM+OZV8Uukq3k",
      "include_colab_link": true
    },
    "kernelspec": {
      "name": "python3",
      "display_name": "Python 3"
    }
  },
  "cells": [
    {
      "cell_type": "markdown",
      "metadata": {
        "id": "view-in-github",
        "colab_type": "text"
      },
      "source": [
        "<a href=\"https://colab.research.google.com/github/ritzz19/Speed_dating/blob/master/SPEED_dating.ipynb\" target=\"_parent\"><img src=\"https://colab.research.google.com/assets/colab-badge.svg\" alt=\"Open In Colab\"/></a>"
      ]
    },
    {
      "cell_type": "code",
      "metadata": {
        "id": "ErA2XsGJyC8V",
        "colab_type": "code",
        "outputId": "92d204d0-54b7-4480-b891-c0ea88b3541c",
        "colab": {
          "base_uri": "https://localhost:8080/",
          "height": 224
        }
      },
      "source": [
        "import pandas as pd\n",
        "data = pd.read_csv(\"Speed_dating.csv\",encoding=\"ISO-8859-1\")\n",
        "pd.set_option('display.max_rows', 500)\n",
        "pd.set_option('display.max_columns', 500)\n",
        "pd.set_option('display.width', 1000)\n",
        "data.head(5)"
      ],
      "execution_count": 507,
      "outputs": [
        {
          "output_type": "execute_result",
          "data": {
            "text/html": [
              "<div>\n",
              "<style scoped>\n",
              "    .dataframe tbody tr th:only-of-type {\n",
              "        vertical-align: middle;\n",
              "    }\n",
              "\n",
              "    .dataframe tbody tr th {\n",
              "        vertical-align: top;\n",
              "    }\n",
              "\n",
              "    .dataframe thead th {\n",
              "        text-align: right;\n",
              "    }\n",
              "</style>\n",
              "<table border=\"1\" class=\"dataframe\">\n",
              "  <thead>\n",
              "    <tr style=\"text-align: right;\">\n",
              "      <th></th>\n",
              "      <th>iid</th>\n",
              "      <th>id</th>\n",
              "      <th>gender</th>\n",
              "      <th>idg</th>\n",
              "      <th>condtn</th>\n",
              "      <th>wave</th>\n",
              "      <th>round</th>\n",
              "      <th>position</th>\n",
              "      <th>positin1</th>\n",
              "      <th>order</th>\n",
              "      <th>partner</th>\n",
              "      <th>pid</th>\n",
              "      <th>match</th>\n",
              "      <th>int_corr</th>\n",
              "      <th>samerace</th>\n",
              "      <th>age_o</th>\n",
              "      <th>race_o</th>\n",
              "      <th>pf_o_att</th>\n",
              "      <th>pf_o_sin</th>\n",
              "      <th>pf_o_int</th>\n",
              "      <th>pf_o_fun</th>\n",
              "      <th>pf_o_amb</th>\n",
              "      <th>pf_o_sha</th>\n",
              "      <th>dec_o</th>\n",
              "      <th>attr_o</th>\n",
              "      <th>sinc_o</th>\n",
              "      <th>intel_o</th>\n",
              "      <th>fun_o</th>\n",
              "      <th>amb_o</th>\n",
              "      <th>shar_o</th>\n",
              "      <th>like_o</th>\n",
              "      <th>prob_o</th>\n",
              "      <th>met_o</th>\n",
              "      <th>age</th>\n",
              "      <th>field</th>\n",
              "      <th>field_cd</th>\n",
              "      <th>undergra</th>\n",
              "      <th>mn_sat</th>\n",
              "      <th>tuition</th>\n",
              "      <th>race</th>\n",
              "      <th>imprace</th>\n",
              "      <th>imprelig</th>\n",
              "      <th>from</th>\n",
              "      <th>zipcode</th>\n",
              "      <th>income</th>\n",
              "      <th>goal</th>\n",
              "      <th>date</th>\n",
              "      <th>go_out</th>\n",
              "      <th>career</th>\n",
              "      <th>career_c</th>\n",
              "      <th>sports</th>\n",
              "      <th>tvsports</th>\n",
              "      <th>exercise</th>\n",
              "      <th>dining</th>\n",
              "      <th>museums</th>\n",
              "      <th>art</th>\n",
              "      <th>hiking</th>\n",
              "      <th>gaming</th>\n",
              "      <th>clubbing</th>\n",
              "      <th>reading</th>\n",
              "      <th>tv</th>\n",
              "      <th>theater</th>\n",
              "      <th>movies</th>\n",
              "      <th>concerts</th>\n",
              "      <th>music</th>\n",
              "      <th>shopping</th>\n",
              "      <th>yoga</th>\n",
              "      <th>exphappy</th>\n",
              "      <th>expnum</th>\n",
              "      <th>attr1_1</th>\n",
              "      <th>sinc1_1</th>\n",
              "      <th>intel1_1</th>\n",
              "      <th>fun1_1</th>\n",
              "      <th>amb1_1</th>\n",
              "      <th>shar1_1</th>\n",
              "      <th>attr4_1</th>\n",
              "      <th>sinc4_1</th>\n",
              "      <th>intel4_1</th>\n",
              "      <th>fun4_1</th>\n",
              "      <th>amb4_1</th>\n",
              "      <th>shar4_1</th>\n",
              "      <th>attr2_1</th>\n",
              "      <th>sinc2_1</th>\n",
              "      <th>intel2_1</th>\n",
              "      <th>fun2_1</th>\n",
              "      <th>amb2_1</th>\n",
              "      <th>shar2_1</th>\n",
              "      <th>attr3_1</th>\n",
              "      <th>sinc3_1</th>\n",
              "      <th>fun3_1</th>\n",
              "      <th>intel3_1</th>\n",
              "      <th>amb3_1</th>\n",
              "      <th>attr5_1</th>\n",
              "      <th>sinc5_1</th>\n",
              "      <th>intel5_1</th>\n",
              "      <th>fun5_1</th>\n",
              "      <th>amb5_1</th>\n",
              "      <th>dec</th>\n",
              "      <th>attr</th>\n",
              "      <th>sinc</th>\n",
              "      <th>intel</th>\n",
              "      <th>fun</th>\n",
              "      <th>amb</th>\n",
              "      <th>shar</th>\n",
              "      <th>like</th>\n",
              "      <th>prob</th>\n",
              "      <th>met</th>\n",
              "      <th>match_es</th>\n",
              "      <th>attr1_s</th>\n",
              "      <th>sinc1_s</th>\n",
              "      <th>intel1_s</th>\n",
              "      <th>fun1_s</th>\n",
              "      <th>amb1_s</th>\n",
              "      <th>shar1_s</th>\n",
              "      <th>attr3_s</th>\n",
              "      <th>sinc3_s</th>\n",
              "      <th>intel3_s</th>\n",
              "      <th>fun3_s</th>\n",
              "      <th>amb3_s</th>\n",
              "      <th>satis_2</th>\n",
              "      <th>length</th>\n",
              "      <th>numdat_2</th>\n",
              "      <th>attr7_2</th>\n",
              "      <th>sinc7_2</th>\n",
              "      <th>intel7_2</th>\n",
              "      <th>fun7_2</th>\n",
              "      <th>amb7_2</th>\n",
              "      <th>shar7_2</th>\n",
              "      <th>attr1_2</th>\n",
              "      <th>sinc1_2</th>\n",
              "      <th>intel1_2</th>\n",
              "      <th>fun1_2</th>\n",
              "      <th>amb1_2</th>\n",
              "      <th>shar1_2</th>\n",
              "      <th>attr4_2</th>\n",
              "      <th>sinc4_2</th>\n",
              "      <th>intel4_2</th>\n",
              "      <th>fun4_2</th>\n",
              "      <th>amb4_2</th>\n",
              "      <th>shar4_2</th>\n",
              "      <th>attr2_2</th>\n",
              "      <th>sinc2_2</th>\n",
              "      <th>intel2_2</th>\n",
              "      <th>fun2_2</th>\n",
              "      <th>amb2_2</th>\n",
              "      <th>shar2_2</th>\n",
              "      <th>attr3_2</th>\n",
              "      <th>sinc3_2</th>\n",
              "      <th>intel3_2</th>\n",
              "      <th>fun3_2</th>\n",
              "      <th>amb3_2</th>\n",
              "      <th>attr5_2</th>\n",
              "      <th>sinc5_2</th>\n",
              "      <th>intel5_2</th>\n",
              "      <th>fun5_2</th>\n",
              "      <th>amb5_2</th>\n",
              "      <th>you_call</th>\n",
              "      <th>them_cal</th>\n",
              "      <th>date_3</th>\n",
              "      <th>numdat_3</th>\n",
              "      <th>num_in_3</th>\n",
              "      <th>attr1_3</th>\n",
              "      <th>sinc1_3</th>\n",
              "      <th>intel1_3</th>\n",
              "      <th>fun1_3</th>\n",
              "      <th>amb1_3</th>\n",
              "      <th>shar1_3</th>\n",
              "      <th>attr7_3</th>\n",
              "      <th>sinc7_3</th>\n",
              "      <th>intel7_3</th>\n",
              "      <th>fun7_3</th>\n",
              "      <th>amb7_3</th>\n",
              "      <th>shar7_3</th>\n",
              "      <th>attr4_3</th>\n",
              "      <th>sinc4_3</th>\n",
              "      <th>intel4_3</th>\n",
              "      <th>fun4_3</th>\n",
              "      <th>amb4_3</th>\n",
              "      <th>shar4_3</th>\n",
              "      <th>attr2_3</th>\n",
              "      <th>sinc2_3</th>\n",
              "      <th>intel2_3</th>\n",
              "      <th>fun2_3</th>\n",
              "      <th>amb2_3</th>\n",
              "      <th>shar2_3</th>\n",
              "      <th>attr3_3</th>\n",
              "      <th>sinc3_3</th>\n",
              "      <th>intel3_3</th>\n",
              "      <th>fun3_3</th>\n",
              "      <th>amb3_3</th>\n",
              "      <th>attr5_3</th>\n",
              "      <th>sinc5_3</th>\n",
              "      <th>intel5_3</th>\n",
              "      <th>fun5_3</th>\n",
              "      <th>amb5_3</th>\n",
              "    </tr>\n",
              "  </thead>\n",
              "  <tbody>\n",
              "    <tr>\n",
              "      <th>0</th>\n",
              "      <td>1</td>\n",
              "      <td>1.0</td>\n",
              "      <td>0</td>\n",
              "      <td>1</td>\n",
              "      <td>1</td>\n",
              "      <td>1</td>\n",
              "      <td>10</td>\n",
              "      <td>7</td>\n",
              "      <td>NaN</td>\n",
              "      <td>4</td>\n",
              "      <td>1</td>\n",
              "      <td>11.0</td>\n",
              "      <td>0</td>\n",
              "      <td>0.14</td>\n",
              "      <td>0</td>\n",
              "      <td>27.0</td>\n",
              "      <td>2.0</td>\n",
              "      <td>35.0</td>\n",
              "      <td>20.0</td>\n",
              "      <td>20.0</td>\n",
              "      <td>20.0</td>\n",
              "      <td>0.0</td>\n",
              "      <td>5.0</td>\n",
              "      <td>0</td>\n",
              "      <td>6.0</td>\n",
              "      <td>8.0</td>\n",
              "      <td>8.0</td>\n",
              "      <td>8.0</td>\n",
              "      <td>8.0</td>\n",
              "      <td>6.0</td>\n",
              "      <td>7.0</td>\n",
              "      <td>4.0</td>\n",
              "      <td>2.0</td>\n",
              "      <td>21.0</td>\n",
              "      <td>Law</td>\n",
              "      <td>1.0</td>\n",
              "      <td>NaN</td>\n",
              "      <td>NaN</td>\n",
              "      <td>NaN</td>\n",
              "      <td>4.0</td>\n",
              "      <td>2.0</td>\n",
              "      <td>4.0</td>\n",
              "      <td>Chicago</td>\n",
              "      <td>60,521</td>\n",
              "      <td>69,487.00</td>\n",
              "      <td>2.0</td>\n",
              "      <td>7.0</td>\n",
              "      <td>1.0</td>\n",
              "      <td>lawyer</td>\n",
              "      <td>NaN</td>\n",
              "      <td>9.0</td>\n",
              "      <td>2.0</td>\n",
              "      <td>8.0</td>\n",
              "      <td>9.0</td>\n",
              "      <td>1.0</td>\n",
              "      <td>1.0</td>\n",
              "      <td>5.0</td>\n",
              "      <td>1.0</td>\n",
              "      <td>5.0</td>\n",
              "      <td>6.0</td>\n",
              "      <td>9.0</td>\n",
              "      <td>1.0</td>\n",
              "      <td>10.0</td>\n",
              "      <td>10.0</td>\n",
              "      <td>9.0</td>\n",
              "      <td>8.0</td>\n",
              "      <td>1.0</td>\n",
              "      <td>3.0</td>\n",
              "      <td>2.0</td>\n",
              "      <td>15.0</td>\n",
              "      <td>20.0</td>\n",
              "      <td>20.0</td>\n",
              "      <td>15.0</td>\n",
              "      <td>15.0</td>\n",
              "      <td>15.0</td>\n",
              "      <td>NaN</td>\n",
              "      <td>NaN</td>\n",
              "      <td>NaN</td>\n",
              "      <td>NaN</td>\n",
              "      <td>NaN</td>\n",
              "      <td>NaN</td>\n",
              "      <td>35.0</td>\n",
              "      <td>20.0</td>\n",
              "      <td>15.0</td>\n",
              "      <td>20.0</td>\n",
              "      <td>5.0</td>\n",
              "      <td>5.0</td>\n",
              "      <td>6.0</td>\n",
              "      <td>8.0</td>\n",
              "      <td>8.0</td>\n",
              "      <td>8.0</td>\n",
              "      <td>7.0</td>\n",
              "      <td>NaN</td>\n",
              "      <td>NaN</td>\n",
              "      <td>NaN</td>\n",
              "      <td>NaN</td>\n",
              "      <td>NaN</td>\n",
              "      <td>1</td>\n",
              "      <td>6.0</td>\n",
              "      <td>9.0</td>\n",
              "      <td>7.0</td>\n",
              "      <td>7.0</td>\n",
              "      <td>6.0</td>\n",
              "      <td>5.0</td>\n",
              "      <td>7.0</td>\n",
              "      <td>6.0</td>\n",
              "      <td>2.0</td>\n",
              "      <td>4.0</td>\n",
              "      <td>NaN</td>\n",
              "      <td>NaN</td>\n",
              "      <td>NaN</td>\n",
              "      <td>NaN</td>\n",
              "      <td>NaN</td>\n",
              "      <td>NaN</td>\n",
              "      <td>NaN</td>\n",
              "      <td>NaN</td>\n",
              "      <td>NaN</td>\n",
              "      <td>NaN</td>\n",
              "      <td>NaN</td>\n",
              "      <td>6.0</td>\n",
              "      <td>2.0</td>\n",
              "      <td>1.0</td>\n",
              "      <td>NaN</td>\n",
              "      <td>NaN</td>\n",
              "      <td>NaN</td>\n",
              "      <td>NaN</td>\n",
              "      <td>NaN</td>\n",
              "      <td>NaN</td>\n",
              "      <td>19.44</td>\n",
              "      <td>16.67</td>\n",
              "      <td>13.89</td>\n",
              "      <td>22.22</td>\n",
              "      <td>11.11</td>\n",
              "      <td>16.67</td>\n",
              "      <td>NaN</td>\n",
              "      <td>NaN</td>\n",
              "      <td>NaN</td>\n",
              "      <td>NaN</td>\n",
              "      <td>NaN</td>\n",
              "      <td>NaN</td>\n",
              "      <td>NaN</td>\n",
              "      <td>NaN</td>\n",
              "      <td>NaN</td>\n",
              "      <td>NaN</td>\n",
              "      <td>NaN</td>\n",
              "      <td>NaN</td>\n",
              "      <td>6.0</td>\n",
              "      <td>7.0</td>\n",
              "      <td>8.0</td>\n",
              "      <td>7.0</td>\n",
              "      <td>6.0</td>\n",
              "      <td>NaN</td>\n",
              "      <td>NaN</td>\n",
              "      <td>NaN</td>\n",
              "      <td>NaN</td>\n",
              "      <td>NaN</td>\n",
              "      <td>1.0</td>\n",
              "      <td>1.0</td>\n",
              "      <td>0.0</td>\n",
              "      <td>NaN</td>\n",
              "      <td>NaN</td>\n",
              "      <td>15.0</td>\n",
              "      <td>20.0</td>\n",
              "      <td>20.0</td>\n",
              "      <td>15.0</td>\n",
              "      <td>15.0</td>\n",
              "      <td>15.0</td>\n",
              "      <td>NaN</td>\n",
              "      <td>NaN</td>\n",
              "      <td>NaN</td>\n",
              "      <td>NaN</td>\n",
              "      <td>NaN</td>\n",
              "      <td>NaN</td>\n",
              "      <td>NaN</td>\n",
              "      <td>NaN</td>\n",
              "      <td>NaN</td>\n",
              "      <td>NaN</td>\n",
              "      <td>NaN</td>\n",
              "      <td>NaN</td>\n",
              "      <td>NaN</td>\n",
              "      <td>NaN</td>\n",
              "      <td>NaN</td>\n",
              "      <td>NaN</td>\n",
              "      <td>NaN</td>\n",
              "      <td>NaN</td>\n",
              "      <td>5.0</td>\n",
              "      <td>7.0</td>\n",
              "      <td>7.0</td>\n",
              "      <td>7.0</td>\n",
              "      <td>7.0</td>\n",
              "      <td>NaN</td>\n",
              "      <td>NaN</td>\n",
              "      <td>NaN</td>\n",
              "      <td>NaN</td>\n",
              "      <td>NaN</td>\n",
              "    </tr>\n",
              "    <tr>\n",
              "      <th>1</th>\n",
              "      <td>1</td>\n",
              "      <td>1.0</td>\n",
              "      <td>0</td>\n",
              "      <td>1</td>\n",
              "      <td>1</td>\n",
              "      <td>1</td>\n",
              "      <td>10</td>\n",
              "      <td>7</td>\n",
              "      <td>NaN</td>\n",
              "      <td>3</td>\n",
              "      <td>2</td>\n",
              "      <td>12.0</td>\n",
              "      <td>0</td>\n",
              "      <td>0.54</td>\n",
              "      <td>0</td>\n",
              "      <td>22.0</td>\n",
              "      <td>2.0</td>\n",
              "      <td>60.0</td>\n",
              "      <td>0.0</td>\n",
              "      <td>0.0</td>\n",
              "      <td>40.0</td>\n",
              "      <td>0.0</td>\n",
              "      <td>0.0</td>\n",
              "      <td>0</td>\n",
              "      <td>7.0</td>\n",
              "      <td>8.0</td>\n",
              "      <td>10.0</td>\n",
              "      <td>7.0</td>\n",
              "      <td>7.0</td>\n",
              "      <td>5.0</td>\n",
              "      <td>8.0</td>\n",
              "      <td>4.0</td>\n",
              "      <td>2.0</td>\n",
              "      <td>21.0</td>\n",
              "      <td>Law</td>\n",
              "      <td>1.0</td>\n",
              "      <td>NaN</td>\n",
              "      <td>NaN</td>\n",
              "      <td>NaN</td>\n",
              "      <td>4.0</td>\n",
              "      <td>2.0</td>\n",
              "      <td>4.0</td>\n",
              "      <td>Chicago</td>\n",
              "      <td>60,521</td>\n",
              "      <td>69,487.00</td>\n",
              "      <td>2.0</td>\n",
              "      <td>7.0</td>\n",
              "      <td>1.0</td>\n",
              "      <td>lawyer</td>\n",
              "      <td>NaN</td>\n",
              "      <td>9.0</td>\n",
              "      <td>2.0</td>\n",
              "      <td>8.0</td>\n",
              "      <td>9.0</td>\n",
              "      <td>1.0</td>\n",
              "      <td>1.0</td>\n",
              "      <td>5.0</td>\n",
              "      <td>1.0</td>\n",
              "      <td>5.0</td>\n",
              "      <td>6.0</td>\n",
              "      <td>9.0</td>\n",
              "      <td>1.0</td>\n",
              "      <td>10.0</td>\n",
              "      <td>10.0</td>\n",
              "      <td>9.0</td>\n",
              "      <td>8.0</td>\n",
              "      <td>1.0</td>\n",
              "      <td>3.0</td>\n",
              "      <td>2.0</td>\n",
              "      <td>15.0</td>\n",
              "      <td>20.0</td>\n",
              "      <td>20.0</td>\n",
              "      <td>15.0</td>\n",
              "      <td>15.0</td>\n",
              "      <td>15.0</td>\n",
              "      <td>NaN</td>\n",
              "      <td>NaN</td>\n",
              "      <td>NaN</td>\n",
              "      <td>NaN</td>\n",
              "      <td>NaN</td>\n",
              "      <td>NaN</td>\n",
              "      <td>35.0</td>\n",
              "      <td>20.0</td>\n",
              "      <td>15.0</td>\n",
              "      <td>20.0</td>\n",
              "      <td>5.0</td>\n",
              "      <td>5.0</td>\n",
              "      <td>6.0</td>\n",
              "      <td>8.0</td>\n",
              "      <td>8.0</td>\n",
              "      <td>8.0</td>\n",
              "      <td>7.0</td>\n",
              "      <td>NaN</td>\n",
              "      <td>NaN</td>\n",
              "      <td>NaN</td>\n",
              "      <td>NaN</td>\n",
              "      <td>NaN</td>\n",
              "      <td>1</td>\n",
              "      <td>7.0</td>\n",
              "      <td>8.0</td>\n",
              "      <td>7.0</td>\n",
              "      <td>8.0</td>\n",
              "      <td>5.0</td>\n",
              "      <td>6.0</td>\n",
              "      <td>7.0</td>\n",
              "      <td>5.0</td>\n",
              "      <td>1.0</td>\n",
              "      <td>4.0</td>\n",
              "      <td>NaN</td>\n",
              "      <td>NaN</td>\n",
              "      <td>NaN</td>\n",
              "      <td>NaN</td>\n",
              "      <td>NaN</td>\n",
              "      <td>NaN</td>\n",
              "      <td>NaN</td>\n",
              "      <td>NaN</td>\n",
              "      <td>NaN</td>\n",
              "      <td>NaN</td>\n",
              "      <td>NaN</td>\n",
              "      <td>6.0</td>\n",
              "      <td>2.0</td>\n",
              "      <td>1.0</td>\n",
              "      <td>NaN</td>\n",
              "      <td>NaN</td>\n",
              "      <td>NaN</td>\n",
              "      <td>NaN</td>\n",
              "      <td>NaN</td>\n",
              "      <td>NaN</td>\n",
              "      <td>19.44</td>\n",
              "      <td>16.67</td>\n",
              "      <td>13.89</td>\n",
              "      <td>22.22</td>\n",
              "      <td>11.11</td>\n",
              "      <td>16.67</td>\n",
              "      <td>NaN</td>\n",
              "      <td>NaN</td>\n",
              "      <td>NaN</td>\n",
              "      <td>NaN</td>\n",
              "      <td>NaN</td>\n",
              "      <td>NaN</td>\n",
              "      <td>NaN</td>\n",
              "      <td>NaN</td>\n",
              "      <td>NaN</td>\n",
              "      <td>NaN</td>\n",
              "      <td>NaN</td>\n",
              "      <td>NaN</td>\n",
              "      <td>6.0</td>\n",
              "      <td>7.0</td>\n",
              "      <td>8.0</td>\n",
              "      <td>7.0</td>\n",
              "      <td>6.0</td>\n",
              "      <td>NaN</td>\n",
              "      <td>NaN</td>\n",
              "      <td>NaN</td>\n",
              "      <td>NaN</td>\n",
              "      <td>NaN</td>\n",
              "      <td>1.0</td>\n",
              "      <td>1.0</td>\n",
              "      <td>0.0</td>\n",
              "      <td>NaN</td>\n",
              "      <td>NaN</td>\n",
              "      <td>15.0</td>\n",
              "      <td>20.0</td>\n",
              "      <td>20.0</td>\n",
              "      <td>15.0</td>\n",
              "      <td>15.0</td>\n",
              "      <td>15.0</td>\n",
              "      <td>NaN</td>\n",
              "      <td>NaN</td>\n",
              "      <td>NaN</td>\n",
              "      <td>NaN</td>\n",
              "      <td>NaN</td>\n",
              "      <td>NaN</td>\n",
              "      <td>NaN</td>\n",
              "      <td>NaN</td>\n",
              "      <td>NaN</td>\n",
              "      <td>NaN</td>\n",
              "      <td>NaN</td>\n",
              "      <td>NaN</td>\n",
              "      <td>NaN</td>\n",
              "      <td>NaN</td>\n",
              "      <td>NaN</td>\n",
              "      <td>NaN</td>\n",
              "      <td>NaN</td>\n",
              "      <td>NaN</td>\n",
              "      <td>5.0</td>\n",
              "      <td>7.0</td>\n",
              "      <td>7.0</td>\n",
              "      <td>7.0</td>\n",
              "      <td>7.0</td>\n",
              "      <td>NaN</td>\n",
              "      <td>NaN</td>\n",
              "      <td>NaN</td>\n",
              "      <td>NaN</td>\n",
              "      <td>NaN</td>\n",
              "    </tr>\n",
              "    <tr>\n",
              "      <th>2</th>\n",
              "      <td>1</td>\n",
              "      <td>1.0</td>\n",
              "      <td>0</td>\n",
              "      <td>1</td>\n",
              "      <td>1</td>\n",
              "      <td>1</td>\n",
              "      <td>10</td>\n",
              "      <td>7</td>\n",
              "      <td>NaN</td>\n",
              "      <td>10</td>\n",
              "      <td>3</td>\n",
              "      <td>13.0</td>\n",
              "      <td>1</td>\n",
              "      <td>0.16</td>\n",
              "      <td>1</td>\n",
              "      <td>22.0</td>\n",
              "      <td>4.0</td>\n",
              "      <td>19.0</td>\n",
              "      <td>18.0</td>\n",
              "      <td>19.0</td>\n",
              "      <td>18.0</td>\n",
              "      <td>14.0</td>\n",
              "      <td>12.0</td>\n",
              "      <td>1</td>\n",
              "      <td>10.0</td>\n",
              "      <td>10.0</td>\n",
              "      <td>10.0</td>\n",
              "      <td>10.0</td>\n",
              "      <td>10.0</td>\n",
              "      <td>10.0</td>\n",
              "      <td>10.0</td>\n",
              "      <td>10.0</td>\n",
              "      <td>1.0</td>\n",
              "      <td>21.0</td>\n",
              "      <td>Law</td>\n",
              "      <td>1.0</td>\n",
              "      <td>NaN</td>\n",
              "      <td>NaN</td>\n",
              "      <td>NaN</td>\n",
              "      <td>4.0</td>\n",
              "      <td>2.0</td>\n",
              "      <td>4.0</td>\n",
              "      <td>Chicago</td>\n",
              "      <td>60,521</td>\n",
              "      <td>69,487.00</td>\n",
              "      <td>2.0</td>\n",
              "      <td>7.0</td>\n",
              "      <td>1.0</td>\n",
              "      <td>lawyer</td>\n",
              "      <td>NaN</td>\n",
              "      <td>9.0</td>\n",
              "      <td>2.0</td>\n",
              "      <td>8.0</td>\n",
              "      <td>9.0</td>\n",
              "      <td>1.0</td>\n",
              "      <td>1.0</td>\n",
              "      <td>5.0</td>\n",
              "      <td>1.0</td>\n",
              "      <td>5.0</td>\n",
              "      <td>6.0</td>\n",
              "      <td>9.0</td>\n",
              "      <td>1.0</td>\n",
              "      <td>10.0</td>\n",
              "      <td>10.0</td>\n",
              "      <td>9.0</td>\n",
              "      <td>8.0</td>\n",
              "      <td>1.0</td>\n",
              "      <td>3.0</td>\n",
              "      <td>2.0</td>\n",
              "      <td>15.0</td>\n",
              "      <td>20.0</td>\n",
              "      <td>20.0</td>\n",
              "      <td>15.0</td>\n",
              "      <td>15.0</td>\n",
              "      <td>15.0</td>\n",
              "      <td>NaN</td>\n",
              "      <td>NaN</td>\n",
              "      <td>NaN</td>\n",
              "      <td>NaN</td>\n",
              "      <td>NaN</td>\n",
              "      <td>NaN</td>\n",
              "      <td>35.0</td>\n",
              "      <td>20.0</td>\n",
              "      <td>15.0</td>\n",
              "      <td>20.0</td>\n",
              "      <td>5.0</td>\n",
              "      <td>5.0</td>\n",
              "      <td>6.0</td>\n",
              "      <td>8.0</td>\n",
              "      <td>8.0</td>\n",
              "      <td>8.0</td>\n",
              "      <td>7.0</td>\n",
              "      <td>NaN</td>\n",
              "      <td>NaN</td>\n",
              "      <td>NaN</td>\n",
              "      <td>NaN</td>\n",
              "      <td>NaN</td>\n",
              "      <td>1</td>\n",
              "      <td>5.0</td>\n",
              "      <td>8.0</td>\n",
              "      <td>9.0</td>\n",
              "      <td>8.0</td>\n",
              "      <td>5.0</td>\n",
              "      <td>7.0</td>\n",
              "      <td>7.0</td>\n",
              "      <td>NaN</td>\n",
              "      <td>1.0</td>\n",
              "      <td>4.0</td>\n",
              "      <td>NaN</td>\n",
              "      <td>NaN</td>\n",
              "      <td>NaN</td>\n",
              "      <td>NaN</td>\n",
              "      <td>NaN</td>\n",
              "      <td>NaN</td>\n",
              "      <td>NaN</td>\n",
              "      <td>NaN</td>\n",
              "      <td>NaN</td>\n",
              "      <td>NaN</td>\n",
              "      <td>NaN</td>\n",
              "      <td>6.0</td>\n",
              "      <td>2.0</td>\n",
              "      <td>1.0</td>\n",
              "      <td>NaN</td>\n",
              "      <td>NaN</td>\n",
              "      <td>NaN</td>\n",
              "      <td>NaN</td>\n",
              "      <td>NaN</td>\n",
              "      <td>NaN</td>\n",
              "      <td>19.44</td>\n",
              "      <td>16.67</td>\n",
              "      <td>13.89</td>\n",
              "      <td>22.22</td>\n",
              "      <td>11.11</td>\n",
              "      <td>16.67</td>\n",
              "      <td>NaN</td>\n",
              "      <td>NaN</td>\n",
              "      <td>NaN</td>\n",
              "      <td>NaN</td>\n",
              "      <td>NaN</td>\n",
              "      <td>NaN</td>\n",
              "      <td>NaN</td>\n",
              "      <td>NaN</td>\n",
              "      <td>NaN</td>\n",
              "      <td>NaN</td>\n",
              "      <td>NaN</td>\n",
              "      <td>NaN</td>\n",
              "      <td>6.0</td>\n",
              "      <td>7.0</td>\n",
              "      <td>8.0</td>\n",
              "      <td>7.0</td>\n",
              "      <td>6.0</td>\n",
              "      <td>NaN</td>\n",
              "      <td>NaN</td>\n",
              "      <td>NaN</td>\n",
              "      <td>NaN</td>\n",
              "      <td>NaN</td>\n",
              "      <td>1.0</td>\n",
              "      <td>1.0</td>\n",
              "      <td>0.0</td>\n",
              "      <td>NaN</td>\n",
              "      <td>NaN</td>\n",
              "      <td>15.0</td>\n",
              "      <td>20.0</td>\n",
              "      <td>20.0</td>\n",
              "      <td>15.0</td>\n",
              "      <td>15.0</td>\n",
              "      <td>15.0</td>\n",
              "      <td>NaN</td>\n",
              "      <td>NaN</td>\n",
              "      <td>NaN</td>\n",
              "      <td>NaN</td>\n",
              "      <td>NaN</td>\n",
              "      <td>NaN</td>\n",
              "      <td>NaN</td>\n",
              "      <td>NaN</td>\n",
              "      <td>NaN</td>\n",
              "      <td>NaN</td>\n",
              "      <td>NaN</td>\n",
              "      <td>NaN</td>\n",
              "      <td>NaN</td>\n",
              "      <td>NaN</td>\n",
              "      <td>NaN</td>\n",
              "      <td>NaN</td>\n",
              "      <td>NaN</td>\n",
              "      <td>NaN</td>\n",
              "      <td>5.0</td>\n",
              "      <td>7.0</td>\n",
              "      <td>7.0</td>\n",
              "      <td>7.0</td>\n",
              "      <td>7.0</td>\n",
              "      <td>NaN</td>\n",
              "      <td>NaN</td>\n",
              "      <td>NaN</td>\n",
              "      <td>NaN</td>\n",
              "      <td>NaN</td>\n",
              "    </tr>\n",
              "    <tr>\n",
              "      <th>3</th>\n",
              "      <td>1</td>\n",
              "      <td>1.0</td>\n",
              "      <td>0</td>\n",
              "      <td>1</td>\n",
              "      <td>1</td>\n",
              "      <td>1</td>\n",
              "      <td>10</td>\n",
              "      <td>7</td>\n",
              "      <td>NaN</td>\n",
              "      <td>5</td>\n",
              "      <td>4</td>\n",
              "      <td>14.0</td>\n",
              "      <td>1</td>\n",
              "      <td>0.61</td>\n",
              "      <td>0</td>\n",
              "      <td>23.0</td>\n",
              "      <td>2.0</td>\n",
              "      <td>30.0</td>\n",
              "      <td>5.0</td>\n",
              "      <td>15.0</td>\n",
              "      <td>40.0</td>\n",
              "      <td>5.0</td>\n",
              "      <td>5.0</td>\n",
              "      <td>1</td>\n",
              "      <td>7.0</td>\n",
              "      <td>8.0</td>\n",
              "      <td>9.0</td>\n",
              "      <td>8.0</td>\n",
              "      <td>9.0</td>\n",
              "      <td>8.0</td>\n",
              "      <td>7.0</td>\n",
              "      <td>7.0</td>\n",
              "      <td>2.0</td>\n",
              "      <td>21.0</td>\n",
              "      <td>Law</td>\n",
              "      <td>1.0</td>\n",
              "      <td>NaN</td>\n",
              "      <td>NaN</td>\n",
              "      <td>NaN</td>\n",
              "      <td>4.0</td>\n",
              "      <td>2.0</td>\n",
              "      <td>4.0</td>\n",
              "      <td>Chicago</td>\n",
              "      <td>60,521</td>\n",
              "      <td>69,487.00</td>\n",
              "      <td>2.0</td>\n",
              "      <td>7.0</td>\n",
              "      <td>1.0</td>\n",
              "      <td>lawyer</td>\n",
              "      <td>NaN</td>\n",
              "      <td>9.0</td>\n",
              "      <td>2.0</td>\n",
              "      <td>8.0</td>\n",
              "      <td>9.0</td>\n",
              "      <td>1.0</td>\n",
              "      <td>1.0</td>\n",
              "      <td>5.0</td>\n",
              "      <td>1.0</td>\n",
              "      <td>5.0</td>\n",
              "      <td>6.0</td>\n",
              "      <td>9.0</td>\n",
              "      <td>1.0</td>\n",
              "      <td>10.0</td>\n",
              "      <td>10.0</td>\n",
              "      <td>9.0</td>\n",
              "      <td>8.0</td>\n",
              "      <td>1.0</td>\n",
              "      <td>3.0</td>\n",
              "      <td>2.0</td>\n",
              "      <td>15.0</td>\n",
              "      <td>20.0</td>\n",
              "      <td>20.0</td>\n",
              "      <td>15.0</td>\n",
              "      <td>15.0</td>\n",
              "      <td>15.0</td>\n",
              "      <td>NaN</td>\n",
              "      <td>NaN</td>\n",
              "      <td>NaN</td>\n",
              "      <td>NaN</td>\n",
              "      <td>NaN</td>\n",
              "      <td>NaN</td>\n",
              "      <td>35.0</td>\n",
              "      <td>20.0</td>\n",
              "      <td>15.0</td>\n",
              "      <td>20.0</td>\n",
              "      <td>5.0</td>\n",
              "      <td>5.0</td>\n",
              "      <td>6.0</td>\n",
              "      <td>8.0</td>\n",
              "      <td>8.0</td>\n",
              "      <td>8.0</td>\n",
              "      <td>7.0</td>\n",
              "      <td>NaN</td>\n",
              "      <td>NaN</td>\n",
              "      <td>NaN</td>\n",
              "      <td>NaN</td>\n",
              "      <td>NaN</td>\n",
              "      <td>1</td>\n",
              "      <td>7.0</td>\n",
              "      <td>6.0</td>\n",
              "      <td>8.0</td>\n",
              "      <td>7.0</td>\n",
              "      <td>6.0</td>\n",
              "      <td>8.0</td>\n",
              "      <td>7.0</td>\n",
              "      <td>6.0</td>\n",
              "      <td>2.0</td>\n",
              "      <td>4.0</td>\n",
              "      <td>NaN</td>\n",
              "      <td>NaN</td>\n",
              "      <td>NaN</td>\n",
              "      <td>NaN</td>\n",
              "      <td>NaN</td>\n",
              "      <td>NaN</td>\n",
              "      <td>NaN</td>\n",
              "      <td>NaN</td>\n",
              "      <td>NaN</td>\n",
              "      <td>NaN</td>\n",
              "      <td>NaN</td>\n",
              "      <td>6.0</td>\n",
              "      <td>2.0</td>\n",
              "      <td>1.0</td>\n",
              "      <td>NaN</td>\n",
              "      <td>NaN</td>\n",
              "      <td>NaN</td>\n",
              "      <td>NaN</td>\n",
              "      <td>NaN</td>\n",
              "      <td>NaN</td>\n",
              "      <td>19.44</td>\n",
              "      <td>16.67</td>\n",
              "      <td>13.89</td>\n",
              "      <td>22.22</td>\n",
              "      <td>11.11</td>\n",
              "      <td>16.67</td>\n",
              "      <td>NaN</td>\n",
              "      <td>NaN</td>\n",
              "      <td>NaN</td>\n",
              "      <td>NaN</td>\n",
              "      <td>NaN</td>\n",
              "      <td>NaN</td>\n",
              "      <td>NaN</td>\n",
              "      <td>NaN</td>\n",
              "      <td>NaN</td>\n",
              "      <td>NaN</td>\n",
              "      <td>NaN</td>\n",
              "      <td>NaN</td>\n",
              "      <td>6.0</td>\n",
              "      <td>7.0</td>\n",
              "      <td>8.0</td>\n",
              "      <td>7.0</td>\n",
              "      <td>6.0</td>\n",
              "      <td>NaN</td>\n",
              "      <td>NaN</td>\n",
              "      <td>NaN</td>\n",
              "      <td>NaN</td>\n",
              "      <td>NaN</td>\n",
              "      <td>1.0</td>\n",
              "      <td>1.0</td>\n",
              "      <td>0.0</td>\n",
              "      <td>NaN</td>\n",
              "      <td>NaN</td>\n",
              "      <td>15.0</td>\n",
              "      <td>20.0</td>\n",
              "      <td>20.0</td>\n",
              "      <td>15.0</td>\n",
              "      <td>15.0</td>\n",
              "      <td>15.0</td>\n",
              "      <td>NaN</td>\n",
              "      <td>NaN</td>\n",
              "      <td>NaN</td>\n",
              "      <td>NaN</td>\n",
              "      <td>NaN</td>\n",
              "      <td>NaN</td>\n",
              "      <td>NaN</td>\n",
              "      <td>NaN</td>\n",
              "      <td>NaN</td>\n",
              "      <td>NaN</td>\n",
              "      <td>NaN</td>\n",
              "      <td>NaN</td>\n",
              "      <td>NaN</td>\n",
              "      <td>NaN</td>\n",
              "      <td>NaN</td>\n",
              "      <td>NaN</td>\n",
              "      <td>NaN</td>\n",
              "      <td>NaN</td>\n",
              "      <td>5.0</td>\n",
              "      <td>7.0</td>\n",
              "      <td>7.0</td>\n",
              "      <td>7.0</td>\n",
              "      <td>7.0</td>\n",
              "      <td>NaN</td>\n",
              "      <td>NaN</td>\n",
              "      <td>NaN</td>\n",
              "      <td>NaN</td>\n",
              "      <td>NaN</td>\n",
              "    </tr>\n",
              "    <tr>\n",
              "      <th>4</th>\n",
              "      <td>1</td>\n",
              "      <td>1.0</td>\n",
              "      <td>0</td>\n",
              "      <td>1</td>\n",
              "      <td>1</td>\n",
              "      <td>1</td>\n",
              "      <td>10</td>\n",
              "      <td>7</td>\n",
              "      <td>NaN</td>\n",
              "      <td>7</td>\n",
              "      <td>5</td>\n",
              "      <td>15.0</td>\n",
              "      <td>1</td>\n",
              "      <td>0.21</td>\n",
              "      <td>0</td>\n",
              "      <td>24.0</td>\n",
              "      <td>3.0</td>\n",
              "      <td>30.0</td>\n",
              "      <td>10.0</td>\n",
              "      <td>20.0</td>\n",
              "      <td>10.0</td>\n",
              "      <td>10.0</td>\n",
              "      <td>20.0</td>\n",
              "      <td>1</td>\n",
              "      <td>8.0</td>\n",
              "      <td>7.0</td>\n",
              "      <td>9.0</td>\n",
              "      <td>6.0</td>\n",
              "      <td>9.0</td>\n",
              "      <td>7.0</td>\n",
              "      <td>8.0</td>\n",
              "      <td>6.0</td>\n",
              "      <td>2.0</td>\n",
              "      <td>21.0</td>\n",
              "      <td>Law</td>\n",
              "      <td>1.0</td>\n",
              "      <td>NaN</td>\n",
              "      <td>NaN</td>\n",
              "      <td>NaN</td>\n",
              "      <td>4.0</td>\n",
              "      <td>2.0</td>\n",
              "      <td>4.0</td>\n",
              "      <td>Chicago</td>\n",
              "      <td>60,521</td>\n",
              "      <td>69,487.00</td>\n",
              "      <td>2.0</td>\n",
              "      <td>7.0</td>\n",
              "      <td>1.0</td>\n",
              "      <td>lawyer</td>\n",
              "      <td>NaN</td>\n",
              "      <td>9.0</td>\n",
              "      <td>2.0</td>\n",
              "      <td>8.0</td>\n",
              "      <td>9.0</td>\n",
              "      <td>1.0</td>\n",
              "      <td>1.0</td>\n",
              "      <td>5.0</td>\n",
              "      <td>1.0</td>\n",
              "      <td>5.0</td>\n",
              "      <td>6.0</td>\n",
              "      <td>9.0</td>\n",
              "      <td>1.0</td>\n",
              "      <td>10.0</td>\n",
              "      <td>10.0</td>\n",
              "      <td>9.0</td>\n",
              "      <td>8.0</td>\n",
              "      <td>1.0</td>\n",
              "      <td>3.0</td>\n",
              "      <td>2.0</td>\n",
              "      <td>15.0</td>\n",
              "      <td>20.0</td>\n",
              "      <td>20.0</td>\n",
              "      <td>15.0</td>\n",
              "      <td>15.0</td>\n",
              "      <td>15.0</td>\n",
              "      <td>NaN</td>\n",
              "      <td>NaN</td>\n",
              "      <td>NaN</td>\n",
              "      <td>NaN</td>\n",
              "      <td>NaN</td>\n",
              "      <td>NaN</td>\n",
              "      <td>35.0</td>\n",
              "      <td>20.0</td>\n",
              "      <td>15.0</td>\n",
              "      <td>20.0</td>\n",
              "      <td>5.0</td>\n",
              "      <td>5.0</td>\n",
              "      <td>6.0</td>\n",
              "      <td>8.0</td>\n",
              "      <td>8.0</td>\n",
              "      <td>8.0</td>\n",
              "      <td>7.0</td>\n",
              "      <td>NaN</td>\n",
              "      <td>NaN</td>\n",
              "      <td>NaN</td>\n",
              "      <td>NaN</td>\n",
              "      <td>NaN</td>\n",
              "      <td>1</td>\n",
              "      <td>5.0</td>\n",
              "      <td>6.0</td>\n",
              "      <td>7.0</td>\n",
              "      <td>7.0</td>\n",
              "      <td>6.0</td>\n",
              "      <td>6.0</td>\n",
              "      <td>6.0</td>\n",
              "      <td>6.0</td>\n",
              "      <td>2.0</td>\n",
              "      <td>4.0</td>\n",
              "      <td>NaN</td>\n",
              "      <td>NaN</td>\n",
              "      <td>NaN</td>\n",
              "      <td>NaN</td>\n",
              "      <td>NaN</td>\n",
              "      <td>NaN</td>\n",
              "      <td>NaN</td>\n",
              "      <td>NaN</td>\n",
              "      <td>NaN</td>\n",
              "      <td>NaN</td>\n",
              "      <td>NaN</td>\n",
              "      <td>6.0</td>\n",
              "      <td>2.0</td>\n",
              "      <td>1.0</td>\n",
              "      <td>NaN</td>\n",
              "      <td>NaN</td>\n",
              "      <td>NaN</td>\n",
              "      <td>NaN</td>\n",
              "      <td>NaN</td>\n",
              "      <td>NaN</td>\n",
              "      <td>19.44</td>\n",
              "      <td>16.67</td>\n",
              "      <td>13.89</td>\n",
              "      <td>22.22</td>\n",
              "      <td>11.11</td>\n",
              "      <td>16.67</td>\n",
              "      <td>NaN</td>\n",
              "      <td>NaN</td>\n",
              "      <td>NaN</td>\n",
              "      <td>NaN</td>\n",
              "      <td>NaN</td>\n",
              "      <td>NaN</td>\n",
              "      <td>NaN</td>\n",
              "      <td>NaN</td>\n",
              "      <td>NaN</td>\n",
              "      <td>NaN</td>\n",
              "      <td>NaN</td>\n",
              "      <td>NaN</td>\n",
              "      <td>6.0</td>\n",
              "      <td>7.0</td>\n",
              "      <td>8.0</td>\n",
              "      <td>7.0</td>\n",
              "      <td>6.0</td>\n",
              "      <td>NaN</td>\n",
              "      <td>NaN</td>\n",
              "      <td>NaN</td>\n",
              "      <td>NaN</td>\n",
              "      <td>NaN</td>\n",
              "      <td>1.0</td>\n",
              "      <td>1.0</td>\n",
              "      <td>0.0</td>\n",
              "      <td>NaN</td>\n",
              "      <td>NaN</td>\n",
              "      <td>15.0</td>\n",
              "      <td>20.0</td>\n",
              "      <td>20.0</td>\n",
              "      <td>15.0</td>\n",
              "      <td>15.0</td>\n",
              "      <td>15.0</td>\n",
              "      <td>NaN</td>\n",
              "      <td>NaN</td>\n",
              "      <td>NaN</td>\n",
              "      <td>NaN</td>\n",
              "      <td>NaN</td>\n",
              "      <td>NaN</td>\n",
              "      <td>NaN</td>\n",
              "      <td>NaN</td>\n",
              "      <td>NaN</td>\n",
              "      <td>NaN</td>\n",
              "      <td>NaN</td>\n",
              "      <td>NaN</td>\n",
              "      <td>NaN</td>\n",
              "      <td>NaN</td>\n",
              "      <td>NaN</td>\n",
              "      <td>NaN</td>\n",
              "      <td>NaN</td>\n",
              "      <td>NaN</td>\n",
              "      <td>5.0</td>\n",
              "      <td>7.0</td>\n",
              "      <td>7.0</td>\n",
              "      <td>7.0</td>\n",
              "      <td>7.0</td>\n",
              "      <td>NaN</td>\n",
              "      <td>NaN</td>\n",
              "      <td>NaN</td>\n",
              "      <td>NaN</td>\n",
              "      <td>NaN</td>\n",
              "    </tr>\n",
              "  </tbody>\n",
              "</table>\n",
              "</div>"
            ],
            "text/plain": [
              "   iid   id  gender  idg  condtn  wave  round  position  positin1  order  partner   pid  match  int_corr  samerace  age_o  race_o  pf_o_att  pf_o_sin  pf_o_int  pf_o_fun  pf_o_amb  pf_o_sha  dec_o  attr_o  sinc_o  intel_o  fun_o  amb_o  shar_o  like_o  prob_o  met_o   age field  field_cd undergra mn_sat tuition  race  imprace  imprelig     from zipcode     income  goal  date  go_out  career  career_c  sports  tvsports  exercise  dining  museums  art  hiking  gaming  clubbing  reading   tv  theater  movies  concerts  music  shopping  yoga  exphappy  expnum  attr1_1  sinc1_1  intel1_1  fun1_1  amb1_1  shar1_1  attr4_1  sinc4_1  intel4_1  fun4_1  amb4_1  shar4_1  attr2_1  sinc2_1  intel2_1  fun2_1  amb2_1  shar2_1  attr3_1  sinc3_1  fun3_1  intel3_1  amb3_1  attr5_1  sinc5_1  intel5_1  fun5_1  amb5_1  dec  attr  sinc  intel  fun  amb  shar  like  prob  met  match_es  attr1_s  sinc1_s  intel1_s  fun1_s  amb1_s  shar1_s  attr3_s  sinc3_s  intel3_s  fun3_s  amb3_s  satis_2  length  \\\n",
              "0    1  1.0       0    1       1     1     10         7       NaN      4        1  11.0      0      0.14         0   27.0     2.0      35.0      20.0      20.0      20.0       0.0       5.0      0     6.0     8.0      8.0    8.0    8.0     6.0     7.0     4.0    2.0  21.0   Law       1.0      NaN    NaN     NaN   4.0      2.0       4.0  Chicago  60,521  69,487.00   2.0   7.0     1.0  lawyer       NaN     9.0       2.0       8.0     9.0      1.0  1.0     5.0     1.0       5.0      6.0  9.0      1.0    10.0      10.0    9.0       8.0   1.0       3.0     2.0     15.0     20.0      20.0    15.0    15.0     15.0      NaN      NaN       NaN     NaN     NaN      NaN     35.0     20.0      15.0    20.0     5.0      5.0      6.0      8.0     8.0       8.0     7.0      NaN      NaN       NaN     NaN     NaN    1   6.0   9.0    7.0  7.0  6.0   5.0   7.0   6.0  2.0       4.0      NaN      NaN       NaN     NaN     NaN      NaN      NaN      NaN       NaN     NaN     NaN      6.0     2.0   \n",
              "1    1  1.0       0    1       1     1     10         7       NaN      3        2  12.0      0      0.54         0   22.0     2.0      60.0       0.0       0.0      40.0       0.0       0.0      0     7.0     8.0     10.0    7.0    7.0     5.0     8.0     4.0    2.0  21.0   Law       1.0      NaN    NaN     NaN   4.0      2.0       4.0  Chicago  60,521  69,487.00   2.0   7.0     1.0  lawyer       NaN     9.0       2.0       8.0     9.0      1.0  1.0     5.0     1.0       5.0      6.0  9.0      1.0    10.0      10.0    9.0       8.0   1.0       3.0     2.0     15.0     20.0      20.0    15.0    15.0     15.0      NaN      NaN       NaN     NaN     NaN      NaN     35.0     20.0      15.0    20.0     5.0      5.0      6.0      8.0     8.0       8.0     7.0      NaN      NaN       NaN     NaN     NaN    1   7.0   8.0    7.0  8.0  5.0   6.0   7.0   5.0  1.0       4.0      NaN      NaN       NaN     NaN     NaN      NaN      NaN      NaN       NaN     NaN     NaN      6.0     2.0   \n",
              "2    1  1.0       0    1       1     1     10         7       NaN     10        3  13.0      1      0.16         1   22.0     4.0      19.0      18.0      19.0      18.0      14.0      12.0      1    10.0    10.0     10.0   10.0   10.0    10.0    10.0    10.0    1.0  21.0   Law       1.0      NaN    NaN     NaN   4.0      2.0       4.0  Chicago  60,521  69,487.00   2.0   7.0     1.0  lawyer       NaN     9.0       2.0       8.0     9.0      1.0  1.0     5.0     1.0       5.0      6.0  9.0      1.0    10.0      10.0    9.0       8.0   1.0       3.0     2.0     15.0     20.0      20.0    15.0    15.0     15.0      NaN      NaN       NaN     NaN     NaN      NaN     35.0     20.0      15.0    20.0     5.0      5.0      6.0      8.0     8.0       8.0     7.0      NaN      NaN       NaN     NaN     NaN    1   5.0   8.0    9.0  8.0  5.0   7.0   7.0   NaN  1.0       4.0      NaN      NaN       NaN     NaN     NaN      NaN      NaN      NaN       NaN     NaN     NaN      6.0     2.0   \n",
              "3    1  1.0       0    1       1     1     10         7       NaN      5        4  14.0      1      0.61         0   23.0     2.0      30.0       5.0      15.0      40.0       5.0       5.0      1     7.0     8.0      9.0    8.0    9.0     8.0     7.0     7.0    2.0  21.0   Law       1.0      NaN    NaN     NaN   4.0      2.0       4.0  Chicago  60,521  69,487.00   2.0   7.0     1.0  lawyer       NaN     9.0       2.0       8.0     9.0      1.0  1.0     5.0     1.0       5.0      6.0  9.0      1.0    10.0      10.0    9.0       8.0   1.0       3.0     2.0     15.0     20.0      20.0    15.0    15.0     15.0      NaN      NaN       NaN     NaN     NaN      NaN     35.0     20.0      15.0    20.0     5.0      5.0      6.0      8.0     8.0       8.0     7.0      NaN      NaN       NaN     NaN     NaN    1   7.0   6.0    8.0  7.0  6.0   8.0   7.0   6.0  2.0       4.0      NaN      NaN       NaN     NaN     NaN      NaN      NaN      NaN       NaN     NaN     NaN      6.0     2.0   \n",
              "4    1  1.0       0    1       1     1     10         7       NaN      7        5  15.0      1      0.21         0   24.0     3.0      30.0      10.0      20.0      10.0      10.0      20.0      1     8.0     7.0      9.0    6.0    9.0     7.0     8.0     6.0    2.0  21.0   Law       1.0      NaN    NaN     NaN   4.0      2.0       4.0  Chicago  60,521  69,487.00   2.0   7.0     1.0  lawyer       NaN     9.0       2.0       8.0     9.0      1.0  1.0     5.0     1.0       5.0      6.0  9.0      1.0    10.0      10.0    9.0       8.0   1.0       3.0     2.0     15.0     20.0      20.0    15.0    15.0     15.0      NaN      NaN       NaN     NaN     NaN      NaN     35.0     20.0      15.0    20.0     5.0      5.0      6.0      8.0     8.0       8.0     7.0      NaN      NaN       NaN     NaN     NaN    1   5.0   6.0    7.0  7.0  6.0   6.0   6.0   6.0  2.0       4.0      NaN      NaN       NaN     NaN     NaN      NaN      NaN      NaN       NaN     NaN     NaN      6.0     2.0   \n",
              "\n",
              "   numdat_2  attr7_2  sinc7_2  intel7_2  fun7_2  amb7_2  shar7_2  attr1_2  sinc1_2  intel1_2  fun1_2  amb1_2  shar1_2  attr4_2  sinc4_2  intel4_2  fun4_2  amb4_2  shar4_2  attr2_2  sinc2_2  intel2_2  fun2_2  amb2_2  shar2_2  attr3_2  sinc3_2  intel3_2  fun3_2  amb3_2  attr5_2  sinc5_2  intel5_2  fun5_2  amb5_2  you_call  them_cal  date_3  numdat_3  num_in_3  attr1_3  sinc1_3  intel1_3  fun1_3  amb1_3  shar1_3  attr7_3  sinc7_3  intel7_3  fun7_3  amb7_3  shar7_3  attr4_3  sinc4_3  intel4_3  fun4_3  amb4_3  shar4_3  attr2_3  sinc2_3  intel2_3  fun2_3  amb2_3  shar2_3  attr3_3  sinc3_3  intel3_3  fun3_3  amb3_3  attr5_3  sinc5_3  intel5_3  fun5_3  amb5_3  \n",
              "0       1.0      NaN      NaN       NaN     NaN     NaN      NaN    19.44    16.67     13.89   22.22   11.11    16.67      NaN      NaN       NaN     NaN     NaN      NaN      NaN      NaN       NaN     NaN     NaN      NaN      6.0      7.0       8.0     7.0     6.0      NaN      NaN       NaN     NaN     NaN       1.0       1.0     0.0       NaN       NaN     15.0     20.0      20.0    15.0    15.0     15.0      NaN      NaN       NaN     NaN     NaN      NaN      NaN      NaN       NaN     NaN     NaN      NaN      NaN      NaN       NaN     NaN     NaN      NaN      5.0      7.0       7.0     7.0     7.0      NaN      NaN       NaN     NaN     NaN  \n",
              "1       1.0      NaN      NaN       NaN     NaN     NaN      NaN    19.44    16.67     13.89   22.22   11.11    16.67      NaN      NaN       NaN     NaN     NaN      NaN      NaN      NaN       NaN     NaN     NaN      NaN      6.0      7.0       8.0     7.0     6.0      NaN      NaN       NaN     NaN     NaN       1.0       1.0     0.0       NaN       NaN     15.0     20.0      20.0    15.0    15.0     15.0      NaN      NaN       NaN     NaN     NaN      NaN      NaN      NaN       NaN     NaN     NaN      NaN      NaN      NaN       NaN     NaN     NaN      NaN      5.0      7.0       7.0     7.0     7.0      NaN      NaN       NaN     NaN     NaN  \n",
              "2       1.0      NaN      NaN       NaN     NaN     NaN      NaN    19.44    16.67     13.89   22.22   11.11    16.67      NaN      NaN       NaN     NaN     NaN      NaN      NaN      NaN       NaN     NaN     NaN      NaN      6.0      7.0       8.0     7.0     6.0      NaN      NaN       NaN     NaN     NaN       1.0       1.0     0.0       NaN       NaN     15.0     20.0      20.0    15.0    15.0     15.0      NaN      NaN       NaN     NaN     NaN      NaN      NaN      NaN       NaN     NaN     NaN      NaN      NaN      NaN       NaN     NaN     NaN      NaN      5.0      7.0       7.0     7.0     7.0      NaN      NaN       NaN     NaN     NaN  \n",
              "3       1.0      NaN      NaN       NaN     NaN     NaN      NaN    19.44    16.67     13.89   22.22   11.11    16.67      NaN      NaN       NaN     NaN     NaN      NaN      NaN      NaN       NaN     NaN     NaN      NaN      6.0      7.0       8.0     7.0     6.0      NaN      NaN       NaN     NaN     NaN       1.0       1.0     0.0       NaN       NaN     15.0     20.0      20.0    15.0    15.0     15.0      NaN      NaN       NaN     NaN     NaN      NaN      NaN      NaN       NaN     NaN     NaN      NaN      NaN      NaN       NaN     NaN     NaN      NaN      5.0      7.0       7.0     7.0     7.0      NaN      NaN       NaN     NaN     NaN  \n",
              "4       1.0      NaN      NaN       NaN     NaN     NaN      NaN    19.44    16.67     13.89   22.22   11.11    16.67      NaN      NaN       NaN     NaN     NaN      NaN      NaN      NaN       NaN     NaN     NaN      NaN      6.0      7.0       8.0     7.0     6.0      NaN      NaN       NaN     NaN     NaN       1.0       1.0     0.0       NaN       NaN     15.0     20.0      20.0    15.0    15.0     15.0      NaN      NaN       NaN     NaN     NaN      NaN      NaN      NaN       NaN     NaN     NaN      NaN      NaN      NaN       NaN     NaN     NaN      NaN      5.0      7.0       7.0     7.0     7.0      NaN      NaN       NaN     NaN     NaN  "
            ]
          },
          "metadata": {
            "tags": []
          },
          "execution_count": 507
        }
      ]
    },
    {
      "cell_type": "markdown",
      "metadata": {
        "id": "FCZngNFoOjA9",
        "colab_type": "text"
      },
      "source": [
        "# Features that candidate made at the night of the event"
      ]
    },
    {
      "cell_type": "code",
      "metadata": {
        "id": "QpbC5Tsu8JWD",
        "colab_type": "code",
        "colab": {
          "base_uri": "https://localhost:8080/",
          "height": 189
        },
        "outputId": "e678e2fb-8419-440a-8c5b-0e3925cffbfe"
      },
      "source": [
        "fig, (ax, ax2,ax3,ax4) = plt.subplots(nrows=1,ncols=4, sharey=True) \n",
        "bins=[1,3,5,7,10]\n",
        "groups=['1-3','3-5','5-7','7-10']\n",
        "\n",
        "data['like_o_bin']=pd.cut(data['like_o'],bins,labels=groups)\n",
        "like_o_bin_match=pd.crosstab(data['like_o_bin'],data['match'])\n",
        "like_o_bin_match.div(like_o_bin_match.sum(1).astype(float),axis=0).plot(figsize=(12,2),kind='line',ax=ax)\n",
        "\n",
        "data['attr_o_bin']=pd.cut(data['attr_o'],bins,labels=groups)\n",
        "attr_o_bin_match=pd.crosstab(data['attr_o_bin'],data['match'])\n",
        "attr_o_bin_match.div(attr_o_bin_match.sum(1).astype(float),axis=0).plot(kind='line',ax=ax2)\n",
        "\n",
        "data['sinc_o_bin']=pd.cut(data['sinc_o'],bins,labels=groups)\n",
        "sinc_o_bin_match=pd.crosstab(data['sinc_o_bin'],data['match'])\n",
        "sinc_o_bin_match.div(sinc_o_bin_match.sum(1).astype(float),axis=0).plot(kind='line',ax=ax3)\n",
        "\n",
        "data['intel_o_bin']=pd.cut(data['intel_o'],bins,labels=groups)\n",
        "intel_o_bin_match=pd.crosstab(data['intel_o_bin'],data['match'])\n",
        "intel_o_bin_match.div(intel_o_bin_match.sum(1).astype(float),axis=0).plot(kind='line',ax=ax4)\n"
      ],
      "execution_count": 508,
      "outputs": [
        {
          "output_type": "execute_result",
          "data": {
            "text/plain": [
              "<matplotlib.axes._subplots.AxesSubplot at 0x7fd451d7f128>"
            ]
          },
          "metadata": {
            "tags": []
          },
          "execution_count": 508
        },
        {
          "output_type": "display_data",
          "data": {
            "image/png": "[encoded data removed]",
            "text/plain": [
              "<Figure size 864x144 with 4 Axes>"
            ]
          },
          "metadata": {
            "tags": []
          }
        }
      ]
    },
    {
      "cell_type": "markdown",
      "metadata": {
        "id": "ppFGw1InO1T3",
        "colab_type": "text"
      },
      "source": [
        "It is obsered with candidate with good attraction and with good liking score has better chances of getting date.\n",
        "\n"
      ]
    },
    {
      "cell_type": "code",
      "metadata": {
        "id": "jQmJJuSKCzlI",
        "colab_type": "code",
        "colab": {
          "base_uri": "https://localhost:8080/",
          "height": 190
        },
        "outputId": "c7c77364-6246-48fc-c3db-ed64f69554e4"
      },
      "source": [
        "fig, (ax, ax2,ax3,ax4) = plt.subplots(nrows=1,ncols=4, sharey=True) \n",
        "data['fun_o_bin']=pd.cut(data['fun_o'],bins,labels=groups)\n",
        "fun_o_bin_match=pd.crosstab(data['fun_o_bin'],data['match'])\n",
        "fun_o_bin_match.div(fun_o_bin_match.sum(1).astype(float),axis=0).plot(figsize=(12,2),kind='line',ax=ax)\n",
        "\n",
        "data['amb_o_bin']=pd.cut(data['amb_o'],bins,labels=groups)\n",
        "amb_o_bin_match=pd.crosstab(data['amb_o_bin'],data['match'])\n",
        "amb_o_bin_match.div(amb_o_bin_match.sum(1).astype(float),axis=0).plot(kind='line',ax=ax2)\n",
        "\n",
        "data['shar_o_bin']=pd.cut(data['shar_o'],bins,labels=groups)\n",
        "shar_o_bin_match=pd.crosstab(data['shar_o_bin'],data['match'])\n",
        "shar_o_bin_match.div(shar_o_bin_match.sum(1).astype(float),axis=0).plot(kind='line',ax=ax3)\n",
        "\n",
        "data['prob_o_bin']=pd.cut(data['prob_o'],bins,labels=groups)\n",
        "prob_o_bin_match=pd.crosstab(data['prob_o_bin'],data['match'])\n",
        "prob_o_bin_match.div(prob_o_bin_match.sum(1).astype(float),axis=0).plot(kind='line',ax=ax4)"
      ],
      "execution_count": 509,
      "outputs": [
        {
          "output_type": "execute_result",
          "data": {
            "text/plain": [
              "<matplotlib.axes._subplots.AxesSubplot at 0x7fd44be9ecc0>"
            ]
          },
          "metadata": {
            "tags": []
          },
          "execution_count": 509
        },
        {
          "output_type": "display_data",
          "data": {
            "image/png": "[encoded data removed]",
            "text/plain": [
              "<Figure size 864x144 with 4 Axes>"
            ]
          },
          "metadata": {
            "tags": []
          }
        }
      ]
    },
    {
      "cell_type": "markdown",
      "metadata": {
        "id": "DsrBpU422ptd",
        "colab_type": "text"
      },
      "source": [
        "##Condition -->\n",
        "1=limited choice,\n",
        "2=extensive choice\n"
      ]
    },
    {
      "cell_type": "code",
      "metadata": {
        "id": "urWDeM9s2nc-",
        "colab_type": "code",
        "outputId": "6a92d63f-d220-4637-b2d1-400da43fd2f4",
        "colab": {
          "base_uri": "https://localhost:8080/",
          "height": 142
        }
      },
      "source": [
        "match_condtn=pd.crosstab(data['condtn'],data['match'])\n",
        "match_condtn.div(match_condtn.sum(1).astype(float),axis=0)"
      ],
      "execution_count": 510,
      "outputs": [
        {
          "output_type": "execute_result",
          "data": {
            "text/html": [
              "<div>\n",
              "<style scoped>\n",
              "    .dataframe tbody tr th:only-of-type {\n",
              "        vertical-align: middle;\n",
              "    }\n",
              "\n",
              "    .dataframe tbody tr th {\n",
              "        vertical-align: top;\n",
              "    }\n",
              "\n",
              "    .dataframe thead th {\n",
              "        text-align: right;\n",
              "    }\n",
              "</style>\n",
              "<table border=\"1\" class=\"dataframe\">\n",
              "  <thead>\n",
              "    <tr style=\"text-align: right;\">\n",
              "      <th>match</th>\n",
              "      <th>0</th>\n",
              "      <th>1</th>\n",
              "    </tr>\n",
              "    <tr>\n",
              "      <th>condtn</th>\n",
              "      <th></th>\n",
              "      <th></th>\n",
              "    </tr>\n",
              "  </thead>\n",
              "  <tbody>\n",
              "    <tr>\n",
              "      <th>1</th>\n",
              "      <td>0.797768</td>\n",
              "      <td>0.202232</td>\n",
              "    </tr>\n",
              "    <tr>\n",
              "      <th>2</th>\n",
              "      <td>0.843030</td>\n",
              "      <td>0.156970</td>\n",
              "    </tr>\n",
              "  </tbody>\n",
              "</table>\n",
              "</div>"
            ],
            "text/plain": [
              "match          0         1\n",
              "condtn                    \n",
              "1       0.797768  0.202232\n",
              "2       0.843030  0.156970"
            ]
          },
          "metadata": {
            "tags": []
          },
          "execution_count": 510
        }
      ]
    },
    {
      "cell_type": "markdown",
      "metadata": {
        "id": "--VKKbo026Mm",
        "colab_type": "text"
      },
      "source": [
        "Candidate with limited choices have got more matches than candidate with extensive choices"
      ]
    },
    {
      "cell_type": "markdown",
      "metadata": {
        "id": "T0EilwvB2-0o",
        "colab_type": "text"
      },
      "source": [
        "##Wave"
      ]
    },
    {
      "cell_type": "code",
      "metadata": {
        "id": "2kFEdkgl3NZF",
        "colab_type": "code",
        "colab": {}
      },
      "source": [
        "bins=[1,5,10,15,20,25] \n",
        "group=['1-5','5-10','10-15','15-20','20-25']\n",
        "data['wave_bin']=pd.cut(data['wave'],bins,labels=group)"
      ],
      "execution_count": 0,
      "outputs": []
    },
    {
      "cell_type": "code",
      "metadata": {
        "id": "1iKkgYDM2nSY",
        "colab_type": "code",
        "outputId": "7a36cf94-d25f-4c30-d31d-17f7a12f8536",
        "colab": {
          "base_uri": "https://localhost:8080/",
          "height": 235
        }
      },
      "source": [
        "match_wave=pd.crosstab(data['wave_bin'],data['match'])\n",
        "match_wave.div(match_wave.sum(axis=1,skipna = True).astype(float),axis=0)"
      ],
      "execution_count": 512,
      "outputs": [
        {
          "output_type": "execute_result",
          "data": {
            "text/html": [
              "<div>\n",
              "<style scoped>\n",
              "    .dataframe tbody tr th:only-of-type {\n",
              "        vertical-align: middle;\n",
              "    }\n",
              "\n",
              "    .dataframe tbody tr th {\n",
              "        vertical-align: top;\n",
              "    }\n",
              "\n",
              "    .dataframe thead th {\n",
              "        text-align: right;\n",
              "    }\n",
              "</style>\n",
              "<table border=\"1\" class=\"dataframe\">\n",
              "  <thead>\n",
              "    <tr style=\"text-align: right;\">\n",
              "      <th>match</th>\n",
              "      <th>0</th>\n",
              "      <th>1</th>\n",
              "    </tr>\n",
              "    <tr>\n",
              "      <th>wave_bin</th>\n",
              "      <th></th>\n",
              "      <th></th>\n",
              "    </tr>\n",
              "  </thead>\n",
              "  <tbody>\n",
              "    <tr>\n",
              "      <th>1-5</th>\n",
              "      <td>0.834751</td>\n",
              "      <td>0.165249</td>\n",
              "    </tr>\n",
              "    <tr>\n",
              "      <th>5-10</th>\n",
              "      <td>0.834107</td>\n",
              "      <td>0.165893</td>\n",
              "    </tr>\n",
              "    <tr>\n",
              "      <th>10-15</th>\n",
              "      <td>0.841148</td>\n",
              "      <td>0.158852</td>\n",
              "    </tr>\n",
              "    <tr>\n",
              "      <th>15-20</th>\n",
              "      <td>0.835031</td>\n",
              "      <td>0.164969</td>\n",
              "    </tr>\n",
              "    <tr>\n",
              "      <th>20-25</th>\n",
              "      <td>0.851240</td>\n",
              "      <td>0.148760</td>\n",
              "    </tr>\n",
              "  </tbody>\n",
              "</table>\n",
              "</div>"
            ],
            "text/plain": [
              "match            0         1\n",
              "wave_bin                    \n",
              "1-5       0.834751  0.165249\n",
              "5-10      0.834107  0.165893\n",
              "10-15     0.841148  0.158852\n",
              "15-20     0.835031  0.164969\n",
              "20-25     0.851240  0.148760"
            ]
          },
          "metadata": {
            "tags": []
          },
          "execution_count": 512
        }
      ]
    },
    {
      "cell_type": "markdown",
      "metadata": {
        "id": "pm0qMFxk3plH",
        "colab_type": "text"
      },
      "source": [
        "All most all the waves have equal chances for match"
      ]
    },
    {
      "cell_type": "markdown",
      "metadata": {
        "id": "awXSRudh32Mz",
        "colab_type": "text"
      },
      "source": [
        "## Round--> number of people that met in wave"
      ]
    },
    {
      "cell_type": "code",
      "metadata": {
        "id": "1-1evR4I38aD",
        "colab_type": "code",
        "colab": {}
      },
      "source": [
        "bins=[1,5,10,15,20,25] \n",
        "group=['1-5','5-10','10-15','15-20','20-25']\n",
        "data['round_bin']=pd.cut(data['round'],bins,labels=group)"
      ],
      "execution_count": 0,
      "outputs": []
    },
    {
      "cell_type": "code",
      "metadata": {
        "id": "H7EXRTGv2nLr",
        "colab_type": "code",
        "outputId": "c166a790-244b-41eb-d04c-1cf16d23627d",
        "colab": {
          "base_uri": "https://localhost:8080/",
          "height": 235
        }
      },
      "source": [
        "round_match=pd.crosstab(data['round_bin'],data['match'])\n",
        "round_match.div(round_match.sum(1).astype(float),axis=0)"
      ],
      "execution_count": 514,
      "outputs": [
        {
          "output_type": "execute_result",
          "data": {
            "text/html": [
              "<div>\n",
              "<style scoped>\n",
              "    .dataframe tbody tr th:only-of-type {\n",
              "        vertical-align: middle;\n",
              "    }\n",
              "\n",
              "    .dataframe tbody tr th {\n",
              "        vertical-align: top;\n",
              "    }\n",
              "\n",
              "    .dataframe thead th {\n",
              "        text-align: right;\n",
              "    }\n",
              "</style>\n",
              "<table border=\"1\" class=\"dataframe\">\n",
              "  <thead>\n",
              "    <tr style=\"text-align: right;\">\n",
              "      <th>match</th>\n",
              "      <th>0</th>\n",
              "      <th>1</th>\n",
              "    </tr>\n",
              "    <tr>\n",
              "      <th>round_bin</th>\n",
              "      <th></th>\n",
              "      <th></th>\n",
              "    </tr>\n",
              "  </thead>\n",
              "  <tbody>\n",
              "    <tr>\n",
              "      <th>1-5</th>\n",
              "      <td>0.800000</td>\n",
              "      <td>0.200000</td>\n",
              "    </tr>\n",
              "    <tr>\n",
              "      <th>5-10</th>\n",
              "      <td>0.797688</td>\n",
              "      <td>0.202312</td>\n",
              "    </tr>\n",
              "    <tr>\n",
              "      <th>10-15</th>\n",
              "      <td>0.853832</td>\n",
              "      <td>0.146168</td>\n",
              "    </tr>\n",
              "    <tr>\n",
              "      <th>15-20</th>\n",
              "      <td>0.835347</td>\n",
              "      <td>0.164653</td>\n",
              "    </tr>\n",
              "    <tr>\n",
              "      <th>20-25</th>\n",
              "      <td>0.852973</td>\n",
              "      <td>0.147027</td>\n",
              "    </tr>\n",
              "  </tbody>\n",
              "</table>\n",
              "</div>"
            ],
            "text/plain": [
              "match             0         1\n",
              "round_bin                    \n",
              "1-5        0.800000  0.200000\n",
              "5-10       0.797688  0.202312\n",
              "10-15      0.853832  0.146168\n",
              "15-20      0.835347  0.164653\n",
              "20-25      0.852973  0.147027"
            ]
          },
          "metadata": {
            "tags": []
          },
          "execution_count": 514
        }
      ]
    },
    {
      "cell_type": "markdown",
      "metadata": {
        "id": "51eXqzoO4cTf",
        "colab_type": "text"
      },
      "source": [
        "##Order--> the number of date that night when met partner"
      ]
    },
    {
      "cell_type": "code",
      "metadata": {
        "id": "4OkSw4Dr2nCM",
        "colab_type": "code",
        "outputId": "9ef15479-ddef-47a0-ef05-b5fe4b909c45",
        "colab": {
          "base_uri": "https://localhost:8080/",
          "height": 235
        }
      },
      "source": [
        "bins=[1,5,10,15,20,25]\n",
        "group=['1-5','5-10','10-15','15-20','20-25']\n",
        "data['order_bin']=pd.cut(data['order'],bins,labels=group)\n",
        "order_match=pd.crosstab(data['order_bin'],data['match'])\n",
        "order_match.div(order_match.sum(1).astype(float),axis=0)"
      ],
      "execution_count": 515,
      "outputs": [
        {
          "output_type": "execute_result",
          "data": {
            "text/html": [
              "<div>\n",
              "<style scoped>\n",
              "    .dataframe tbody tr th:only-of-type {\n",
              "        vertical-align: middle;\n",
              "    }\n",
              "\n",
              "    .dataframe tbody tr th {\n",
              "        vertical-align: top;\n",
              "    }\n",
              "\n",
              "    .dataframe thead th {\n",
              "        text-align: right;\n",
              "    }\n",
              "</style>\n",
              "<table border=\"1\" class=\"dataframe\">\n",
              "  <thead>\n",
              "    <tr style=\"text-align: right;\">\n",
              "      <th>match</th>\n",
              "      <th>0</th>\n",
              "      <th>1</th>\n",
              "    </tr>\n",
              "    <tr>\n",
              "      <th>order_bin</th>\n",
              "      <th></th>\n",
              "      <th></th>\n",
              "    </tr>\n",
              "  </thead>\n",
              "  <tbody>\n",
              "    <tr>\n",
              "      <th>1-5</th>\n",
              "      <td>0.829855</td>\n",
              "      <td>0.170145</td>\n",
              "    </tr>\n",
              "    <tr>\n",
              "      <th>5-10</th>\n",
              "      <td>0.830248</td>\n",
              "      <td>0.169752</td>\n",
              "    </tr>\n",
              "    <tr>\n",
              "      <th>10-15</th>\n",
              "      <td>0.856202</td>\n",
              "      <td>0.143798</td>\n",
              "    </tr>\n",
              "    <tr>\n",
              "      <th>15-20</th>\n",
              "      <td>0.850707</td>\n",
              "      <td>0.149293</td>\n",
              "    </tr>\n",
              "    <tr>\n",
              "      <th>20-25</th>\n",
              "      <td>0.876923</td>\n",
              "      <td>0.123077</td>\n",
              "    </tr>\n",
              "  </tbody>\n",
              "</table>\n",
              "</div>"
            ],
            "text/plain": [
              "match             0         1\n",
              "order_bin                    \n",
              "1-5        0.829855  0.170145\n",
              "5-10       0.830248  0.169752\n",
              "10-15      0.856202  0.143798\n",
              "15-20      0.850707  0.149293\n",
              "20-25      0.876923  0.123077"
            ]
          },
          "metadata": {
            "tags": []
          },
          "execution_count": 515
        }
      ]
    },
    {
      "cell_type": "markdown",
      "metadata": {
        "id": "qaGMbTpTaoql",
        "colab_type": "text"
      },
      "source": [
        "##Age of partner"
      ]
    },
    {
      "cell_type": "code",
      "metadata": {
        "id": "_32ouOYr2m9q",
        "colab_type": "code",
        "outputId": "ba391a2e-7ba2-440c-b9fc-2a3e6278e0c8",
        "colab": {
          "base_uri": "https://localhost:8080/",
          "height": 204
        }
      },
      "source": [
        "bins=[18,28,38,48,60] \n",
        "group=['Young','late-20s','late-30s','late-40s']\n",
        "data['age_o_bin']=pd.cut(data['age_o'],bins,labels=group)\n",
        "data['age_o_bin']=data['age_o_bin'].replace('Young',0)\n",
        "data['age_o_bin']=data['age_o_bin'].replace('late-20s',1)\n",
        "data['age_o_bin']=data['age_o_bin'].replace('late-30s',2)\n",
        "data['age_o_bin']=data['age_o_bin'].replace('late-40s',3)\n",
        "age_o_match=pd.crosstab(data['age_o_bin'],data['match'])\n",
        "age_o_match.div(age_o_match.sum(1).astype(float),axis=0)"
      ],
      "execution_count": 516,
      "outputs": [
        {
          "output_type": "execute_result",
          "data": {
            "text/html": [
              "<div>\n",
              "<style scoped>\n",
              "    .dataframe tbody tr th:only-of-type {\n",
              "        vertical-align: middle;\n",
              "    }\n",
              "\n",
              "    .dataframe tbody tr th {\n",
              "        vertical-align: top;\n",
              "    }\n",
              "\n",
              "    .dataframe thead th {\n",
              "        text-align: right;\n",
              "    }\n",
              "</style>\n",
              "<table border=\"1\" class=\"dataframe\">\n",
              "  <thead>\n",
              "    <tr style=\"text-align: right;\">\n",
              "      <th>match</th>\n",
              "      <th>0</th>\n",
              "      <th>1</th>\n",
              "    </tr>\n",
              "    <tr>\n",
              "      <th>age_o_bin</th>\n",
              "      <th></th>\n",
              "      <th></th>\n",
              "    </tr>\n",
              "  </thead>\n",
              "  <tbody>\n",
              "    <tr>\n",
              "      <th>0.0</th>\n",
              "      <td>0.827257</td>\n",
              "      <td>0.172743</td>\n",
              "    </tr>\n",
              "    <tr>\n",
              "      <th>1.0</th>\n",
              "      <td>0.860309</td>\n",
              "      <td>0.139691</td>\n",
              "    </tr>\n",
              "    <tr>\n",
              "      <th>2.0</th>\n",
              "      <td>0.842105</td>\n",
              "      <td>0.157895</td>\n",
              "    </tr>\n",
              "    <tr>\n",
              "      <th>3.0</th>\n",
              "      <td>1.000000</td>\n",
              "      <td>0.000000</td>\n",
              "    </tr>\n",
              "  </tbody>\n",
              "</table>\n",
              "</div>"
            ],
            "text/plain": [
              "match             0         1\n",
              "age_o_bin                    \n",
              "0.0        0.827257  0.172743\n",
              "1.0        0.860309  0.139691\n",
              "2.0        0.842105  0.157895\n",
              "3.0        1.000000  0.000000"
            ]
          },
          "metadata": {
            "tags": []
          },
          "execution_count": 516
        }
      ]
    },
    {
      "cell_type": "markdown",
      "metadata": {
        "id": "6HbcmJKS4vW_",
        "colab_type": "text"
      },
      "source": [
        "We can say partner with all age group have equal chances of match"
      ]
    },
    {
      "cell_type": "markdown",
      "metadata": {
        "id": "B2v3wz7l411e",
        "colab_type": "text"
      },
      "source": [
        "##Race--> Race of partner"
      ]
    },
    {
      "cell_type": "code",
      "metadata": {
        "id": "7zjAOhx12mwu",
        "colab_type": "code",
        "outputId": "6b6c34c9-6eea-42ef-e8e1-0cd172a78ace",
        "colab": {
          "base_uri": "https://localhost:8080/",
          "height": 235
        }
      },
      "source": [
        "race_o_match=pd.crosstab(data['race_o'],data['match'])\n",
        "race_o_match.div(race_o_match.sum(1).astype(float),axis=0)"
      ],
      "execution_count": 517,
      "outputs": [
        {
          "output_type": "execute_result",
          "data": {
            "text/html": [
              "<div>\n",
              "<style scoped>\n",
              "    .dataframe tbody tr th:only-of-type {\n",
              "        vertical-align: middle;\n",
              "    }\n",
              "\n",
              "    .dataframe tbody tr th {\n",
              "        vertical-align: top;\n",
              "    }\n",
              "\n",
              "    .dataframe thead th {\n",
              "        text-align: right;\n",
              "    }\n",
              "</style>\n",
              "<table border=\"1\" class=\"dataframe\">\n",
              "  <thead>\n",
              "    <tr style=\"text-align: right;\">\n",
              "      <th>match</th>\n",
              "      <th>0</th>\n",
              "      <th>1</th>\n",
              "    </tr>\n",
              "    <tr>\n",
              "      <th>race_o</th>\n",
              "      <th></th>\n",
              "      <th></th>\n",
              "    </tr>\n",
              "  </thead>\n",
              "  <tbody>\n",
              "    <tr>\n",
              "      <th>1.0</th>\n",
              "      <td>0.797619</td>\n",
              "      <td>0.202381</td>\n",
              "    </tr>\n",
              "    <tr>\n",
              "      <th>2.0</th>\n",
              "      <td>0.833122</td>\n",
              "      <td>0.166878</td>\n",
              "    </tr>\n",
              "    <tr>\n",
              "      <th>3.0</th>\n",
              "      <td>0.814759</td>\n",
              "      <td>0.185241</td>\n",
              "    </tr>\n",
              "    <tr>\n",
              "      <th>4.0</th>\n",
              "      <td>0.865015</td>\n",
              "      <td>0.134985</td>\n",
              "    </tr>\n",
              "    <tr>\n",
              "      <th>6.0</th>\n",
              "      <td>0.802303</td>\n",
              "      <td>0.197697</td>\n",
              "    </tr>\n",
              "  </tbody>\n",
              "</table>\n",
              "</div>"
            ],
            "text/plain": [
              "match          0         1\n",
              "race_o                    \n",
              "1.0     0.797619  0.202381\n",
              "2.0     0.833122  0.166878\n",
              "3.0     0.814759  0.185241\n",
              "4.0     0.865015  0.134985\n",
              "6.0     0.802303  0.197697"
            ]
          },
          "metadata": {
            "tags": []
          },
          "execution_count": 517
        }
      ]
    },
    {
      "cell_type": "markdown",
      "metadata": {
        "id": "QMQzJ8xG47pB",
        "colab_type": "text"
      },
      "source": [
        "Partner's race is not a concern to find a match"
      ]
    },
    {
      "cell_type": "markdown",
      "metadata": {
        "id": "320c2JhY5GYv",
        "colab_type": "text"
      },
      "source": [
        "##Pf_o_att-->partner’s stated preference at Time 1 (attr1_1) for all 6 attributes\n",
        "\n"
      ]
    },
    {
      "cell_type": "code",
      "metadata": {
        "id": "uQ6u3NKF2mmp",
        "colab_type": "code",
        "outputId": "7e2f1315-9baa-4620-83cc-d7abc0986f7b",
        "colab": {
          "base_uri": "https://localhost:8080/",
          "height": 263
        }
      },
      "source": [
        "import matplotlib.pyplot as plt\n",
        "fig, (ax, ax2,ax3) = plt.subplots(nrows=1,ncols=3, sharey=True) \n",
        "bins=[10,20,30,40,50,60,70,80,90,100,110]\n",
        "group=['10-20','20-30','30-40','40-50','50-60','60-70','70-80','80-90','90-100','100-110']\n",
        "data['pf_o_att_bin']=pd.cut(data['pf_o_att'],bins,labels=group)\n",
        "pf_o_att_gender=pd.crosstab(data['pf_o_att_bin'],data['gender'])\n",
        "pf_o_att_gender.div(pf_o_att_gender.sum(1).astype(float),axis=0).plot(figsize=(18,3),kind='line',ax = ax)\n",
        "\n",
        "bins=[10,20,30,40,50,60]\n",
        "group=['10-20','20-30','30-40','40-50','50-60']\n",
        "data['pf_o_sin_bin']=pd.cut(data['pf_o_sin'],bins,labels=group)\n",
        "pf_o_sin_gender=pd.crosstab(data['pf_o_sin_bin'],data['gender'])\n",
        "pf_o_sin_gender.div(pf_o_sin_gender.sum(1).astype(float),axis=0).plot(kind='line',ax=ax2)\n",
        "\n",
        "bins=[10,20,30,40,50,60]\n",
        "group=['10-20','20-30','30-40','40-50','50-60']\n",
        "data['pf_o_int_bin']=pd.cut(data['pf_o_int'],bins,labels=group)\n",
        "pf_o_int_gender=pd.crosstab(data['pf_o_int_bin'],data['gender'])\n",
        "pf_o_int_gender.div(pf_o_int_gender.sum(1).astype(float),axis=0).plot(kind='line',ax=ax3)"
      ],
      "execution_count": 518,
      "outputs": [
        {
          "output_type": "execute_result",
          "data": {
            "text/plain": [
              "<matplotlib.axes._subplots.AxesSubplot at 0x7fd44bd6ef28>"
            ]
          },
          "metadata": {
            "tags": []
          },
          "execution_count": 518
        },
        {
          "output_type": "display_data",
          "data": {
            "image/png": "[encoded data removed]",
            "text/plain": [
              "<Figure size 1296x216 with 3 Axes>"
            ]
          },
          "metadata": {
            "tags": []
          }
        }
      ]
    },
    {
      "cell_type": "markdown",
      "metadata": {
        "id": "YU2OiXSV5UHv",
        "colab_type": "text"
      },
      "source": [
        "Higher the attractive points more chances of getting date"
      ]
    },
    {
      "cell_type": "code",
      "metadata": {
        "id": "f-Z0SAgWoMTB",
        "colab_type": "code",
        "colab": {
          "base_uri": "https://localhost:8080/",
          "height": 263
        },
        "outputId": "65ce8303-4bbe-4f95-e42c-c755e3e32b4a"
      },
      "source": [
        "fig, (ax, ax2,ax3) = plt.subplots(nrows=1,ncols=3, sharey=True) \n",
        "bins=[10,20,30,40,50,60]\n",
        "\n",
        "group=['10-20','20-30','30-40','40-50','50-60']\n",
        "data['pf_o_fun_bin']=pd.cut(data['pf_o_fun'],bins,labels=group)\n",
        "pf_o_fun_gender=pd.crosstab(data['pf_o_fun_bin'],data['gender'])\n",
        "pf_o_fun_gender.div(pf_o_fun_gender.sum(1).astype(float),axis=0).plot(figsize=(18,3),kind='line',ax = ax)\n",
        "\n",
        "\n",
        "data['pf_o_amb_bin']=pd.cut(data['pf_o_amb'],bins,labels=group)\n",
        "pf_o_amb_gender=pd.crosstab(data['pf_o_amb_bin'],data['gender'])\n",
        "pf_o_amb_gender.div(pf_o_amb_gender.sum(1).astype(float),axis=0).plot(kind='line',ax=ax2)\n",
        "\n",
        "data['pf_o_sha_bin']=pd.cut(data['pf_o_sha'],bins,labels=group)\n",
        "pf_o_sha_gender=pd.crosstab(data['pf_o_sha_bin'],data['gender'])\n",
        "pf_o_sha_gender.div(pf_o_sha_gender.sum(1).astype(float),axis=0).plot(kind='line',ax=ax3)"
      ],
      "execution_count": 519,
      "outputs": [
        {
          "output_type": "execute_result",
          "data": {
            "text/plain": [
              "<matplotlib.axes._subplots.AxesSubplot at 0x7fd44bc2f6a0>"
            ]
          },
          "metadata": {
            "tags": []
          },
          "execution_count": 519
        },
        {
          "output_type": "display_data",
          "data": {
            "image/png": "[encoded data removed]",
            "text/plain": [
              "<Figure size 1296x216 with 3 Axes>"
            ]
          },
          "metadata": {
            "tags": []
          }
        }
      ]
    },
    {
      "cell_type": "markdown",
      "metadata": {
        "id": "fVxfBm-ibSHo",
        "colab_type": "text"
      },
      "source": [
        "##Decision of partner the night of event\n",
        "\n"
      ]
    },
    {
      "cell_type": "code",
      "metadata": {
        "id": "O6oXZaqy2mda",
        "colab_type": "code",
        "outputId": "ff536caf-ef6f-4504-b28a-2c11635c6686",
        "colab": {
          "base_uri": "https://localhost:8080/",
          "height": 142
        }
      },
      "source": [
        "dec_o_match=pd.crosstab(data['dec_o'],data['match'])\n",
        "dec_o_match.div(dec_o_match.sum(1).astype(float),axis=0)"
      ],
      "execution_count": 520,
      "outputs": [
        {
          "output_type": "execute_result",
          "data": {
            "text/html": [
              "<div>\n",
              "<style scoped>\n",
              "    .dataframe tbody tr th:only-of-type {\n",
              "        vertical-align: middle;\n",
              "    }\n",
              "\n",
              "    .dataframe tbody tr th {\n",
              "        vertical-align: top;\n",
              "    }\n",
              "\n",
              "    .dataframe thead th {\n",
              "        text-align: right;\n",
              "    }\n",
              "</style>\n",
              "<table border=\"1\" class=\"dataframe\">\n",
              "  <thead>\n",
              "    <tr style=\"text-align: right;\">\n",
              "      <th>match</th>\n",
              "      <th>0</th>\n",
              "      <th>1</th>\n",
              "    </tr>\n",
              "    <tr>\n",
              "      <th>dec_o</th>\n",
              "      <th></th>\n",
              "      <th></th>\n",
              "    </tr>\n",
              "  </thead>\n",
              "  <tbody>\n",
              "    <tr>\n",
              "      <th>0</th>\n",
              "      <td>1.000000</td>\n",
              "      <td>0.000000</td>\n",
              "    </tr>\n",
              "    <tr>\n",
              "      <th>1</th>\n",
              "      <td>0.607397</td>\n",
              "      <td>0.392603</td>\n",
              "    </tr>\n",
              "  </tbody>\n",
              "</table>\n",
              "</div>"
            ],
            "text/plain": [
              "match         0         1\n",
              "dec_o                    \n",
              "0      1.000000  0.000000\n",
              "1      0.607397  0.392603"
            ]
          },
          "metadata": {
            "tags": []
          },
          "execution_count": 520
        }
      ]
    },
    {
      "cell_type": "markdown",
      "metadata": {
        "id": "AkoKasg1p-dn",
        "colab_type": "text"
      },
      "source": [
        "Candidate which has made decisiononthe night of event have got matches"
      ]
    },
    {
      "cell_type": "markdown",
      "metadata": {
        "id": "5hzZTxh61O0k",
        "colab_type": "text"
      },
      "source": [
        "# Let's make data with respect to men and women of different age\n",
        "\n",
        "Time 1"
      ]
    },
    {
      "cell_type": "code",
      "metadata": {
        "id": "6TdO0qH71ECt",
        "colab_type": "code",
        "colab": {}
      },
      "source": [
        "data['age']=data['age'].fillna(27)"
      ],
      "execution_count": 0,
      "outputs": []
    },
    {
      "cell_type": "code",
      "metadata": {
        "id": "89g6XkRx1EAb",
        "colab_type": "code",
        "colab": {}
      },
      "source": [
        "bins=[18,28,38,48,60] \n",
        "group=['Young','late-20s','late-30s','late-40s']\n",
        "data['age_bin']=pd.cut(data['age'],bins,labels=group)"
      ],
      "execution_count": 0,
      "outputs": []
    },
    {
      "cell_type": "code",
      "metadata": {
        "id": "LCjNDMDD1D-L",
        "colab_type": "code",
        "colab": {}
      },
      "source": [
        "data['age_bin']=data['age_bin'].replace('Young',0)\n",
        "data['age_bin']=data['age_bin'].replace('late-20s',1)\n",
        "data['age_bin']=data['age_bin'].replace('late-30s',2)\n",
        "data['age_bin']=data['age_bin'].replace('late-40s',3)"
      ],
      "execution_count": 0,
      "outputs": []
    },
    {
      "cell_type": "markdown",
      "metadata": {
        "id": "7XCXj_cP1toA",
        "colab_type": "text"
      },
      "source": [
        "Young --> 0\n",
        "\n",
        "late-20s -->1\n",
        "\n",
        "late-30s -->2\n",
        "\n",
        "late-40s -->3"
      ]
    },
    {
      "cell_type": "code",
      "metadata": {
        "id": "H6ldcL6n1D7-",
        "colab_type": "code",
        "outputId": "e3821d09-27d2-4542-e054-4352bc04f0b6",
        "colab": {
          "base_uri": "https://localhost:8080/",
          "height": 204
        }
      },
      "source": [
        "age_bin_match=pd.crosstab(data['age_bin'],data['match'])\n",
        "age_bin_match.div(age_bin_match.sum(1).astype(float),axis=0)"
      ],
      "execution_count": 524,
      "outputs": [
        {
          "output_type": "execute_result",
          "data": {
            "text/html": [
              "<div>\n",
              "<style scoped>\n",
              "    .dataframe tbody tr th:only-of-type {\n",
              "        vertical-align: middle;\n",
              "    }\n",
              "\n",
              "    .dataframe tbody tr th {\n",
              "        vertical-align: top;\n",
              "    }\n",
              "\n",
              "    .dataframe thead th {\n",
              "        text-align: right;\n",
              "    }\n",
              "</style>\n",
              "<table border=\"1\" class=\"dataframe\">\n",
              "  <thead>\n",
              "    <tr style=\"text-align: right;\">\n",
              "      <th>match</th>\n",
              "      <th>0</th>\n",
              "      <th>1</th>\n",
              "    </tr>\n",
              "    <tr>\n",
              "      <th>age_bin</th>\n",
              "      <th></th>\n",
              "      <th></th>\n",
              "    </tr>\n",
              "  </thead>\n",
              "  <tbody>\n",
              "    <tr>\n",
              "      <th>0.0</th>\n",
              "      <td>0.827224</td>\n",
              "      <td>0.172776</td>\n",
              "    </tr>\n",
              "    <tr>\n",
              "      <th>1.0</th>\n",
              "      <td>0.860309</td>\n",
              "      <td>0.139691</td>\n",
              "    </tr>\n",
              "    <tr>\n",
              "      <th>2.0</th>\n",
              "      <td>0.842105</td>\n",
              "      <td>0.157895</td>\n",
              "    </tr>\n",
              "    <tr>\n",
              "      <th>3.0</th>\n",
              "      <td>1.000000</td>\n",
              "      <td>0.000000</td>\n",
              "    </tr>\n",
              "  </tbody>\n",
              "</table>\n",
              "</div>"
            ],
            "text/plain": [
              "match           0         1\n",
              "age_bin                    \n",
              "0.0      0.827224  0.172776\n",
              "1.0      0.860309  0.139691\n",
              "2.0      0.842105  0.157895\n",
              "3.0      1.000000  0.000000"
            ]
          },
          "metadata": {
            "tags": []
          },
          "execution_count": 524
        }
      ]
    },
    {
      "cell_type": "code",
      "metadata": {
        "id": "mM7cp2QM1D4-",
        "colab_type": "code",
        "outputId": "2ea38b6f-6d9c-4f0d-8a89-d63d736a8bfe",
        "colab": {
          "base_uri": "https://localhost:8080/",
          "height": 303
        }
      },
      "source": [
        "age_bin_match.div(age_bin_match.sum(1).astype(float),axis=0).plot(kind='bar')"
      ],
      "execution_count": 525,
      "outputs": [
        {
          "output_type": "execute_result",
          "data": {
            "text/plain": [
              "<matplotlib.axes._subplots.AxesSubplot at 0x7fd44bf24128>"
            ]
          },
          "metadata": {
            "tags": []
          },
          "execution_count": 525
        },
        {
          "output_type": "display_data",
          "data": {
            "image/png": "[encoded data removed]",
            "text/plain": [
              "<Figure size 432x288 with 1 Axes>"
            ]
          },
          "metadata": {
            "tags": []
          }
        }
      ]
    },
    {
      "cell_type": "markdown",
      "metadata": {
        "id": "zPcYO1as16TW",
        "colab_type": "text"
      },
      "source": [
        "1.It can be infer that people with age group between 28-38 have highest number of NO match 86%\n",
        "\n",
        "2.People with age group between 18-28 has highest number of match 17%\n",
        "\n",
        "3.People above 48 has no match at all"
      ]
    },
    {
      "cell_type": "markdown",
      "metadata": {
        "id": "nGw9vmpk2Ay5",
        "colab_type": "text"
      },
      "source": [
        "## Which Gender falls in which age group\n"
      ]
    },
    {
      "cell_type": "code",
      "metadata": {
        "id": "sRMT647z1D2r",
        "colab_type": "code",
        "outputId": "a714c6ac-498b-4221-c5bf-57d1ee0cc8b4",
        "colab": {
          "base_uri": "https://localhost:8080/",
          "height": 142
        }
      },
      "source": [
        "gender_age_bin=pd.crosstab(data['gender'],data['age_bin'])\n",
        "gender_age_bin.div(gender_age_bin.sum(1).astype(float),axis=0)"
      ],
      "execution_count": 526,
      "outputs": [
        {
          "output_type": "execute_result",
          "data": {
            "text/html": [
              "<div>\n",
              "<style scoped>\n",
              "    .dataframe tbody tr th:only-of-type {\n",
              "        vertical-align: middle;\n",
              "    }\n",
              "\n",
              "    .dataframe tbody tr th {\n",
              "        vertical-align: top;\n",
              "    }\n",
              "\n",
              "    .dataframe thead th {\n",
              "        text-align: right;\n",
              "    }\n",
              "</style>\n",
              "<table border=\"1\" class=\"dataframe\">\n",
              "  <thead>\n",
              "    <tr style=\"text-align: right;\">\n",
              "      <th>age_bin</th>\n",
              "      <th>0.0</th>\n",
              "      <th>1.0</th>\n",
              "      <th>2.0</th>\n",
              "      <th>3.0</th>\n",
              "    </tr>\n",
              "    <tr>\n",
              "      <th>gender</th>\n",
              "      <th></th>\n",
              "      <th></th>\n",
              "      <th></th>\n",
              "      <th></th>\n",
              "    </tr>\n",
              "  </thead>\n",
              "  <tbody>\n",
              "    <tr>\n",
              "      <th>0</th>\n",
              "      <td>0.792782</td>\n",
              "      <td>0.205784</td>\n",
              "      <td>0.000000</td>\n",
              "      <td>0.001434</td>\n",
              "    </tr>\n",
              "    <tr>\n",
              "      <th>1</th>\n",
              "      <td>0.733031</td>\n",
              "      <td>0.257887</td>\n",
              "      <td>0.009082</td>\n",
              "      <td>0.000000</td>\n",
              "    </tr>\n",
              "  </tbody>\n",
              "</table>\n",
              "</div>"
            ],
            "text/plain": [
              "age_bin       0.0       1.0       2.0       3.0\n",
              "gender                                         \n",
              "0        0.792782  0.205784  0.000000  0.001434\n",
              "1        0.733031  0.257887  0.009082  0.000000"
            ]
          },
          "metadata": {
            "tags": []
          },
          "execution_count": 526
        }
      ]
    },
    {
      "cell_type": "markdown",
      "metadata": {
        "id": "hVUfVGt22Mb_",
        "colab_type": "text"
      },
      "source": [
        "We can see there are more women between 18-28 and there are only women for 48 and above"
      ]
    },
    {
      "cell_type": "markdown",
      "metadata": {
        "id": "e1HKx0R5bkJu",
        "colab_type": "text"
      },
      "source": [
        "##Gender"
      ]
    },
    {
      "cell_type": "code",
      "metadata": {
        "id": "6WYukPV41Dzf",
        "colab_type": "code",
        "outputId": "501d1f04-2251-44ca-cbc2-8def5a98c6f8",
        "colab": {
          "base_uri": "https://localhost:8080/",
          "height": 142
        }
      },
      "source": [
        "gender_match=pd.crosstab(data['gender'],data['match'])\n",
        "gender_match.div(gender_match.sum(1).astype(float),axis=0)"
      ],
      "execution_count": 527,
      "outputs": [
        {
          "output_type": "execute_result",
          "data": {
            "text/html": [
              "<div>\n",
              "<style scoped>\n",
              "    .dataframe tbody tr th:only-of-type {\n",
              "        vertical-align: middle;\n",
              "    }\n",
              "\n",
              "    .dataframe tbody tr th {\n",
              "        vertical-align: top;\n",
              "    }\n",
              "\n",
              "    .dataframe thead th {\n",
              "        text-align: right;\n",
              "    }\n",
              "</style>\n",
              "<table border=\"1\" class=\"dataframe\">\n",
              "  <thead>\n",
              "    <tr style=\"text-align: right;\">\n",
              "      <th>match</th>\n",
              "      <th>0</th>\n",
              "      <th>1</th>\n",
              "    </tr>\n",
              "    <tr>\n",
              "      <th>gender</th>\n",
              "      <th></th>\n",
              "      <th></th>\n",
              "    </tr>\n",
              "  </thead>\n",
              "  <tbody>\n",
              "    <tr>\n",
              "      <th>0</th>\n",
              "      <td>0.835086</td>\n",
              "      <td>0.164914</td>\n",
              "    </tr>\n",
              "    <tr>\n",
              "      <th>1</th>\n",
              "      <td>0.835479</td>\n",
              "      <td>0.164521</td>\n",
              "    </tr>\n",
              "  </tbody>\n",
              "</table>\n",
              "</div>"
            ],
            "text/plain": [
              "match          0         1\n",
              "gender                    \n",
              "0       0.835086  0.164914\n",
              "1       0.835479  0.164521"
            ]
          },
          "metadata": {
            "tags": []
          },
          "execution_count": 527
        }
      ]
    },
    {
      "cell_type": "markdown",
      "metadata": {
        "id": "2RBFNXzj2Vea",
        "colab_type": "text"
      },
      "source": [
        "Overall equal number of men and women have got match"
      ]
    },
    {
      "cell_type": "markdown",
      "metadata": {
        "id": "gJon0HUm5xHd",
        "colab_type": "text"
      },
      "source": [
        "#Which race has got more number of *match*"
      ]
    },
    {
      "cell_type": "markdown",
      "metadata": {
        "id": "C5bXg4dk512t",
        "colab_type": "text"
      },
      "source": [
        "Black/African American=1\n",
        "\n",
        "European/Caucasian-American=2\n",
        "\n",
        "Latino/Hispanic American=3\n",
        "\n",
        "Asian/Pacific Islander/Asian-American=4\n",
        "\n",
        "Native American=5\n",
        "\n",
        "Other=6\n"
      ]
    },
    {
      "cell_type": "code",
      "metadata": {
        "id": "RLoORA7Z1DxL",
        "colab_type": "code",
        "outputId": "39677675-e703-4979-8fe1-56fabfc5304a",
        "colab": {
          "base_uri": "https://localhost:8080/",
          "height": 235
        }
      },
      "source": [
        "race_match=pd.crosstab(data['race'],data['match'])\n",
        "race_match.div(race_match.sum(1).astype(float),axis=0)"
      ],
      "execution_count": 528,
      "outputs": [
        {
          "output_type": "execute_result",
          "data": {
            "text/html": [
              "<div>\n",
              "<style scoped>\n",
              "    .dataframe tbody tr th:only-of-type {\n",
              "        vertical-align: middle;\n",
              "    }\n",
              "\n",
              "    .dataframe tbody tr th {\n",
              "        vertical-align: top;\n",
              "    }\n",
              "\n",
              "    .dataframe thead th {\n",
              "        text-align: right;\n",
              "    }\n",
              "</style>\n",
              "<table border=\"1\" class=\"dataframe\">\n",
              "  <thead>\n",
              "    <tr style=\"text-align: right;\">\n",
              "      <th>match</th>\n",
              "      <th>0</th>\n",
              "      <th>1</th>\n",
              "    </tr>\n",
              "    <tr>\n",
              "      <th>race</th>\n",
              "      <th></th>\n",
              "      <th></th>\n",
              "    </tr>\n",
              "  </thead>\n",
              "  <tbody>\n",
              "    <tr>\n",
              "      <th>1.0</th>\n",
              "      <td>0.797619</td>\n",
              "      <td>0.202381</td>\n",
              "    </tr>\n",
              "    <tr>\n",
              "      <th>2.0</th>\n",
              "      <td>0.833298</td>\n",
              "      <td>0.166702</td>\n",
              "    </tr>\n",
              "    <tr>\n",
              "      <th>3.0</th>\n",
              "      <td>0.814759</td>\n",
              "      <td>0.185241</td>\n",
              "    </tr>\n",
              "    <tr>\n",
              "      <th>4.0</th>\n",
              "      <td>0.865288</td>\n",
              "      <td>0.134712</td>\n",
              "    </tr>\n",
              "    <tr>\n",
              "      <th>6.0</th>\n",
              "      <td>0.802682</td>\n",
              "      <td>0.197318</td>\n",
              "    </tr>\n",
              "  </tbody>\n",
              "</table>\n",
              "</div>"
            ],
            "text/plain": [
              "match         0         1\n",
              "race                     \n",
              "1.0    0.797619  0.202381\n",
              "2.0    0.833298  0.166702\n",
              "3.0    0.814759  0.185241\n",
              "4.0    0.865288  0.134712\n",
              "6.0    0.802682  0.197318"
            ]
          },
          "metadata": {
            "tags": []
          },
          "execution_count": 528
        }
      ]
    },
    {
      "cell_type": "markdown",
      "metadata": {
        "id": "2vRYh3Kk6Aew",
        "colab_type": "text"
      },
      "source": [
        "Overall it is observed African American gets more date and Asian American has bit less chance of getting date"
      ]
    },
    {
      "cell_type": "markdown",
      "metadata": {
        "id": "bOnE87Jr6P1L",
        "colab_type": "text"
      },
      "source": [
        "#Imprac --> How important is it to you (on a scale of 1-10) that a person you date be of the same racial/ethnic background?\n",
        "\n"
      ]
    },
    {
      "cell_type": "code",
      "metadata": {
        "id": "7md1hr0E1Dug",
        "colab_type": "code",
        "outputId": "070025d2-3a87-4d2f-98a5-2f37617a9a2d",
        "colab": {
          "base_uri": "https://localhost:8080/",
          "height": 142
        }
      },
      "source": [
        "gender_imprace=pd.crosstab(data['gender'],data['imprace'])\n",
        "gender_imprace.div(gender_imprace.sum(1).astype(float),axis=0)"
      ],
      "execution_count": 529,
      "outputs": [
        {
          "output_type": "execute_result",
          "data": {
            "text/html": [
              "<div>\n",
              "<style scoped>\n",
              "    .dataframe tbody tr th:only-of-type {\n",
              "        vertical-align: middle;\n",
              "    }\n",
              "\n",
              "    .dataframe tbody tr th {\n",
              "        vertical-align: top;\n",
              "    }\n",
              "\n",
              "    .dataframe thead th {\n",
              "        text-align: right;\n",
              "    }\n",
              "</style>\n",
              "<table border=\"1\" class=\"dataframe\">\n",
              "  <thead>\n",
              "    <tr style=\"text-align: right;\">\n",
              "      <th>imprace</th>\n",
              "      <th>0.0</th>\n",
              "      <th>1.0</th>\n",
              "      <th>2.0</th>\n",
              "      <th>3.0</th>\n",
              "      <th>4.0</th>\n",
              "      <th>5.0</th>\n",
              "      <th>6.0</th>\n",
              "      <th>7.0</th>\n",
              "      <th>8.0</th>\n",
              "      <th>9.0</th>\n",
              "      <th>10.0</th>\n",
              "    </tr>\n",
              "    <tr>\n",
              "      <th>gender</th>\n",
              "      <th></th>\n",
              "      <th></th>\n",
              "      <th></th>\n",
              "      <th></th>\n",
              "      <th></th>\n",
              "      <th></th>\n",
              "      <th></th>\n",
              "      <th></th>\n",
              "      <th></th>\n",
              "      <th></th>\n",
              "      <th></th>\n",
              "    </tr>\n",
              "  </thead>\n",
              "  <tbody>\n",
              "    <tr>\n",
              "      <th>0</th>\n",
              "      <td>0.001939</td>\n",
              "      <td>0.288242</td>\n",
              "      <td>0.136485</td>\n",
              "      <td>0.109091</td>\n",
              "      <td>0.066909</td>\n",
              "      <td>0.085091</td>\n",
              "      <td>0.050424</td>\n",
              "      <td>0.038545</td>\n",
              "      <td>0.103273</td>\n",
              "      <td>0.071273</td>\n",
              "      <td>0.048727</td>\n",
              "    </tr>\n",
              "    <tr>\n",
              "      <th>1</th>\n",
              "      <td>0.000000</td>\n",
              "      <td>0.385482</td>\n",
              "      <td>0.093675</td>\n",
              "      <td>0.127695</td>\n",
              "      <td>0.056061</td>\n",
              "      <td>0.073311</td>\n",
              "      <td>0.075707</td>\n",
              "      <td>0.091998</td>\n",
              "      <td>0.056780</td>\n",
              "      <td>0.027552</td>\n",
              "      <td>0.011739</td>\n",
              "    </tr>\n",
              "  </tbody>\n",
              "</table>\n",
              "</div>"
            ],
            "text/plain": [
              "imprace      0.0       1.0       2.0       3.0       4.0       5.0       6.0       7.0       8.0       9.0       10.0\n",
              "gender                                                                                                               \n",
              "0        0.001939  0.288242  0.136485  0.109091  0.066909  0.085091  0.050424  0.038545  0.103273  0.071273  0.048727\n",
              "1        0.000000  0.385482  0.093675  0.127695  0.056061  0.073311  0.075707  0.091998  0.056780  0.027552  0.011739"
            ]
          },
          "metadata": {
            "tags": []
          },
          "execution_count": 529
        }
      ]
    },
    {
      "cell_type": "markdown",
      "metadata": {
        "id": "tCYXhscq6a2e",
        "colab_type": "text"
      },
      "source": [
        "We can say that people are fine dating people with different etinical background"
      ]
    },
    {
      "cell_type": "markdown",
      "metadata": {
        "id": "Xvcvj2-R7G52",
        "colab_type": "text"
      },
      "source": [
        "### Lets see what is the main intention behind taking part in this event"
      ]
    },
    {
      "cell_type": "code",
      "metadata": {
        "id": "3zQ8gt8k1DsS",
        "colab_type": "code",
        "outputId": "3276bd63-d34b-47cb-ab04-15838351f897",
        "colab": {
          "base_uri": "https://localhost:8080/",
          "height": 142
        }
      },
      "source": [
        "gender_goal=pd.crosstab(data['gender'],data['goal'])\n",
        "gender_goal.div(gender_goal.sum(1).astype(float),axis=0)"
      ],
      "execution_count": 530,
      "outputs": [
        {
          "output_type": "execute_result",
          "data": {
            "text/html": [
              "<div>\n",
              "<style scoped>\n",
              "    .dataframe tbody tr th:only-of-type {\n",
              "        vertical-align: middle;\n",
              "    }\n",
              "\n",
              "    .dataframe tbody tr th {\n",
              "        vertical-align: top;\n",
              "    }\n",
              "\n",
              "    .dataframe thead th {\n",
              "        text-align: right;\n",
              "    }\n",
              "</style>\n",
              "<table border=\"1\" class=\"dataframe\">\n",
              "  <thead>\n",
              "    <tr style=\"text-align: right;\">\n",
              "      <th>goal</th>\n",
              "      <th>1.0</th>\n",
              "      <th>2.0</th>\n",
              "      <th>3.0</th>\n",
              "      <th>4.0</th>\n",
              "      <th>5.0</th>\n",
              "      <th>6.0</th>\n",
              "    </tr>\n",
              "    <tr>\n",
              "      <th>gender</th>\n",
              "      <th></th>\n",
              "      <th></th>\n",
              "      <th></th>\n",
              "      <th></th>\n",
              "      <th></th>\n",
              "      <th></th>\n",
              "    </tr>\n",
              "  </thead>\n",
              "  <tbody>\n",
              "    <tr>\n",
              "      <th>0</th>\n",
              "      <td>0.408970</td>\n",
              "      <td>0.399273</td>\n",
              "      <td>0.047758</td>\n",
              "      <td>0.031273</td>\n",
              "      <td>0.066909</td>\n",
              "      <td>0.045818</td>\n",
              "    </tr>\n",
              "    <tr>\n",
              "      <th>1</th>\n",
              "      <td>0.416627</td>\n",
              "      <td>0.327024</td>\n",
              "      <td>0.103977</td>\n",
              "      <td>0.041207</td>\n",
              "      <td>0.056061</td>\n",
              "      <td>0.055103</td>\n",
              "    </tr>\n",
              "  </tbody>\n",
              "</table>\n",
              "</div>"
            ],
            "text/plain": [
              "goal         1.0       2.0       3.0       4.0       5.0       6.0\n",
              "gender                                                            \n",
              "0       0.408970  0.399273  0.047758  0.031273  0.066909  0.045818\n",
              "1       0.416627  0.327024  0.103977  0.041207  0.056061  0.055103"
            ]
          },
          "metadata": {
            "tags": []
          },
          "execution_count": 530
        }
      ]
    },
    {
      "cell_type": "markdown",
      "metadata": {
        "id": "1dyWx9F-7ToC",
        "colab_type": "text"
      },
      "source": [
        "We can say that most of the people are just looking for fun night out"
      ]
    },
    {
      "cell_type": "code",
      "metadata": {
        "id": "PRslkV_m1DqI",
        "colab_type": "code",
        "outputId": "7c039cb7-8dc4-42d8-c9ef-7e0d68cf6a7b",
        "colab": {
          "base_uri": "https://localhost:8080/",
          "height": 204
        }
      },
      "source": [
        "age_bin_goal=pd.crosstab(data['age_bin'],data['goal'])\n",
        "age_bin_goal.div(age_bin_goal.sum(1).astype(float),axis=0)"
      ],
      "execution_count": 531,
      "outputs": [
        {
          "output_type": "execute_result",
          "data": {
            "text/html": [
              "<div>\n",
              "<style scoped>\n",
              "    .dataframe tbody tr th:only-of-type {\n",
              "        vertical-align: middle;\n",
              "    }\n",
              "\n",
              "    .dataframe tbody tr th {\n",
              "        vertical-align: top;\n",
              "    }\n",
              "\n",
              "    .dataframe thead th {\n",
              "        text-align: right;\n",
              "    }\n",
              "</style>\n",
              "<table border=\"1\" class=\"dataframe\">\n",
              "  <thead>\n",
              "    <tr style=\"text-align: right;\">\n",
              "      <th>goal</th>\n",
              "      <th>1.0</th>\n",
              "      <th>2.0</th>\n",
              "      <th>3.0</th>\n",
              "      <th>4.0</th>\n",
              "      <th>5.0</th>\n",
              "      <th>6.0</th>\n",
              "    </tr>\n",
              "    <tr>\n",
              "      <th>age_bin</th>\n",
              "      <th></th>\n",
              "      <th></th>\n",
              "      <th></th>\n",
              "      <th></th>\n",
              "      <th></th>\n",
              "      <th></th>\n",
              "    </tr>\n",
              "  </thead>\n",
              "  <tbody>\n",
              "    <tr>\n",
              "      <th>0.0</th>\n",
              "      <td>0.462331</td>\n",
              "      <td>0.327042</td>\n",
              "      <td>0.073434</td>\n",
              "      <td>0.018081</td>\n",
              "      <td>0.074544</td>\n",
              "      <td>0.044568</td>\n",
              "    </tr>\n",
              "    <tr>\n",
              "      <th>1.0</th>\n",
              "      <td>0.263402</td>\n",
              "      <td>0.474227</td>\n",
              "      <td>0.086598</td>\n",
              "      <td>0.087113</td>\n",
              "      <td>0.020619</td>\n",
              "      <td>0.068041</td>\n",
              "    </tr>\n",
              "    <tr>\n",
              "      <th>2.0</th>\n",
              "      <td>0.000000</td>\n",
              "      <td>0.526316</td>\n",
              "      <td>0.000000</td>\n",
              "      <td>0.473684</td>\n",
              "      <td>0.000000</td>\n",
              "      <td>0.000000</td>\n",
              "    </tr>\n",
              "    <tr>\n",
              "      <th>3.0</th>\n",
              "      <td>0.000000</td>\n",
              "      <td>0.000000</td>\n",
              "      <td>0.000000</td>\n",
              "      <td>0.000000</td>\n",
              "      <td>0.000000</td>\n",
              "      <td>1.000000</td>\n",
              "    </tr>\n",
              "  </tbody>\n",
              "</table>\n",
              "</div>"
            ],
            "text/plain": [
              "goal          1.0       2.0       3.0       4.0       5.0       6.0\n",
              "age_bin                                                            \n",
              "0.0      0.462331  0.327042  0.073434  0.018081  0.074544  0.044568\n",
              "1.0      0.263402  0.474227  0.086598  0.087113  0.020619  0.068041\n",
              "2.0      0.000000  0.526316  0.000000  0.473684  0.000000  0.000000\n",
              "3.0      0.000000  0.000000  0.000000  0.000000  0.000000  1.000000"
            ]
          },
          "metadata": {
            "tags": []
          },
          "execution_count": 531
        }
      ]
    },
    {
      "cell_type": "markdown",
      "metadata": {
        "id": "Ake9s-2K7e29",
        "colab_type": "text"
      },
      "source": [
        "As per data we can say different age group has different goals from this event like:\n",
        "\n",
        "18-28 is looking for only fun night out\n",
        "28-48 is looking for meeting someone new"
      ]
    },
    {
      "cell_type": "markdown",
      "metadata": {
        "id": "c2cYHSiW7vxm",
        "colab_type": "text"
      },
      "source": [
        "##Date--> how frequently do you go on dates? "
      ]
    },
    {
      "cell_type": "code",
      "metadata": {
        "id": "CYkjvRCN1Dnw",
        "colab_type": "code",
        "outputId": "a6725dcf-914f-41ed-8208-10de2570fbdb",
        "colab": {
          "base_uri": "https://localhost:8080/",
          "height": 297
        }
      },
      "source": [
        "date_match=pd.crosstab(data['date'],data['match'])\n",
        "date_match.div(date_match.sum(1).astype(float),axis=0)"
      ],
      "execution_count": 532,
      "outputs": [
        {
          "output_type": "execute_result",
          "data": {
            "text/html": [
              "<div>\n",
              "<style scoped>\n",
              "    .dataframe tbody tr th:only-of-type {\n",
              "        vertical-align: middle;\n",
              "    }\n",
              "\n",
              "    .dataframe tbody tr th {\n",
              "        vertical-align: top;\n",
              "    }\n",
              "\n",
              "    .dataframe thead th {\n",
              "        text-align: right;\n",
              "    }\n",
              "</style>\n",
              "<table border=\"1\" class=\"dataframe\">\n",
              "  <thead>\n",
              "    <tr style=\"text-align: right;\">\n",
              "      <th>match</th>\n",
              "      <th>0</th>\n",
              "      <th>1</th>\n",
              "    </tr>\n",
              "    <tr>\n",
              "      <th>date</th>\n",
              "      <th></th>\n",
              "      <th></th>\n",
              "    </tr>\n",
              "  </thead>\n",
              "  <tbody>\n",
              "    <tr>\n",
              "      <th>1.0</th>\n",
              "      <td>0.691489</td>\n",
              "      <td>0.308511</td>\n",
              "    </tr>\n",
              "    <tr>\n",
              "      <th>2.0</th>\n",
              "      <td>0.788961</td>\n",
              "      <td>0.211039</td>\n",
              "    </tr>\n",
              "    <tr>\n",
              "      <th>3.0</th>\n",
              "      <td>0.796935</td>\n",
              "      <td>0.203065</td>\n",
              "    </tr>\n",
              "    <tr>\n",
              "      <th>4.0</th>\n",
              "      <td>0.821078</td>\n",
              "      <td>0.178922</td>\n",
              "    </tr>\n",
              "    <tr>\n",
              "      <th>5.0</th>\n",
              "      <td>0.844895</td>\n",
              "      <td>0.155105</td>\n",
              "    </tr>\n",
              "    <tr>\n",
              "      <th>6.0</th>\n",
              "      <td>0.858166</td>\n",
              "      <td>0.141834</td>\n",
              "    </tr>\n",
              "    <tr>\n",
              "      <th>7.0</th>\n",
              "      <td>0.852162</td>\n",
              "      <td>0.147838</td>\n",
              "    </tr>\n",
              "  </tbody>\n",
              "</table>\n",
              "</div>"
            ],
            "text/plain": [
              "match         0         1\n",
              "date                     \n",
              "1.0    0.691489  0.308511\n",
              "2.0    0.788961  0.211039\n",
              "3.0    0.796935  0.203065\n",
              "4.0    0.821078  0.178922\n",
              "5.0    0.844895  0.155105\n",
              "6.0    0.858166  0.141834\n",
              "7.0    0.852162  0.147838"
            ]
          },
          "metadata": {
            "tags": []
          },
          "execution_count": 532
        }
      ]
    },
    {
      "cell_type": "markdown",
      "metadata": {
        "id": "Oa-mUu-V7-48",
        "colab_type": "text"
      },
      "source": [
        "We can infer that people who go on dates several times a week has got more matches. "
      ]
    },
    {
      "cell_type": "markdown",
      "metadata": {
        "id": "QFqIusRz8DOt",
        "colab_type": "text"
      },
      "source": [
        "##Go out--> How often do you go out (not necessarily on dates)?"
      ]
    },
    {
      "cell_type": "code",
      "metadata": {
        "id": "PPFz7aft1Dk-",
        "colab_type": "code",
        "outputId": "2772730d-57cb-431e-df28-fc352d0d9cc2",
        "colab": {
          "base_uri": "https://localhost:8080/",
          "height": 297
        }
      },
      "source": [
        "go_out_match=pd.crosstab(data['go_out'],data['match'])\n",
        "go_out_match.div(go_out_match.sum(1).astype(float),axis=0)"
      ],
      "execution_count": 533,
      "outputs": [
        {
          "output_type": "execute_result",
          "data": {
            "text/html": [
              "<div>\n",
              "<style scoped>\n",
              "    .dataframe tbody tr th:only-of-type {\n",
              "        vertical-align: middle;\n",
              "    }\n",
              "\n",
              "    .dataframe tbody tr th {\n",
              "        vertical-align: top;\n",
              "    }\n",
              "\n",
              "    .dataframe thead th {\n",
              "        text-align: right;\n",
              "    }\n",
              "</style>\n",
              "<table border=\"1\" class=\"dataframe\">\n",
              "  <thead>\n",
              "    <tr style=\"text-align: right;\">\n",
              "      <th>match</th>\n",
              "      <th>0</th>\n",
              "      <th>1</th>\n",
              "    </tr>\n",
              "    <tr>\n",
              "      <th>go_out</th>\n",
              "      <th></th>\n",
              "      <th></th>\n",
              "    </tr>\n",
              "  </thead>\n",
              "  <tbody>\n",
              "    <tr>\n",
              "      <th>1.0</th>\n",
              "      <td>0.805747</td>\n",
              "      <td>0.194253</td>\n",
              "    </tr>\n",
              "    <tr>\n",
              "      <th>2.0</th>\n",
              "      <td>0.839799</td>\n",
              "      <td>0.160201</td>\n",
              "    </tr>\n",
              "    <tr>\n",
              "      <th>3.0</th>\n",
              "      <td>0.851719</td>\n",
              "      <td>0.148281</td>\n",
              "    </tr>\n",
              "    <tr>\n",
              "      <th>4.0</th>\n",
              "      <td>0.873333</td>\n",
              "      <td>0.126667</td>\n",
              "    </tr>\n",
              "    <tr>\n",
              "      <th>5.0</th>\n",
              "      <td>0.884146</td>\n",
              "      <td>0.115854</td>\n",
              "    </tr>\n",
              "    <tr>\n",
              "      <th>6.0</th>\n",
              "      <td>0.868687</td>\n",
              "      <td>0.131313</td>\n",
              "    </tr>\n",
              "    <tr>\n",
              "      <th>7.0</th>\n",
              "      <td>0.972973</td>\n",
              "      <td>0.027027</td>\n",
              "    </tr>\n",
              "  </tbody>\n",
              "</table>\n",
              "</div>"
            ],
            "text/plain": [
              "match          0         1\n",
              "go_out                    \n",
              "1.0     0.805747  0.194253\n",
              "2.0     0.839799  0.160201\n",
              "3.0     0.851719  0.148281\n",
              "4.0     0.873333  0.126667\n",
              "5.0     0.884146  0.115854\n",
              "6.0     0.868687  0.131313\n",
              "7.0     0.972973  0.027027"
            ]
          },
          "metadata": {
            "tags": []
          },
          "execution_count": 533
        }
      ]
    },
    {
      "cell_type": "markdown",
      "metadata": {
        "id": "JbxoaPOD8MSt",
        "colab_type": "text"
      },
      "source": [
        "Match doesn't rely that much on how many times candidate go out casually"
      ]
    },
    {
      "cell_type": "markdown",
      "metadata": {
        "id": "lsGrsrff8YFQ",
        "colab_type": "text"
      },
      "source": [
        "## How a person career choice can help him/her get a date"
      ]
    },
    {
      "cell_type": "code",
      "metadata": {
        "id": "uQK3TzU01Dhc",
        "colab_type": "code",
        "outputId": "e53e5c0b-ca9d-4570-edaa-086d70b531f1",
        "colab": {
          "base_uri": "https://localhost:8080/",
          "height": 607
        }
      },
      "source": [
        "career_c_match=pd.crosstab(data['career_c'],data['match'])\n",
        "career_c_match.div(career_c_match.sum(1).astype(float),axis=0).sort_values(by=data['match'][0],ascending=False)"
      ],
      "execution_count": 534,
      "outputs": [
        {
          "output_type": "execute_result",
          "data": {
            "text/html": [
              "<div>\n",
              "<style scoped>\n",
              "    .dataframe tbody tr th:only-of-type {\n",
              "        vertical-align: middle;\n",
              "    }\n",
              "\n",
              "    .dataframe tbody tr th {\n",
              "        vertical-align: top;\n",
              "    }\n",
              "\n",
              "    .dataframe thead th {\n",
              "        text-align: right;\n",
              "    }\n",
              "</style>\n",
              "<table border=\"1\" class=\"dataframe\">\n",
              "  <thead>\n",
              "    <tr style=\"text-align: right;\">\n",
              "      <th>match</th>\n",
              "      <th>0</th>\n",
              "      <th>1</th>\n",
              "    </tr>\n",
              "    <tr>\n",
              "      <th>career_c</th>\n",
              "      <th></th>\n",
              "      <th></th>\n",
              "    </tr>\n",
              "  </thead>\n",
              "  <tbody>\n",
              "    <tr>\n",
              "      <th>12.0</th>\n",
              "      <td>0.964286</td>\n",
              "      <td>0.035714</td>\n",
              "    </tr>\n",
              "    <tr>\n",
              "      <th>13.0</th>\n",
              "      <td>0.925926</td>\n",
              "      <td>0.074074</td>\n",
              "    </tr>\n",
              "    <tr>\n",
              "      <th>17.0</th>\n",
              "      <td>0.900000</td>\n",
              "      <td>0.100000</td>\n",
              "    </tr>\n",
              "    <tr>\n",
              "      <th>10.0</th>\n",
              "      <td>0.873351</td>\n",
              "      <td>0.126649</td>\n",
              "    </tr>\n",
              "    <tr>\n",
              "      <th>8.0</th>\n",
              "      <td>0.871795</td>\n",
              "      <td>0.128205</td>\n",
              "    </tr>\n",
              "    <tr>\n",
              "      <th>9.0</th>\n",
              "      <td>0.855576</td>\n",
              "      <td>0.144424</td>\n",
              "    </tr>\n",
              "    <tr>\n",
              "      <th>5.0</th>\n",
              "      <td>0.846154</td>\n",
              "      <td>0.153846</td>\n",
              "    </tr>\n",
              "    <tr>\n",
              "      <th>2.0</th>\n",
              "      <td>0.844828</td>\n",
              "      <td>0.155172</td>\n",
              "    </tr>\n",
              "    <tr>\n",
              "      <th>6.0</th>\n",
              "      <td>0.841160</td>\n",
              "      <td>0.158840</td>\n",
              "    </tr>\n",
              "    <tr>\n",
              "      <th>11.0</th>\n",
              "      <td>0.840909</td>\n",
              "      <td>0.159091</td>\n",
              "    </tr>\n",
              "    <tr>\n",
              "      <th>4.0</th>\n",
              "      <td>0.833729</td>\n",
              "      <td>0.166271</td>\n",
              "    </tr>\n",
              "    <tr>\n",
              "      <th>15.0</th>\n",
              "      <td>0.831169</td>\n",
              "      <td>0.168831</td>\n",
              "    </tr>\n",
              "    <tr>\n",
              "      <th>7.0</th>\n",
              "      <td>0.820276</td>\n",
              "      <td>0.179724</td>\n",
              "    </tr>\n",
              "    <tr>\n",
              "      <th>16.0</th>\n",
              "      <td>0.818182</td>\n",
              "      <td>0.181818</td>\n",
              "    </tr>\n",
              "    <tr>\n",
              "      <th>1.0</th>\n",
              "      <td>0.801481</td>\n",
              "      <td>0.198519</td>\n",
              "    </tr>\n",
              "    <tr>\n",
              "      <th>3.0</th>\n",
              "      <td>0.793103</td>\n",
              "      <td>0.206897</td>\n",
              "    </tr>\n",
              "    <tr>\n",
              "      <th>14.0</th>\n",
              "      <td>0.700000</td>\n",
              "      <td>0.300000</td>\n",
              "    </tr>\n",
              "  </tbody>\n",
              "</table>\n",
              "</div>"
            ],
            "text/plain": [
              "match            0         1\n",
              "career_c                    \n",
              "12.0      0.964286  0.035714\n",
              "13.0      0.925926  0.074074\n",
              "17.0      0.900000  0.100000\n",
              "10.0      0.873351  0.126649\n",
              "8.0       0.871795  0.128205\n",
              "9.0       0.855576  0.144424\n",
              "5.0       0.846154  0.153846\n",
              "2.0       0.844828  0.155172\n",
              "6.0       0.841160  0.158840\n",
              "11.0      0.840909  0.159091\n",
              "4.0       0.833729  0.166271\n",
              "15.0      0.831169  0.168831\n",
              "7.0       0.820276  0.179724\n",
              "16.0      0.818182  0.181818\n",
              "1.0       0.801481  0.198519\n",
              "3.0       0.793103  0.206897\n",
              "14.0      0.700000  0.300000"
            ]
          },
          "metadata": {
            "tags": []
          },
          "execution_count": 534
        }
      ]
    },
    {
      "cell_type": "markdown",
      "metadata": {
        "id": "cOJ1A7za8kGy",
        "colab_type": "text"
      },
      "source": [
        "People who are athlets(30%) and pshycologist(20%) have better chances of getting date. "
      ]
    },
    {
      "cell_type": "code",
      "metadata": {
        "id": "EeH1SlUj1DfI",
        "colab_type": "code",
        "outputId": "1a51500d-4ed4-440d-d436-b89857a2a45e",
        "colab": {
          "base_uri": "https://localhost:8080/",
          "height": 607
        }
      },
      "source": [
        "data['career_c']=data['career_c'].fillna(data['career_c'].mode())\n",
        "gender_career_c=pd.crosstab(data['career_c'],data['gender'])\n",
        "gender_career_c.div(gender_career_c.sum(1).astype(float),axis=0)"
      ],
      "execution_count": 535,
      "outputs": [
        {
          "output_type": "execute_result",
          "data": {
            "text/html": [
              "<div>\n",
              "<style scoped>\n",
              "    .dataframe tbody tr th:only-of-type {\n",
              "        vertical-align: middle;\n",
              "    }\n",
              "\n",
              "    .dataframe tbody tr th {\n",
              "        vertical-align: top;\n",
              "    }\n",
              "\n",
              "    .dataframe thead th {\n",
              "        text-align: right;\n",
              "    }\n",
              "</style>\n",
              "<table border=\"1\" class=\"dataframe\">\n",
              "  <thead>\n",
              "    <tr style=\"text-align: right;\">\n",
              "      <th>gender</th>\n",
              "      <th>0</th>\n",
              "      <th>1</th>\n",
              "    </tr>\n",
              "    <tr>\n",
              "      <th>career_c</th>\n",
              "      <th></th>\n",
              "      <th></th>\n",
              "    </tr>\n",
              "  </thead>\n",
              "  <tbody>\n",
              "    <tr>\n",
              "      <th>1.0</th>\n",
              "      <td>0.377778</td>\n",
              "      <td>0.622222</td>\n",
              "    </tr>\n",
              "    <tr>\n",
              "      <th>2.0</th>\n",
              "      <td>0.551056</td>\n",
              "      <td>0.448944</td>\n",
              "    </tr>\n",
              "    <tr>\n",
              "      <th>3.0</th>\n",
              "      <td>0.923372</td>\n",
              "      <td>0.076628</td>\n",
              "    </tr>\n",
              "    <tr>\n",
              "      <th>4.0</th>\n",
              "      <td>0.579572</td>\n",
              "      <td>0.420428</td>\n",
              "    </tr>\n",
              "    <tr>\n",
              "      <th>5.0</th>\n",
              "      <td>0.431624</td>\n",
              "      <td>0.568376</td>\n",
              "    </tr>\n",
              "    <tr>\n",
              "      <th>6.0</th>\n",
              "      <td>0.549724</td>\n",
              "      <td>0.450276</td>\n",
              "    </tr>\n",
              "    <tr>\n",
              "      <th>7.0</th>\n",
              "      <td>0.271429</td>\n",
              "      <td>0.728571</td>\n",
              "    </tr>\n",
              "    <tr>\n",
              "      <th>8.0</th>\n",
              "      <td>0.000000</td>\n",
              "      <td>1.000000</td>\n",
              "    </tr>\n",
              "    <tr>\n",
              "      <th>9.0</th>\n",
              "      <td>0.733090</td>\n",
              "      <td>0.266910</td>\n",
              "    </tr>\n",
              "    <tr>\n",
              "      <th>10.0</th>\n",
              "      <td>0.612137</td>\n",
              "      <td>0.387863</td>\n",
              "    </tr>\n",
              "    <tr>\n",
              "      <th>11.0</th>\n",
              "      <td>1.000000</td>\n",
              "      <td>0.000000</td>\n",
              "    </tr>\n",
              "    <tr>\n",
              "      <th>12.0</th>\n",
              "      <td>1.000000</td>\n",
              "      <td>0.000000</td>\n",
              "    </tr>\n",
              "    <tr>\n",
              "      <th>13.0</th>\n",
              "      <td>0.493827</td>\n",
              "      <td>0.506173</td>\n",
              "    </tr>\n",
              "    <tr>\n",
              "      <th>14.0</th>\n",
              "      <td>0.000000</td>\n",
              "      <td>1.000000</td>\n",
              "    </tr>\n",
              "    <tr>\n",
              "      <th>15.0</th>\n",
              "      <td>0.181818</td>\n",
              "      <td>0.818182</td>\n",
              "    </tr>\n",
              "    <tr>\n",
              "      <th>16.0</th>\n",
              "      <td>1.000000</td>\n",
              "      <td>0.000000</td>\n",
              "    </tr>\n",
              "    <tr>\n",
              "      <th>17.0</th>\n",
              "      <td>0.000000</td>\n",
              "      <td>1.000000</td>\n",
              "    </tr>\n",
              "  </tbody>\n",
              "</table>\n",
              "</div>"
            ],
            "text/plain": [
              "gender           0         1\n",
              "career_c                    \n",
              "1.0       0.377778  0.622222\n",
              "2.0       0.551056  0.448944\n",
              "3.0       0.923372  0.076628\n",
              "4.0       0.579572  0.420428\n",
              "5.0       0.431624  0.568376\n",
              "6.0       0.549724  0.450276\n",
              "7.0       0.271429  0.728571\n",
              "8.0       0.000000  1.000000\n",
              "9.0       0.733090  0.266910\n",
              "10.0      0.612137  0.387863\n",
              "11.0      1.000000  0.000000\n",
              "12.0      1.000000  0.000000\n",
              "13.0      0.493827  0.506173\n",
              "14.0      0.000000  1.000000\n",
              "15.0      0.181818  0.818182\n",
              "16.0      1.000000  0.000000\n",
              "17.0      0.000000  1.000000"
            ]
          },
          "metadata": {
            "tags": []
          },
          "execution_count": 535
        }
      ]
    },
    {
      "cell_type": "markdown",
      "metadata": {
        "id": "RyyWELRq826J",
        "colab_type": "text"
      },
      "source": [
        "We can infer that women who are psycholoist and men who are atheletis have more chances of dating"
      ]
    },
    {
      "cell_type": "markdown",
      "metadata": {
        "id": "9NhU4Te39Dxn",
        "colab_type": "text"
      },
      "source": [
        "##Expecting how happy you will be?"
      ]
    },
    {
      "cell_type": "code",
      "metadata": {
        "id": "ObvCzGgw1Dc9",
        "colab_type": "code",
        "outputId": "09c5fe57-bd1a-4028-bb8b-d7cdc1514a66",
        "colab": {
          "base_uri": "https://localhost:8080/",
          "height": 142
        }
      },
      "source": [
        "exphappy_gender=pd.crosstab(data['gender'],data['exphappy'])\n",
        "exphappy_gender.div(exphappy_gender.sum(1).astype(float),axis=0)"
      ],
      "execution_count": 536,
      "outputs": [
        {
          "output_type": "execute_result",
          "data": {
            "text/html": [
              "<div>\n",
              "<style scoped>\n",
              "    .dataframe tbody tr th:only-of-type {\n",
              "        vertical-align: middle;\n",
              "    }\n",
              "\n",
              "    .dataframe tbody tr th {\n",
              "        vertical-align: top;\n",
              "    }\n",
              "\n",
              "    .dataframe thead th {\n",
              "        text-align: right;\n",
              "    }\n",
              "</style>\n",
              "<table border=\"1\" class=\"dataframe\">\n",
              "  <thead>\n",
              "    <tr style=\"text-align: right;\">\n",
              "      <th>exphappy</th>\n",
              "      <th>1.0</th>\n",
              "      <th>2.0</th>\n",
              "      <th>3.0</th>\n",
              "      <th>4.0</th>\n",
              "      <th>5.0</th>\n",
              "      <th>6.0</th>\n",
              "      <th>7.0</th>\n",
              "      <th>8.0</th>\n",
              "      <th>9.0</th>\n",
              "      <th>10.0</th>\n",
              "    </tr>\n",
              "    <tr>\n",
              "      <th>gender</th>\n",
              "      <th></th>\n",
              "      <th></th>\n",
              "      <th></th>\n",
              "      <th></th>\n",
              "      <th></th>\n",
              "      <th></th>\n",
              "      <th></th>\n",
              "      <th></th>\n",
              "      <th></th>\n",
              "      <th></th>\n",
              "    </tr>\n",
              "  </thead>\n",
              "  <tbody>\n",
              "    <tr>\n",
              "      <th>0</th>\n",
              "      <td>0.025835</td>\n",
              "      <td>0.056300</td>\n",
              "      <td>0.085060</td>\n",
              "      <td>0.140873</td>\n",
              "      <td>0.259079</td>\n",
              "      <td>0.223495</td>\n",
              "      <td>0.142822</td>\n",
              "      <td>0.038508</td>\n",
              "      <td>0.021448</td>\n",
              "      <td>0.006581</td>\n",
              "    </tr>\n",
              "    <tr>\n",
              "      <th>1</th>\n",
              "      <td>0.002396</td>\n",
              "      <td>0.015812</td>\n",
              "      <td>0.085529</td>\n",
              "      <td>0.051509</td>\n",
              "      <td>0.232391</td>\n",
              "      <td>0.260182</td>\n",
              "      <td>0.212985</td>\n",
              "      <td>0.085050</td>\n",
              "      <td>0.030666</td>\n",
              "      <td>0.023479</td>\n",
              "    </tr>\n",
              "  </tbody>\n",
              "</table>\n",
              "</div>"
            ],
            "text/plain": [
              "exphappy      1.0       2.0       3.0       4.0       5.0       6.0       7.0       8.0       9.0       10.0\n",
              "gender                                                                                                      \n",
              "0         0.025835  0.056300  0.085060  0.140873  0.259079  0.223495  0.142822  0.038508  0.021448  0.006581\n",
              "1         0.002396  0.015812  0.085529  0.051509  0.232391  0.260182  0.212985  0.085050  0.030666  0.023479"
            ]
          },
          "metadata": {
            "tags": []
          },
          "execution_count": 536
        }
      ]
    },
    {
      "cell_type": "code",
      "metadata": {
        "id": "Hn5lhjac1Daf",
        "colab_type": "code",
        "outputId": "14047d37-a527-4748-e677-eab46b5add4a",
        "colab": {
          "base_uri": "https://localhost:8080/",
          "height": 293
        }
      },
      "source": [
        "exphappy_gender.div(exphappy_gender.sum(1).astype(float),axis=0).plot.bar()"
      ],
      "execution_count": 537,
      "outputs": [
        {
          "output_type": "execute_result",
          "data": {
            "text/plain": [
              "<matplotlib.axes._subplots.AxesSubplot at 0x7fd44bafa7b8>"
            ]
          },
          "metadata": {
            "tags": []
          },
          "execution_count": 537
        },
        {
          "output_type": "display_data",
          "data": {
            "image/png": "[encoded data removed]",
            "text/plain": [
              "<Figure size 432x288 with 1 Axes>"
            ]
          },
          "metadata": {
            "tags": []
          }
        }
      ]
    },
    {
      "cell_type": "markdown",
      "metadata": {
        "id": "03MG1eEC9Qb9",
        "colab_type": "text"
      },
      "source": [
        "From above we can say that women have less expectation to be happy than men(It's a minor difference though)"
      ]
    },
    {
      "cell_type": "markdown",
      "metadata": {
        "id": "bAbiDCoC9VY3",
        "colab_type": "text"
      },
      "source": [
        "##Exnum--> Out of the 20 people you will meet, how many do you expect will be interested in dating you? "
      ]
    },
    {
      "cell_type": "code",
      "metadata": {
        "id": "_xknR_Ln1DYB",
        "colab_type": "code",
        "outputId": "753023fd-6165-461d-b243-53dc4d537b16",
        "colab": {
          "base_uri": "https://localhost:8080/",
          "height": 162
        }
      },
      "source": [
        "expnum_gender=pd.crosstab(data['gender'],data['expnum'])\n",
        "expnum_gender.div(expnum_gender.sum(1).astype(float),axis=0)"
      ],
      "execution_count": 538,
      "outputs": [
        {
          "output_type": "execute_result",
          "data": {
            "text/html": [
              "<div>\n",
              "<style scoped>\n",
              "    .dataframe tbody tr th:only-of-type {\n",
              "        vertical-align: middle;\n",
              "    }\n",
              "\n",
              "    .dataframe tbody tr th {\n",
              "        vertical-align: top;\n",
              "    }\n",
              "\n",
              "    .dataframe thead th {\n",
              "        text-align: right;\n",
              "    }\n",
              "</style>\n",
              "<table border=\"1\" class=\"dataframe\">\n",
              "  <thead>\n",
              "    <tr style=\"text-align: right;\">\n",
              "      <th>expnum</th>\n",
              "      <th>0.0</th>\n",
              "      <th>1.0</th>\n",
              "      <th>2.0</th>\n",
              "      <th>3.0</th>\n",
              "      <th>4.0</th>\n",
              "      <th>5.0</th>\n",
              "      <th>6.0</th>\n",
              "      <th>7.0</th>\n",
              "      <th>8.0</th>\n",
              "      <th>9.0</th>\n",
              "      <th>10.0</th>\n",
              "      <th>12.0</th>\n",
              "      <th>13.0</th>\n",
              "      <th>14.0</th>\n",
              "      <th>15.0</th>\n",
              "      <th>18.0</th>\n",
              "      <th>19.0</th>\n",
              "      <th>20.0</th>\n",
              "    </tr>\n",
              "    <tr>\n",
              "      <th>gender</th>\n",
              "      <th></th>\n",
              "      <th></th>\n",
              "      <th></th>\n",
              "      <th></th>\n",
              "      <th></th>\n",
              "      <th></th>\n",
              "      <th></th>\n",
              "      <th></th>\n",
              "      <th></th>\n",
              "      <th></th>\n",
              "      <th></th>\n",
              "      <th></th>\n",
              "      <th></th>\n",
              "      <th></th>\n",
              "      <th></th>\n",
              "      <th></th>\n",
              "      <th></th>\n",
              "      <th></th>\n",
              "    </tr>\n",
              "  </thead>\n",
              "  <tbody>\n",
              "    <tr>\n",
              "      <th>0</th>\n",
              "      <td>0.107798</td>\n",
              "      <td>0.011468</td>\n",
              "      <td>0.135321</td>\n",
              "      <td>0.139908</td>\n",
              "      <td>0.158257</td>\n",
              "      <td>0.091743</td>\n",
              "      <td>0.061927</td>\n",
              "      <td>0.000000</td>\n",
              "      <td>0.036697</td>\n",
              "      <td>0.000000</td>\n",
              "      <td>0.158257</td>\n",
              "      <td>0.041284</td>\n",
              "      <td>0.000000</td>\n",
              "      <td>0.000000</td>\n",
              "      <td>0.034404</td>\n",
              "      <td>0.000000</td>\n",
              "      <td>0.000000</td>\n",
              "      <td>0.022936</td>\n",
              "    </tr>\n",
              "    <tr>\n",
              "      <th>1</th>\n",
              "      <td>0.021552</td>\n",
              "      <td>0.122845</td>\n",
              "      <td>0.153017</td>\n",
              "      <td>0.159483</td>\n",
              "      <td>0.072198</td>\n",
              "      <td>0.161638</td>\n",
              "      <td>0.039871</td>\n",
              "      <td>0.040948</td>\n",
              "      <td>0.020474</td>\n",
              "      <td>0.042026</td>\n",
              "      <td>0.043103</td>\n",
              "      <td>0.000000</td>\n",
              "      <td>0.010776</td>\n",
              "      <td>0.019397</td>\n",
              "      <td>0.010776</td>\n",
              "      <td>0.038793</td>\n",
              "      <td>0.010776</td>\n",
              "      <td>0.032328</td>\n",
              "    </tr>\n",
              "  </tbody>\n",
              "</table>\n",
              "</div>"
            ],
            "text/plain": [
              "expnum      0.0       1.0       2.0       3.0       4.0       5.0       6.0       7.0       8.0       9.0       10.0      12.0      13.0      14.0      15.0      18.0      19.0      20.0\n",
              "gender                                                                                                                                                                                    \n",
              "0       0.107798  0.011468  0.135321  0.139908  0.158257  0.091743  0.061927  0.000000  0.036697  0.000000  0.158257  0.041284  0.000000  0.000000  0.034404  0.000000  0.000000  0.022936\n",
              "1       0.021552  0.122845  0.153017  0.159483  0.072198  0.161638  0.039871  0.040948  0.020474  0.042026  0.043103  0.000000  0.010776  0.019397  0.010776  0.038793  0.010776  0.032328"
            ]
          },
          "metadata": {
            "tags": []
          },
          "execution_count": 538
        }
      ]
    },
    {
      "cell_type": "markdown",
      "metadata": {
        "id": "tO1agSXe9fAG",
        "colab_type": "text"
      },
      "source": [
        "We can say both men and women have almost same expectation"
      ]
    },
    {
      "cell_type": "markdown",
      "metadata": {
        "id": "3zvkk0biSRNj",
        "colab_type": "text"
      },
      "source": [
        "# Hobbies"
      ]
    },
    {
      "cell_type": "code",
      "metadata": {
        "id": "DMzHGz9jynOt",
        "colab_type": "code",
        "colab": {
          "base_uri": "https://localhost:8080/",
          "height": 820
        },
        "outputId": "fc3b9480-cdd4-445c-ebcb-58a15d6bda8b"
      },
      "source": [
        "pd.crosstab(data['sports'],data['match'],normalize=True).plot(kind='line')\n",
        "pd.crosstab(data['tvsports'],data['match'],normalize=True).plot(kind='line')\n",
        "pd.crosstab(data['exercise'],data['match'],normalize=True).plot(kind='line')"
      ],
      "execution_count": 539,
      "outputs": [
        {
          "output_type": "execute_result",
          "data": {
            "text/plain": [
              "<matplotlib.axes._subplots.AxesSubplot at 0x7fd44b96c438>"
            ]
          },
          "metadata": {
            "tags": []
          },
          "execution_count": 539
        },
        {
          "output_type": "display_data",
          "data": {
            "image/png": "[encoded data removed]",
            "text/plain": [
              "<Figure size 432x288 with 1 Axes>"
            ]
          },
          "metadata": {
            "tags": []
          }
        },
        {
          "output_type": "display_data",
          "data": {
            "image/png": "[encoded data removed]",
            "text/plain": [
              "<Figure size 432x288 with 1 Axes>"
            ]
          },
          "metadata": {
            "tags": []
          }
        },
        {
          "output_type": "display_data",
          "data": {
            "image/png": "[encoded data removed]",
            "text/plain": [
              "<Figure size 432x288 with 1 Axes>"
            ]
          },
          "metadata": {
            "tags": []
          }
        }
      ]
    },
    {
      "cell_type": "markdown",
      "metadata": {
        "id": "G3Se0itUzQ5t",
        "colab_type": "text"
      },
      "source": [
        "From above we can coclude hobbies really doesn't matter much in match"
      ]
    },
    {
      "cell_type": "markdown",
      "metadata": {
        "id": "zfKI0gsd93yD",
        "colab_type": "text"
      },
      "source": [
        "# Comparing all the six traits of all the events"
      ]
    },
    {
      "cell_type": "markdown",
      "metadata": {
        "id": "9jXH24aRdFd_",
        "colab_type": "text"
      },
      "source": [
        "## Looking forward in potential date"
      ]
    },
    {
      "cell_type": "code",
      "metadata": {
        "id": "qByOjyP01DVI",
        "colab_type": "code",
        "outputId": "7d5b0f05-37b2-4c54-8b93-3c460b796edf",
        "colab": {
          "base_uri": "https://localhost:8080/",
          "height": 249
        }
      },
      "source": [
        "import matplotlib.pyplot as plt\n",
        "fig, (ax, ax2,ax3,ax4) = plt.subplots(nrows=1,ncols=4, sharey=True) \n",
        "#fig, axes = plt.subplots(nrows=1,ncols=2)\n",
        "data.pivot_table(columns='gender',values=('attr1_1','attr1_s','attr1_2','attr1_3')).plot(figsize=(18,3),kind='line',ax = ax)\n",
        "data.pivot_table(columns='gender',values=('sinc1_1','sinc1_s','sinc1_2','sinc1_3')).plot(kind='line',ax = ax2)\n",
        "data.pivot_table(columns='gender',values=('intel1_1','intel1_s','intel1_2','intel1_3')).plot(kind='line',ax=ax3)\n",
        "data.pivot_table(columns='gender',values=('fun1_1','fun1_s','fun1_2','fun1_3')).plot(kind='line',ax=ax4)"
      ],
      "execution_count": 540,
      "outputs": [
        {
          "output_type": "execute_result",
          "data": {
            "text/plain": [
              "<matplotlib.axes._subplots.AxesSubplot at 0x7fd44b7c8a20>"
            ]
          },
          "metadata": {
            "tags": []
          },
          "execution_count": 540
        },
        {
          "output_type": "display_data",
          "data": {
            "image/png": "[encoded data removed]",
            "text/plain": [
              "<Figure size 1296x216 with 4 Axes>"
            ]
          },
          "metadata": {
            "tags": []
          }
        }
      ]
    },
    {
      "cell_type": "markdown",
      "metadata": {
        "id": "oUAt2YVXcpRj",
        "colab_type": "text"
      },
      "source": [
        "Male give more imporatance to attraction"
      ]
    },
    {
      "cell_type": "code",
      "metadata": {
        "id": "0QiK17dV1DS8",
        "colab_type": "code",
        "outputId": "0e4575b5-083f-496b-b193-a49b837475b5",
        "colab": {
          "base_uri": "https://localhost:8080/",
          "height": 249
        }
      },
      "source": [
        "fig, (ax, ax2) = plt.subplots(nrows=1,ncols=2, sharey=True)\n",
        "data.pivot_table(columns='gender',values=('amb1_1','amb1_s','amb1_2','amb1_3')).plot(figsize=(18,3),kind='line',ax=ax)\n",
        "data.pivot_table(columns='gender',values=('shar1_1','shar1_s','shar1_2','shar1_3')).plot(kind='line',ax=ax2)\n"
      ],
      "execution_count": 541,
      "outputs": [
        {
          "output_type": "execute_result",
          "data": {
            "text/plain": [
              "<matplotlib.axes._subplots.AxesSubplot at 0x7fd44b6eebe0>"
            ]
          },
          "metadata": {
            "tags": []
          },
          "execution_count": 541
        },
        {
          "output_type": "display_data",
          "data": {
            "image/png": "[encoded data removed]",
            "text/plain": [
              "<Figure size 1296x216 with 2 Axes>"
            ]
          },
          "metadata": {
            "tags": []
          }
        }
      ]
    },
    {
      "cell_type": "markdown",
      "metadata": {
        "id": "PSj7FbS4-V2N",
        "colab_type": "text"
      },
      "source": [
        "## Attributes that were more important in your decisions"
      ]
    },
    {
      "cell_type": "code",
      "metadata": {
        "id": "O3L0_D1V1DQr",
        "colab_type": "code",
        "outputId": "ed0169c9-bdb5-4b19-9a3d-7de87d3afe00",
        "colab": {
          "base_uri": "https://localhost:8080/",
          "height": 278
        }
      },
      "source": [
        "fig, (ax, ax2,ax3,ax4) = plt.subplots(nrows=1,ncols=4, sharey=True)#fig, axes = plt.subplots(nrows=1,ncols=2)\n",
        "data.pivot_table(columns='gender',values=('attr7_2','attr7_3')).plot(figsize=(18,3),kind='bar',ax = ax)\n",
        "data.pivot_table(columns='gender',values=('sinc7_2','sinc2_2')).plot(kind='bar',ax = ax2)\n",
        "data.pivot_table(columns='gender',values=('intel7_2','intel7_2')).plot(kind='bar',ax=ax3)\n",
        "data.pivot_table(columns='gender',values=('fun7_2','fun7_2')).plot(kind='bar',ax=ax4)"
      ],
      "execution_count": 542,
      "outputs": [
        {
          "output_type": "execute_result",
          "data": {
            "text/plain": [
              "<matplotlib.axes._subplots.AxesSubplot at 0x7fd44b5b9ac8>"
            ]
          },
          "metadata": {
            "tags": []
          },
          "execution_count": 542
        },
        {
          "output_type": "display_data",
          "data": {
            "image/png": "[encoded data removed]",
            "text/plain": [
              "<Figure size 1296x216 with 4 Axes>"
            ]
          },
          "metadata": {
            "tags": []
          }
        }
      ]
    },
    {
      "cell_type": "code",
      "metadata": {
        "id": "TdAYf7OI1DNM",
        "colab_type": "code",
        "outputId": "17b3c72c-d64c-4932-87f9-73f1d4c240f0",
        "colab": {
          "base_uri": "https://localhost:8080/",
          "height": 278
        }
      },
      "source": [
        "fig, (ax, ax2) = plt.subplots(nrows=1,ncols=2, sharey=True)\n",
        "data.pivot_table(columns='gender',values=('amb7_2','amb7_2')).plot(figsize=(18,3),kind='bar',ax=ax)\n",
        "data.pivot_table(columns='gender',values=('shar7_2','shar7_2')).plot(kind='bar',ax=ax2)\n"
      ],
      "execution_count": 543,
      "outputs": [
        {
          "output_type": "execute_result",
          "data": {
            "text/plain": [
              "<matplotlib.axes._subplots.AxesSubplot at 0x7fd44b40e0f0>"
            ]
          },
          "metadata": {
            "tags": []
          },
          "execution_count": 543
        },
        {
          "output_type": "display_data",
          "data": {
            "image/png": "[encoded data removed]",
            "text/plain": [
              "<Figure size 1296x216 with 2 Axes>"
            ]
          },
          "metadata": {
            "tags": []
          }
        }
      ]
    },
    {
      "cell_type": "markdown",
      "metadata": {
        "id": "M19J8lDK-n9g",
        "colab_type": "text"
      },
      "source": [
        "We can conclude there is no much difference in the answer when given on same day or 3-4 weeks after the event"
      ]
    },
    {
      "cell_type": "markdown",
      "metadata": {
        "id": "blBX3C5m-syl",
        "colab_type": "text"
      },
      "source": [
        "# MOST of your fellow men/women look for in the opposite sex. "
      ]
    },
    {
      "cell_type": "code",
      "metadata": {
        "id": "ndRoGe_31DHq",
        "colab_type": "code",
        "outputId": "b123a3ec-ff4c-47f8-e62f-4b1057fe0340",
        "colab": {
          "base_uri": "https://localhost:8080/",
          "height": 249
        }
      },
      "source": [
        "fig, (ax, ax2,ax3,ax4) = plt.subplots(nrows=1,ncols=4, sharey=True)#fig, axes = plt.subplots(nrows=1,ncols=2)\n",
        "data.pivot_table(columns='gender',values=('attr4_1','attr4_2','attr4_3')).plot(figsize=(18,3),kind='line',ax = ax)\n",
        "data.pivot_table(columns='gender',values=('sinc4_1','sinc4_2','sinc4_3')).plot(kind='line',ax = ax2)\n",
        "data.pivot_table(columns='gender',values=('intel4_1','intel4_2','intel4_3')).plot(kind='line',ax=ax3)\n",
        "data.pivot_table(columns='gender',values=('fun4_1','fun4_2','fun4_3')).plot(kind='line',ax=ax4)"
      ],
      "execution_count": 544,
      "outputs": [
        {
          "output_type": "execute_result",
          "data": {
            "text/plain": [
              "<matplotlib.axes._subplots.AxesSubplot at 0x7fd44b2d1ac8>"
            ]
          },
          "metadata": {
            "tags": []
          },
          "execution_count": 544
        },
        {
          "output_type": "display_data",
          "data": {
            "image/png": "[encoded data removed]",
            "text/plain": [
              "<Figure size 1296x216 with 4 Axes>"
            ]
          },
          "metadata": {
            "tags": []
          }
        }
      ]
    },
    {
      "cell_type": "code",
      "metadata": {
        "id": "94Nee9UB1DEs",
        "colab_type": "code",
        "outputId": "97b9f39d-201d-439a-ede2-7aadfcf6d8c0",
        "colab": {
          "base_uri": "https://localhost:8080/",
          "height": 250
        }
      },
      "source": [
        "fig, (ax, ax2) = plt.subplots(nrows=1,ncols=2, sharey=True)\n",
        "data.pivot_table(columns='gender',values=('amb4_1','amb4_2','amb4_3')).plot(figsize=(18,3),kind='line',ax=ax)\n",
        "data.pivot_table(columns='gender',values=('shar4_1','shar4_2','shar4_3')).plot(kind='line',ax=ax2)\n"
      ],
      "execution_count": 545,
      "outputs": [
        {
          "output_type": "execute_result",
          "data": {
            "text/plain": [
              "<matplotlib.axes._subplots.AxesSubplot at 0x7fd44b1e60f0>"
            ]
          },
          "metadata": {
            "tags": []
          },
          "execution_count": 545
        },
        {
          "output_type": "display_data",
          "data": {
            "image/png": "[encoded data removed]",
            "text/plain": [
              "<Figure size 1296x216 with 2 Axes>"
            ]
          },
          "metadata": {
            "tags": []
          }
        }
      ]
    },
    {
      "cell_type": "markdown",
      "metadata": {
        "id": "lfHjCAbl-9TI",
        "colab_type": "text"
      },
      "source": [
        "## opposite sex looks for in a date"
      ]
    },
    {
      "cell_type": "code",
      "metadata": {
        "id": "mFgiVtmk1C62",
        "colab_type": "code",
        "outputId": "016ee935-4385-43a2-8659-7c0ed5c6aaf9",
        "colab": {
          "base_uri": "https://localhost:8080/",
          "height": 249
        }
      },
      "source": [
        "fig, (ax, ax2,ax3,ax4) = plt.subplots(nrows=1,ncols=4, sharey=True)\n",
        "data.pivot_table(columns='gender',values=('attr2_1','attr2_2','attr2_3')).plot(figsize=(18,3),kind='line',ax = ax)\n",
        "data.pivot_table(columns='gender',values=('sinc2_1','sinc2_2','sinc2_3')).plot(kind='line',ax = ax2)\n",
        "data.pivot_table(columns='gender',values=('intel2_1','intel2_2','intel2_3')).plot(kind='line',ax=ax3)\n",
        "data.pivot_table(columns='gender',values=('fun2_1','fun2_2','fun2_3')).plot(kind='line',ax=ax4)"
      ],
      "execution_count": 546,
      "outputs": [
        {
          "output_type": "execute_result",
          "data": {
            "text/plain": [
              "<matplotlib.axes._subplots.AxesSubplot at 0x7fd44b09be48>"
            ]
          },
          "metadata": {
            "tags": []
          },
          "execution_count": 546
        },
        {
          "output_type": "display_data",
          "data": {
            "image/png": "[encoded data removed]",
            "text/plain": [
              "<Figure size 1296x216 with 4 Axes>"
            ]
          },
          "metadata": {
            "tags": []
          }
        }
      ]
    },
    {
      "cell_type": "markdown",
      "metadata": {
        "id": "iNHo7ZTs_eqB",
        "colab_type": "text"
      },
      "source": [
        "It can be infered candidate expectation has not meet up the reality as all the graphs are declining for result on same day and for result after 3-4 weeks"
      ]
    },
    {
      "cell_type": "code",
      "metadata": {
        "id": "SQmEWcyk_pDk",
        "colab_type": "code",
        "outputId": "5f1b5070-d023-4e0a-af17-b195243338fd",
        "colab": {
          "base_uri": "https://localhost:8080/",
          "height": 249
        }
      },
      "source": [
        "fig, (ax, ax2) = plt.subplots(nrows=1,ncols=2, sharey=True)\n",
        "data.pivot_table(columns='gender',values=('amb2_1','amb2_2','amb2_3')).plot(figsize=(18,3),kind='line',ax=ax)\n",
        "data.pivot_table(columns='gender',values=('shar2_1','shar2_2','shar2_3')).plot(kind='line',ax=ax2)\n"
      ],
      "execution_count": 547,
      "outputs": [
        {
          "output_type": "execute_result",
          "data": {
            "text/plain": [
              "<matplotlib.axes._subplots.AxesSubplot at 0x7fd44afb2860>"
            ]
          },
          "metadata": {
            "tags": []
          },
          "execution_count": 547
        },
        {
          "output_type": "display_data",
          "data": {
            "image/png": "[encoded data removed]",
            "text/plain": [
              "<Figure size 1296x216 with 2 Axes>"
            ]
          },
          "metadata": {
            "tags": []
          }
        }
      ]
    },
    {
      "cell_type": "markdown",
      "metadata": {
        "id": "cexjmH6bBDUm",
        "colab_type": "text"
      },
      "source": [
        "Atleast men have started considering similar intreset after the event as we can see only men line for similar interest has bit higher"
      ]
    },
    {
      "cell_type": "markdown",
      "metadata": {
        "id": "VDALFyYOBq26",
        "colab_type": "text"
      },
      "source": [
        "## How you measure yourself"
      ]
    },
    {
      "cell_type": "code",
      "metadata": {
        "id": "2Cq6wW-xBPaW",
        "colab_type": "code",
        "outputId": "ce1e0cf3-2d5c-4dde-a8ad-bb9e2ebbe08d",
        "colab": {
          "base_uri": "https://localhost:8080/",
          "height": 249
        }
      },
      "source": [
        "fig, (ax, ax2,ax3,ax4,ax5) = plt.subplots(nrows=1,ncols=5, sharey=True)#fig, axes = plt.subplots(nrows=1,ncols=2)\n",
        "data.pivot_table(columns='gender',values=('attr3_1','attr3_s','attr3_2','attr3_3')).plot(figsize=(18,3),kind='line',ax = ax)\n",
        "data.pivot_table(columns='gender',values=('sinc3_1','sinc3_2','sinc3_3','sinc3_s')).plot(kind='line',ax = ax2)\n",
        "data.pivot_table(columns='gender',values=('intel3_1','intel3_2','intel3_3','intel3_s')).plot(kind='line',ax=ax3)\n",
        "data.pivot_table(columns='gender',values=('fun3_1','fun3_2','fun3_3','fun3_s')).plot(kind='line',ax=ax4)\n",
        "data.pivot_table(columns='gender',values=('amb3_1','amb3_2','amb3_3','amb3_s')).plot(kind='line',ax=ax5)"
      ],
      "execution_count": 548,
      "outputs": [
        {
          "output_type": "execute_result",
          "data": {
            "text/plain": [
              "<matplotlib.axes._subplots.AxesSubplot at 0x7fd44adc5b38>"
            ]
          },
          "metadata": {
            "tags": []
          },
          "execution_count": 548
        },
        {
          "output_type": "display_data",
          "data": {
            "image/png": "[encoded data removed]",
            "text/plain": [
              "<Figure size 1296x216 with 5 Axes>"
            ]
          },
          "metadata": {
            "tags": []
          }
        }
      ]
    },
    {
      "cell_type": "markdown",
      "metadata": {
        "id": "ZswRXrzeB1Hl",
        "colab_type": "text"
      },
      "source": [
        "#How your date will rate you"
      ]
    },
    {
      "cell_type": "code",
      "metadata": {
        "id": "km7XPby7B4rF",
        "colab_type": "code",
        "outputId": "5f01542d-b49b-40c6-8106-d8093c38d012",
        "colab": {
          "base_uri": "https://localhost:8080/",
          "height": 249
        }
      },
      "source": [
        "fig, (ax, ax2,ax3,ax4,ax5) = plt.subplots(nrows=1,ncols=5, sharey=True)#fig, axes = plt.subplots(nrows=1,ncols=2)\n",
        "data.pivot_table(columns='gender',values=('attr5_1','attr5_2','attr5_3')).plot(figsize=(18,3),kind='line',ax = ax)\n",
        "data.pivot_table(columns='gender',values=('sinc5_1','sinc5_2','sinc5_3')).plot(kind='line',ax = ax2)\n",
        "data.pivot_table(columns='gender',values=('intel5_1','intel5_2','intel5_3')).plot(kind='line',ax=ax3)\n",
        "data.pivot_table(columns='gender',values=('fun5_1','fun5_2','fun5_3')).plot(kind='line',ax=ax4)\n",
        "data.pivot_table(columns='gender',values=('amb5_1','amb5_2','amb5_3')).plot(kind='line',ax=ax5)"
      ],
      "execution_count": 549,
      "outputs": [
        {
          "output_type": "execute_result",
          "data": {
            "text/plain": [
              "<matplotlib.axes._subplots.AxesSubplot at 0x7fd44ac2cd30>"
            ]
          },
          "metadata": {
            "tags": []
          },
          "execution_count": 549
        },
        {
          "output_type": "display_data",
          "data": {
            "image/png": "[encoded data removed]",
            "text/plain": [
              "<Figure size 1296x216 with 5 Axes>"
            ]
          },
          "metadata": {
            "tags": []
          }
        }
      ]
    },
    {
      "cell_type": "markdown",
      "metadata": {
        "id": "4gBXMvX1SyNP",
        "colab_type": "text"
      },
      "source": [
        "## We can say from graphs how candidate value for each traits changes according to the event"
      ]
    },
    {
      "cell_type": "markdown",
      "metadata": {
        "id": "il0K6-caS_Ur",
        "colab_type": "text"
      },
      "source": [
        "# Candidate rating during event after each date"
      ]
    },
    {
      "cell_type": "code",
      "metadata": {
        "id": "fewUOJlEE-9K",
        "colab_type": "code",
        "colab": {
          "base_uri": "https://localhost:8080/",
          "height": 189
        },
        "outputId": "ea4053c8-7e74-4691-9a14-64f62b1f90bf"
      },
      "source": [
        "fig, (ax, ax2,ax3,ax4) = plt.subplots(nrows=1,ncols=4, sharey=True) \n",
        "bins=[1,3,5,7,10]\n",
        "groups=['1-3','3-5','5-7','7-10']\n",
        "\n",
        "data['like_bin']=pd.cut(data['like'],bins,labels=groups)\n",
        "like_bin_match=pd.crosstab(data['like_bin'],data['match'])\n",
        "like_bin_match.div(like_bin_match.sum(1).astype(float),axis=0).plot(figsize=(12,2),kind='line',ax=ax)\n",
        "\n",
        "data['attr_bin']=pd.cut(data['attr'],bins,labels=groups)\n",
        "attr_bin_match=pd.crosstab(data['attr_bin'],data['match'])\n",
        "attr_bin_match.div(attr_bin_match.sum(1).astype(float),axis=0).plot(kind='line',ax=ax2)\n",
        "\n",
        "data['sinc_bin']=pd.cut(data['sinc'],bins,labels=groups)\n",
        "sinc_bin_match=pd.crosstab(data['sinc_bin'],data['match'])\n",
        "sinc_bin_match.div(sinc_bin_match.sum(1).astype(float),axis=0).plot(kind='line',ax=ax3)\n",
        "\n",
        "data['intel_bin']=pd.cut(data['intel'],bins,labels=groups)\n",
        "intel_bin_match=pd.crosstab(data['intel_bin'],data['match'])\n",
        "intel_bin_match.div(intel_bin_match.sum(1).astype(float),axis=0).plot(kind='line',ax=ax4)\n"
      ],
      "execution_count": 550,
      "outputs": [
        {
          "output_type": "execute_result",
          "data": {
            "text/plain": [
              "<matplotlib.axes._subplots.AxesSubplot at 0x7fd44aa70dd8>"
            ]
          },
          "metadata": {
            "tags": []
          },
          "execution_count": 550
        },
        {
          "output_type": "display_data",
          "data": {
            "image/png": "[encoded data removed]",
            "text/plain": [
              "<Figure size 864x144 with 4 Axes>"
            ]
          },
          "metadata": {
            "tags": []
          }
        }
      ]
    },
    {
      "cell_type": "code",
      "metadata": {
        "id": "kvCxsvwjPzBw",
        "colab_type": "code",
        "colab": {
          "base_uri": "https://localhost:8080/",
          "height": 190
        },
        "outputId": "d1cb7e6e-8b09-4a9a-9b57-0b98e45ff26e"
      },
      "source": [
        "fig, (ax, ax2,ax3,ax4) = plt.subplots(nrows=1,ncols=4, sharey=True) \n",
        "data['fun_bin']=pd.cut(data['fun'],bins,labels=groups)\n",
        "fun_bin_match=pd.crosstab(data['fun_bin'],data['match'])\n",
        "fun_bin_match.div(fun_bin_match.sum(1).astype(float),axis=0).plot(figsize=(12,2),kind='line',ax=ax)\n",
        "\n",
        "data['amb_bin']=pd.cut(data['amb'],bins,labels=groups)\n",
        "amb_bin_match=pd.crosstab(data['amb_bin'],data['match'])\n",
        "amb_bin_match.div(amb_bin_match.sum(1).astype(float),axis=0).plot(kind='line',ax=ax2)\n",
        "\n",
        "data['shar_bin']=pd.cut(data['shar'],bins,labels=groups)\n",
        "shar_bin_match=pd.crosstab(data['shar_bin'],data['match'])\n",
        "shar_bin_match.div(shar_bin_match.sum(1).astype(float),axis=0).plot(kind='line',ax=ax3)\n",
        "\n",
        "data['prob_bin']=pd.cut(data['prob'],bins,labels=groups)\n",
        "prob_bin_match=pd.crosstab(data['prob_bin'],data['match'])\n",
        "prob_bin_match.div(prob_bin_match.sum(1).astype(float),axis=0).plot(kind='line',ax=ax4)"
      ],
      "execution_count": 551,
      "outputs": [
        {
          "output_type": "execute_result",
          "data": {
            "text/plain": [
              "<matplotlib.axes._subplots.AxesSubplot at 0x7fd44a8e4c18>"
            ]
          },
          "metadata": {
            "tags": []
          },
          "execution_count": 551
        },
        {
          "output_type": "display_data",
          "data": {
            "image/png": "[encoded data removed]",
            "text/plain": [
              "<Figure size 864x144 with 4 Axes>"
            ]
          },
          "metadata": {
            "tags": []
          }
        }
      ]
    },
    {
      "cell_type": "markdown",
      "metadata": {
        "id": "6Gpssuu1CAnc",
        "colab_type": "text"
      },
      "source": [
        "#Time up 2\n",
        "\n",
        "how satisfied were you with the people you met? "
      ]
    },
    {
      "cell_type": "code",
      "metadata": {
        "id": "EQcNrrWhCDFL",
        "colab_type": "code",
        "outputId": "32a922f6-0483-4270-c770-85d47ce7867f",
        "colab": {
          "base_uri": "https://localhost:8080/",
          "height": 309
        }
      },
      "source": [
        "satis_2_match=pd.crosstab(data['satis_2'],data['match'])\n",
        "satis_2_match.div(satis_2_match.sum(1).astype(float),axis=0).plot(kind='bar')"
      ],
      "execution_count": 552,
      "outputs": [
        {
          "output_type": "execute_result",
          "data": {
            "text/plain": [
              "<matplotlib.axes._subplots.AxesSubplot at 0x7fd44b159eb8>"
            ]
          },
          "metadata": {
            "tags": []
          },
          "execution_count": 552
        },
        {
          "output_type": "display_data",
          "data": {
            "image/png": "[encoded data removed]",
            "text/plain": [
              "<Figure size 432x288 with 1 Axes>"
            ]
          },
          "metadata": {
            "tags": []
          }
        }
      ]
    },
    {
      "cell_type": "markdown",
      "metadata": {
        "id": "9X4iRU86CPgk",
        "colab_type": "text"
      },
      "source": [
        "It can be inferred people who are quite satisfied(who rated more than 6) have got the match"
      ]
    },
    {
      "cell_type": "markdown",
      "metadata": {
        "id": "kAmALGU-CY4E",
        "colab_type": "text"
      },
      "source": [
        "##Length"
      ]
    },
    {
      "cell_type": "code",
      "metadata": {
        "id": "NOvODiH6CbVD",
        "colab_type": "code",
        "outputId": "5d192e79-84f8-4252-808b-e2de76591f5e",
        "colab": {
          "base_uri": "https://localhost:8080/",
          "height": 173
        }
      },
      "source": [
        "length_match=pd.crosstab(data['length'],data['match'])\n",
        "length_match.div(length_match.sum(1).astype(float),axis=0)"
      ],
      "execution_count": 553,
      "outputs": [
        {
          "output_type": "execute_result",
          "data": {
            "text/html": [
              "<div>\n",
              "<style scoped>\n",
              "    .dataframe tbody tr th:only-of-type {\n",
              "        vertical-align: middle;\n",
              "    }\n",
              "\n",
              "    .dataframe tbody tr th {\n",
              "        vertical-align: top;\n",
              "    }\n",
              "\n",
              "    .dataframe thead th {\n",
              "        text-align: right;\n",
              "    }\n",
              "</style>\n",
              "<table border=\"1\" class=\"dataframe\">\n",
              "  <thead>\n",
              "    <tr style=\"text-align: right;\">\n",
              "      <th>match</th>\n",
              "      <th>0</th>\n",
              "      <th>1</th>\n",
              "    </tr>\n",
              "    <tr>\n",
              "      <th>length</th>\n",
              "      <th></th>\n",
              "      <th></th>\n",
              "    </tr>\n",
              "  </thead>\n",
              "  <tbody>\n",
              "    <tr>\n",
              "      <th>1.0</th>\n",
              "      <td>0.843151</td>\n",
              "      <td>0.156849</td>\n",
              "    </tr>\n",
              "    <tr>\n",
              "      <th>2.0</th>\n",
              "      <td>0.762712</td>\n",
              "      <td>0.237288</td>\n",
              "    </tr>\n",
              "    <tr>\n",
              "      <th>3.0</th>\n",
              "      <td>0.822491</td>\n",
              "      <td>0.177509</td>\n",
              "    </tr>\n",
              "  </tbody>\n",
              "</table>\n",
              "</div>"
            ],
            "text/plain": [
              "match          0         1\n",
              "length                    \n",
              "1.0     0.843151  0.156849\n",
              "2.0     0.762712  0.237288\n",
              "3.0     0.822491  0.177509"
            ]
          },
          "metadata": {
            "tags": []
          },
          "execution_count": 553
        }
      ]
    },
    {
      "cell_type": "markdown",
      "metadata": {
        "id": "8II1bWNPCiK6",
        "colab_type": "text"
      },
      "source": [
        "Candidate who thinks 4 min is too much time got the most match"
      ]
    },
    {
      "cell_type": "code",
      "metadata": {
        "id": "pekJ8HrrCoXh",
        "colab_type": "code",
        "outputId": "797b409c-11ff-4448-fc40-9cd551d7ed13",
        "colab": {
          "base_uri": "https://localhost:8080/",
          "height": 173
        }
      },
      "source": [
        "length_gender=pd.crosstab(data['length'],data['gender'])\n",
        "length_gender.div(length_gender.sum(1).astype(float),axis=0)"
      ],
      "execution_count": 554,
      "outputs": [
        {
          "output_type": "execute_result",
          "data": {
            "text/html": [
              "<div>\n",
              "<style scoped>\n",
              "    .dataframe tbody tr th:only-of-type {\n",
              "        vertical-align: middle;\n",
              "    }\n",
              "\n",
              "    .dataframe tbody tr th {\n",
              "        vertical-align: top;\n",
              "    }\n",
              "\n",
              "    .dataframe thead th {\n",
              "        text-align: right;\n",
              "    }\n",
              "</style>\n",
              "<table border=\"1\" class=\"dataframe\">\n",
              "  <thead>\n",
              "    <tr style=\"text-align: right;\">\n",
              "      <th>gender</th>\n",
              "      <th>0</th>\n",
              "      <th>1</th>\n",
              "    </tr>\n",
              "    <tr>\n",
              "      <th>length</th>\n",
              "      <th></th>\n",
              "      <th></th>\n",
              "    </tr>\n",
              "  </thead>\n",
              "  <tbody>\n",
              "    <tr>\n",
              "      <th>1.0</th>\n",
              "      <td>0.431275</td>\n",
              "      <td>0.568725</td>\n",
              "    </tr>\n",
              "    <tr>\n",
              "      <th>2.0</th>\n",
              "      <td>0.672316</td>\n",
              "      <td>0.327684</td>\n",
              "    </tr>\n",
              "    <tr>\n",
              "      <th>3.0</th>\n",
              "      <td>0.559333</td>\n",
              "      <td>0.440667</td>\n",
              "    </tr>\n",
              "  </tbody>\n",
              "</table>\n",
              "</div>"
            ],
            "text/plain": [
              "gender         0         1\n",
              "length                    \n",
              "1.0     0.431275  0.568725\n",
              "2.0     0.672316  0.327684\n",
              "3.0     0.559333  0.440667"
            ]
          },
          "metadata": {
            "tags": []
          },
          "execution_count": 554
        }
      ]
    },
    {
      "cell_type": "markdown",
      "metadata": {
        "id": "siilzjhSCuJm",
        "colab_type": "text"
      },
      "source": [
        "Mostly female are the ones who think 4 minutes is too long "
      ]
    },
    {
      "cell_type": "markdown",
      "metadata": {
        "id": "_4Om9IXpCx7m",
        "colab_type": "text"
      },
      "source": [
        "##Numdat_2--> The number of Speed \"Dates\" you had "
      ]
    },
    {
      "cell_type": "code",
      "metadata": {
        "id": "xEC8vdxHCtd7",
        "colab_type": "code",
        "outputId": "72df3906-858f-4056-8c2b-7942acddca43",
        "colab": {
          "base_uri": "https://localhost:8080/",
          "height": 173
        }
      },
      "source": [
        "numdat2_match=pd.crosstab(data['numdat_2'],data['match'])\n",
        "numdat2_match.div(numdat2_match.sum(1).astype(float),axis=0)"
      ],
      "execution_count": 555,
      "outputs": [
        {
          "output_type": "execute_result",
          "data": {
            "text/html": [
              "<div>\n",
              "<style scoped>\n",
              "    .dataframe tbody tr th:only-of-type {\n",
              "        vertical-align: middle;\n",
              "    }\n",
              "\n",
              "    .dataframe tbody tr th {\n",
              "        vertical-align: top;\n",
              "    }\n",
              "\n",
              "    .dataframe thead th {\n",
              "        text-align: right;\n",
              "    }\n",
              "</style>\n",
              "<table border=\"1\" class=\"dataframe\">\n",
              "  <thead>\n",
              "    <tr style=\"text-align: right;\">\n",
              "      <th>match</th>\n",
              "      <th>0</th>\n",
              "      <th>1</th>\n",
              "    </tr>\n",
              "    <tr>\n",
              "      <th>numdat_2</th>\n",
              "      <th></th>\n",
              "      <th></th>\n",
              "    </tr>\n",
              "  </thead>\n",
              "  <tbody>\n",
              "    <tr>\n",
              "      <th>1.0</th>\n",
              "      <td>0.828968</td>\n",
              "      <td>0.171032</td>\n",
              "    </tr>\n",
              "    <tr>\n",
              "      <th>2.0</th>\n",
              "      <td>0.840420</td>\n",
              "      <td>0.159580</td>\n",
              "    </tr>\n",
              "    <tr>\n",
              "      <th>3.0</th>\n",
              "      <td>0.826376</td>\n",
              "      <td>0.173624</td>\n",
              "    </tr>\n",
              "  </tbody>\n",
              "</table>\n",
              "</div>"
            ],
            "text/plain": [
              "match            0         1\n",
              "numdat_2                    \n",
              "1.0       0.828968  0.171032\n",
              "2.0       0.840420  0.159580\n",
              "3.0       0.826376  0.173624"
            ]
          },
          "metadata": {
            "tags": []
          },
          "execution_count": 555
        }
      ]
    },
    {
      "cell_type": "markdown",
      "metadata": {
        "id": "V5mwYzHWDBUt",
        "colab_type": "text"
      },
      "source": [
        "The numbers of speed date doesn't ensure match"
      ]
    },
    {
      "cell_type": "code",
      "metadata": {
        "id": "VDZ0s-8NDN0A",
        "colab_type": "code",
        "outputId": "6939c419-c9ce-48bf-ba54-dda2a374820f",
        "colab": {
          "base_uri": "https://localhost:8080/",
          "height": 173
        }
      },
      "source": [
        "numdat2_gender=pd.crosstab(data['numdat_2'],data['gender'])\n",
        "numdat2_gender.div(numdat2_gender.sum(1).astype(float),axis=0)"
      ],
      "execution_count": 556,
      "outputs": [
        {
          "output_type": "execute_result",
          "data": {
            "text/html": [
              "<div>\n",
              "<style scoped>\n",
              "    .dataframe tbody tr th:only-of-type {\n",
              "        vertical-align: middle;\n",
              "    }\n",
              "\n",
              "    .dataframe tbody tr th {\n",
              "        vertical-align: top;\n",
              "    }\n",
              "\n",
              "    .dataframe thead th {\n",
              "        text-align: right;\n",
              "    }\n",
              "</style>\n",
              "<table border=\"1\" class=\"dataframe\">\n",
              "  <thead>\n",
              "    <tr style=\"text-align: right;\">\n",
              "      <th>gender</th>\n",
              "      <th>0</th>\n",
              "      <th>1</th>\n",
              "    </tr>\n",
              "    <tr>\n",
              "      <th>numdat_2</th>\n",
              "      <th></th>\n",
              "      <th></th>\n",
              "    </tr>\n",
              "  </thead>\n",
              "  <tbody>\n",
              "    <tr>\n",
              "      <th>1.0</th>\n",
              "      <td>0.420647</td>\n",
              "      <td>0.579353</td>\n",
              "    </tr>\n",
              "    <tr>\n",
              "      <th>2.0</th>\n",
              "      <td>0.520983</td>\n",
              "      <td>0.479017</td>\n",
              "    </tr>\n",
              "    <tr>\n",
              "      <th>3.0</th>\n",
              "      <td>0.469007</td>\n",
              "      <td>0.530993</td>\n",
              "    </tr>\n",
              "  </tbody>\n",
              "</table>\n",
              "</div>"
            ],
            "text/plain": [
              "gender           0         1\n",
              "numdat_2                    \n",
              "1.0       0.420647  0.579353\n",
              "2.0       0.520983  0.479017\n",
              "3.0       0.469007  0.530993"
            ]
          },
          "metadata": {
            "tags": []
          },
          "execution_count": 556
        }
      ]
    },
    {
      "cell_type": "code",
      "metadata": {
        "id": "k8lBpd83yk03",
        "colab_type": "code",
        "outputId": "e5dec307-e68c-4f0d-a278-34789a0c1246",
        "colab": {
          "base_uri": "https://localhost:8080/",
          "height": 359
        }
      },
      "source": [
        "you_call_gender=pd.crosstab(data['you_call'],data['gender'])\n",
        "you_call_gender.div(you_call_gender.sum(1).astype(float),axis=0)"
      ],
      "execution_count": 557,
      "outputs": [
        {
          "output_type": "execute_result",
          "data": {
            "text/html": [
              "<div>\n",
              "<style scoped>\n",
              "    .dataframe tbody tr th:only-of-type {\n",
              "        vertical-align: middle;\n",
              "    }\n",
              "\n",
              "    .dataframe tbody tr th {\n",
              "        vertical-align: top;\n",
              "    }\n",
              "\n",
              "    .dataframe thead th {\n",
              "        text-align: right;\n",
              "    }\n",
              "</style>\n",
              "<table border=\"1\" class=\"dataframe\">\n",
              "  <thead>\n",
              "    <tr style=\"text-align: right;\">\n",
              "      <th>gender</th>\n",
              "      <th>0</th>\n",
              "      <th>1</th>\n",
              "    </tr>\n",
              "    <tr>\n",
              "      <th>you_call</th>\n",
              "      <th></th>\n",
              "      <th></th>\n",
              "    </tr>\n",
              "  </thead>\n",
              "  <tbody>\n",
              "    <tr>\n",
              "      <th>0.0</th>\n",
              "      <td>0.735391</td>\n",
              "      <td>0.264609</td>\n",
              "    </tr>\n",
              "    <tr>\n",
              "      <th>1.0</th>\n",
              "      <td>0.288942</td>\n",
              "      <td>0.711058</td>\n",
              "    </tr>\n",
              "    <tr>\n",
              "      <th>2.0</th>\n",
              "      <td>0.291045</td>\n",
              "      <td>0.708955</td>\n",
              "    </tr>\n",
              "    <tr>\n",
              "      <th>3.0</th>\n",
              "      <td>0.147368</td>\n",
              "      <td>0.852632</td>\n",
              "    </tr>\n",
              "    <tr>\n",
              "      <th>4.0</th>\n",
              "      <td>0.173077</td>\n",
              "      <td>0.826923</td>\n",
              "    </tr>\n",
              "    <tr>\n",
              "      <th>5.0</th>\n",
              "      <td>0.000000</td>\n",
              "      <td>1.000000</td>\n",
              "    </tr>\n",
              "    <tr>\n",
              "      <th>6.0</th>\n",
              "      <td>0.454545</td>\n",
              "      <td>0.545455</td>\n",
              "    </tr>\n",
              "    <tr>\n",
              "      <th>8.0</th>\n",
              "      <td>0.000000</td>\n",
              "      <td>1.000000</td>\n",
              "    </tr>\n",
              "    <tr>\n",
              "      <th>21.0</th>\n",
              "      <td>0.000000</td>\n",
              "      <td>1.000000</td>\n",
              "    </tr>\n",
              "  </tbody>\n",
              "</table>\n",
              "</div>"
            ],
            "text/plain": [
              "gender           0         1\n",
              "you_call                    \n",
              "0.0       0.735391  0.264609\n",
              "1.0       0.288942  0.711058\n",
              "2.0       0.291045  0.708955\n",
              "3.0       0.147368  0.852632\n",
              "4.0       0.173077  0.826923\n",
              "5.0       0.000000  1.000000\n",
              "6.0       0.454545  0.545455\n",
              "8.0       0.000000  1.000000\n",
              "21.0      0.000000  1.000000"
            ]
          },
          "metadata": {
            "tags": []
          },
          "execution_count": 557
        }
      ]
    },
    {
      "cell_type": "markdown",
      "metadata": {
        "id": "fpIVGbPSDOYI",
        "colab_type": "text"
      },
      "source": [
        "The number of speed dates doesn't really effect match"
      ]
    },
    {
      "cell_type": "markdown",
      "metadata": {
        "id": "9fBLWfnaDpcy",
        "colab_type": "text"
      },
      "source": [
        "#Time 3"
      ]
    },
    {
      "cell_type": "markdown",
      "metadata": {
        "id": "WSwxIwHie-fY",
        "colab_type": "text"
      },
      "source": [
        "How many have you contacted to set up a date?"
      ]
    },
    {
      "cell_type": "code",
      "metadata": {
        "id": "dXlEfyEwyuzH",
        "colab_type": "code",
        "outputId": "7b8364ce-b06a-4681-c558-7f6f51f735c1",
        "colab": {
          "base_uri": "https://localhost:8080/",
          "height": 359
        }
      },
      "source": [
        "you_call_match=pd.crosstab(data['you_call'],data['match'])\n",
        "you_call_match.div(you_call_match.sum(1).astype(float),axis=0)"
      ],
      "execution_count": 558,
      "outputs": [
        {
          "output_type": "execute_result",
          "data": {
            "text/html": [
              "<div>\n",
              "<style scoped>\n",
              "    .dataframe tbody tr th:only-of-type {\n",
              "        vertical-align: middle;\n",
              "    }\n",
              "\n",
              "    .dataframe tbody tr th {\n",
              "        vertical-align: top;\n",
              "    }\n",
              "\n",
              "    .dataframe thead th {\n",
              "        text-align: right;\n",
              "    }\n",
              "</style>\n",
              "<table border=\"1\" class=\"dataframe\">\n",
              "  <thead>\n",
              "    <tr style=\"text-align: right;\">\n",
              "      <th>match</th>\n",
              "      <th>0</th>\n",
              "      <th>1</th>\n",
              "    </tr>\n",
              "    <tr>\n",
              "      <th>you_call</th>\n",
              "      <th></th>\n",
              "      <th></th>\n",
              "    </tr>\n",
              "  </thead>\n",
              "  <tbody>\n",
              "    <tr>\n",
              "      <th>0.0</th>\n",
              "      <td>0.839918</td>\n",
              "      <td>0.160082</td>\n",
              "    </tr>\n",
              "    <tr>\n",
              "      <th>1.0</th>\n",
              "      <td>0.843044</td>\n",
              "      <td>0.156956</td>\n",
              "    </tr>\n",
              "    <tr>\n",
              "      <th>2.0</th>\n",
              "      <td>0.768657</td>\n",
              "      <td>0.231343</td>\n",
              "    </tr>\n",
              "    <tr>\n",
              "      <th>3.0</th>\n",
              "      <td>0.736842</td>\n",
              "      <td>0.263158</td>\n",
              "    </tr>\n",
              "    <tr>\n",
              "      <th>4.0</th>\n",
              "      <td>0.730769</td>\n",
              "      <td>0.269231</td>\n",
              "    </tr>\n",
              "    <tr>\n",
              "      <th>5.0</th>\n",
              "      <td>0.682927</td>\n",
              "      <td>0.317073</td>\n",
              "    </tr>\n",
              "    <tr>\n",
              "      <th>6.0</th>\n",
              "      <td>0.606061</td>\n",
              "      <td>0.393939</td>\n",
              "    </tr>\n",
              "    <tr>\n",
              "      <th>8.0</th>\n",
              "      <td>0.555556</td>\n",
              "      <td>0.444444</td>\n",
              "    </tr>\n",
              "    <tr>\n",
              "      <th>21.0</th>\n",
              "      <td>0.800000</td>\n",
              "      <td>0.200000</td>\n",
              "    </tr>\n",
              "  </tbody>\n",
              "</table>\n",
              "</div>"
            ],
            "text/plain": [
              "match            0         1\n",
              "you_call                    \n",
              "0.0       0.839918  0.160082\n",
              "1.0       0.843044  0.156956\n",
              "2.0       0.768657  0.231343\n",
              "3.0       0.736842  0.263158\n",
              "4.0       0.730769  0.269231\n",
              "5.0       0.682927  0.317073\n",
              "6.0       0.606061  0.393939\n",
              "8.0       0.555556  0.444444\n",
              "21.0      0.800000  0.200000"
            ]
          },
          "metadata": {
            "tags": []
          },
          "execution_count": 558
        }
      ]
    },
    {
      "cell_type": "markdown",
      "metadata": {
        "id": "UCo2XqcWy-ja",
        "colab_type": "text"
      },
      "source": [
        "Candidate who have called around 8 speed date have got date"
      ]
    },
    {
      "cell_type": "markdown",
      "metadata": {
        "id": "RHdMiNmky20a",
        "colab_type": "text"
      },
      "source": [
        "Women have called less time than men"
      ]
    },
    {
      "cell_type": "markdown",
      "metadata": {
        "id": "X8KVky_mfI-l",
        "colab_type": "text"
      },
      "source": [
        "How many have contacted you?"
      ]
    },
    {
      "cell_type": "code",
      "metadata": {
        "id": "kBptEnmyy7US",
        "colab_type": "code",
        "outputId": "813f65d1-9823-4f75-e8a0-2d39a9fdead2",
        "colab": {
          "base_uri": "https://localhost:8080/",
          "height": 328
        }
      },
      "source": [
        "them_call_gender=pd.crosstab(data['them_cal'],data['gender'])\n",
        "them_call_gender.div(them_call_gender.sum(1).astype(float),axis=0)"
      ],
      "execution_count": 559,
      "outputs": [
        {
          "output_type": "execute_result",
          "data": {
            "text/html": [
              "<div>\n",
              "<style scoped>\n",
              "    .dataframe tbody tr th:only-of-type {\n",
              "        vertical-align: middle;\n",
              "    }\n",
              "\n",
              "    .dataframe tbody tr th {\n",
              "        vertical-align: top;\n",
              "    }\n",
              "\n",
              "    .dataframe thead th {\n",
              "        text-align: right;\n",
              "    }\n",
              "</style>\n",
              "<table border=\"1\" class=\"dataframe\">\n",
              "  <thead>\n",
              "    <tr style=\"text-align: right;\">\n",
              "      <th>gender</th>\n",
              "      <th>0</th>\n",
              "      <th>1</th>\n",
              "    </tr>\n",
              "    <tr>\n",
              "      <th>them_cal</th>\n",
              "      <th></th>\n",
              "      <th></th>\n",
              "    </tr>\n",
              "  </thead>\n",
              "  <tbody>\n",
              "    <tr>\n",
              "      <th>0.0</th>\n",
              "      <td>0.434937</td>\n",
              "      <td>0.565063</td>\n",
              "    </tr>\n",
              "    <tr>\n",
              "      <th>1.0</th>\n",
              "      <td>0.581681</td>\n",
              "      <td>0.418319</td>\n",
              "    </tr>\n",
              "    <tr>\n",
              "      <th>2.0</th>\n",
              "      <td>0.641921</td>\n",
              "      <td>0.358079</td>\n",
              "    </tr>\n",
              "    <tr>\n",
              "      <th>3.0</th>\n",
              "      <td>1.000000</td>\n",
              "      <td>0.000000</td>\n",
              "    </tr>\n",
              "    <tr>\n",
              "      <th>4.0</th>\n",
              "      <td>0.812500</td>\n",
              "      <td>0.187500</td>\n",
              "    </tr>\n",
              "    <tr>\n",
              "      <th>5.0</th>\n",
              "      <td>1.000000</td>\n",
              "      <td>0.000000</td>\n",
              "    </tr>\n",
              "    <tr>\n",
              "      <th>6.0</th>\n",
              "      <td>0.000000</td>\n",
              "      <td>1.000000</td>\n",
              "    </tr>\n",
              "    <tr>\n",
              "      <th>9.0</th>\n",
              "      <td>1.000000</td>\n",
              "      <td>0.000000</td>\n",
              "    </tr>\n",
              "  </tbody>\n",
              "</table>\n",
              "</div>"
            ],
            "text/plain": [
              "gender           0         1\n",
              "them_cal                    \n",
              "0.0       0.434937  0.565063\n",
              "1.0       0.581681  0.418319\n",
              "2.0       0.641921  0.358079\n",
              "3.0       1.000000  0.000000\n",
              "4.0       0.812500  0.187500\n",
              "5.0       1.000000  0.000000\n",
              "6.0       0.000000  1.000000\n",
              "9.0       1.000000  0.000000"
            ]
          },
          "metadata": {
            "tags": []
          },
          "execution_count": 559
        }
      ]
    },
    {
      "cell_type": "markdown",
      "metadata": {
        "id": "K1-g0ct9zF-V",
        "colab_type": "text"
      },
      "source": [
        "Women have got more calls than men"
      ]
    },
    {
      "cell_type": "code",
      "metadata": {
        "id": "am5MvNedzCJy",
        "colab_type": "code",
        "outputId": "0beb654f-c3b1-428e-84cd-7447bcd73117",
        "colab": {
          "base_uri": "https://localhost:8080/",
          "height": 328
        }
      },
      "source": [
        "them_call_match=pd.crosstab(data['them_cal'],data['match'])\n",
        "them_call_match.div(them_call_match.sum(1).astype(float),axis=0)"
      ],
      "execution_count": 560,
      "outputs": [
        {
          "output_type": "execute_result",
          "data": {
            "text/html": [
              "<div>\n",
              "<style scoped>\n",
              "    .dataframe tbody tr th:only-of-type {\n",
              "        vertical-align: middle;\n",
              "    }\n",
              "\n",
              "    .dataframe tbody tr th {\n",
              "        vertical-align: top;\n",
              "    }\n",
              "\n",
              "    .dataframe thead th {\n",
              "        text-align: right;\n",
              "    }\n",
              "</style>\n",
              "<table border=\"1\" class=\"dataframe\">\n",
              "  <thead>\n",
              "    <tr style=\"text-align: right;\">\n",
              "      <th>match</th>\n",
              "      <th>0</th>\n",
              "      <th>1</th>\n",
              "    </tr>\n",
              "    <tr>\n",
              "      <th>them_cal</th>\n",
              "      <th></th>\n",
              "      <th></th>\n",
              "    </tr>\n",
              "  </thead>\n",
              "  <tbody>\n",
              "    <tr>\n",
              "      <th>0.0</th>\n",
              "      <td>0.878987</td>\n",
              "      <td>0.121013</td>\n",
              "    </tr>\n",
              "    <tr>\n",
              "      <th>1.0</th>\n",
              "      <td>0.837583</td>\n",
              "      <td>0.162417</td>\n",
              "    </tr>\n",
              "    <tr>\n",
              "      <th>2.0</th>\n",
              "      <td>0.740175</td>\n",
              "      <td>0.259825</td>\n",
              "    </tr>\n",
              "    <tr>\n",
              "      <th>3.0</th>\n",
              "      <td>0.624339</td>\n",
              "      <td>0.375661</td>\n",
              "    </tr>\n",
              "    <tr>\n",
              "      <th>4.0</th>\n",
              "      <td>0.682692</td>\n",
              "      <td>0.317308</td>\n",
              "    </tr>\n",
              "    <tr>\n",
              "      <th>5.0</th>\n",
              "      <td>0.608696</td>\n",
              "      <td>0.391304</td>\n",
              "    </tr>\n",
              "    <tr>\n",
              "      <th>6.0</th>\n",
              "      <td>0.555556</td>\n",
              "      <td>0.444444</td>\n",
              "    </tr>\n",
              "    <tr>\n",
              "      <th>9.0</th>\n",
              "      <td>0.523810</td>\n",
              "      <td>0.476190</td>\n",
              "    </tr>\n",
              "  </tbody>\n",
              "</table>\n",
              "</div>"
            ],
            "text/plain": [
              "match            0         1\n",
              "them_cal                    \n",
              "0.0       0.878987  0.121013\n",
              "1.0       0.837583  0.162417\n",
              "2.0       0.740175  0.259825\n",
              "3.0       0.624339  0.375661\n",
              "4.0       0.682692  0.317308\n",
              "5.0       0.608696  0.391304\n",
              "6.0       0.555556  0.444444\n",
              "9.0       0.523810  0.476190"
            ]
          },
          "metadata": {
            "tags": []
          },
          "execution_count": 560
        }
      ]
    },
    {
      "cell_type": "markdown",
      "metadata": {
        "id": "oqsGkr7qzPw6",
        "colab_type": "text"
      },
      "source": [
        "Candidate who got maximum number of calls are the one who got the match"
      ]
    },
    {
      "cell_type": "markdown",
      "metadata": {
        "id": "VjOd6sDhzaTu",
        "colab_type": "text"
      },
      "source": [
        "#Date_3--> Have you been on a date with any of your matches"
      ]
    },
    {
      "cell_type": "code",
      "metadata": {
        "id": "9Lb3i267zKK5",
        "colab_type": "code",
        "outputId": "8799b5bf-100f-4c33-88ba-09bc4d29cc6a",
        "colab": {
          "base_uri": "https://localhost:8080/",
          "height": 68
        }
      },
      "source": [
        "data['date_3'].value_counts(normalize=True)"
      ],
      "execution_count": 561,
      "outputs": [
        {
          "output_type": "execute_result",
          "data": {
            "text/plain": [
              "0.0    0.62305\n",
              "1.0    0.37695\n",
              "Name: date_3, dtype: float64"
            ]
          },
          "metadata": {
            "tags": []
          },
          "execution_count": 561
        }
      ]
    },
    {
      "cell_type": "markdown",
      "metadata": {
        "id": "yKXC-WXpzhWe",
        "colab_type": "text"
      },
      "source": [
        "Looks like only 37.69% have been to date with their matches"
      ]
    },
    {
      "cell_type": "code",
      "metadata": {
        "id": "6s1jTwaazN2V",
        "colab_type": "code",
        "outputId": "8ea8a043-2031-417e-8114-f3e22ed525f0",
        "colab": {
          "base_uri": "https://localhost:8080/",
          "height": 142
        }
      },
      "source": [
        "date_3_match=pd.crosstab(data['date_3'],data['gender'])\n",
        "date_3_match.div(date_3_match.sum(1).astype(float),axis=0)"
      ],
      "execution_count": 562,
      "outputs": [
        {
          "output_type": "execute_result",
          "data": {
            "text/html": [
              "<div>\n",
              "<style scoped>\n",
              "    .dataframe tbody tr th:only-of-type {\n",
              "        vertical-align: middle;\n",
              "    }\n",
              "\n",
              "    .dataframe tbody tr th {\n",
              "        vertical-align: top;\n",
              "    }\n",
              "\n",
              "    .dataframe thead th {\n",
              "        text-align: right;\n",
              "    }\n",
              "</style>\n",
              "<table border=\"1\" class=\"dataframe\">\n",
              "  <thead>\n",
              "    <tr style=\"text-align: right;\">\n",
              "      <th>gender</th>\n",
              "      <th>0</th>\n",
              "      <th>1</th>\n",
              "    </tr>\n",
              "    <tr>\n",
              "      <th>date_3</th>\n",
              "      <th></th>\n",
              "      <th></th>\n",
              "    </tr>\n",
              "  </thead>\n",
              "  <tbody>\n",
              "    <tr>\n",
              "      <th>0.0</th>\n",
              "      <td>0.552100</td>\n",
              "      <td>0.447900</td>\n",
              "    </tr>\n",
              "    <tr>\n",
              "      <th>1.0</th>\n",
              "      <td>0.552069</td>\n",
              "      <td>0.447931</td>\n",
              "    </tr>\n",
              "  </tbody>\n",
              "</table>\n",
              "</div>"
            ],
            "text/plain": [
              "gender         0         1\n",
              "date_3                    \n",
              "0.0     0.552100  0.447900\n",
              "1.0     0.552069  0.447931"
            ]
          },
          "metadata": {
            "tags": []
          },
          "execution_count": 562
        }
      ]
    },
    {
      "cell_type": "markdown",
      "metadata": {
        "id": "RDjVsd-dzojC",
        "colab_type": "text"
      },
      "source": [
        "Comparetively women have gone on more date than men"
      ]
    },
    {
      "cell_type": "markdown",
      "metadata": {
        "id": "8w0XVbSTzvO2",
        "colab_type": "text"
      },
      "source": [
        "#Num_in_3"
      ]
    },
    {
      "cell_type": "code",
      "metadata": {
        "id": "k_EBZN3UzfpN",
        "colab_type": "code",
        "outputId": "e907a61f-f367-468a-f22b-04cabe72681e",
        "colab": {
          "base_uri": "https://localhost:8080/",
          "height": 102
        }
      },
      "source": [
        "data.num_in_3.value_counts()"
      ],
      "execution_count": 563,
      "outputs": [
        {
          "output_type": "execute_result",
          "data": {
            "text/plain": [
              "1.0    430\n",
              "0.0    159\n",
              "2.0     61\n",
              "4.0     18\n",
              "Name: num_in_3, dtype: int64"
            ]
          },
          "metadata": {
            "tags": []
          },
          "execution_count": 563
        }
      ]
    },
    {
      "cell_type": "code",
      "metadata": {
        "id": "Al1UXpdKzzbV",
        "colab_type": "code",
        "outputId": "efa29a20-f98e-48c8-e850-7cf48be5b8c6",
        "colab": {
          "base_uri": "https://localhost:8080/",
          "height": 204
        }
      },
      "source": [
        "num_in_3_match=pd.crosstab(data['num_in_3'],data['match'])\n",
        "num_in_3_match.div(num_in_3_match.sum(1).astype(float),axis=0)"
      ],
      "execution_count": 564,
      "outputs": [
        {
          "output_type": "execute_result",
          "data": {
            "text/html": [
              "<div>\n",
              "<style scoped>\n",
              "    .dataframe tbody tr th:only-of-type {\n",
              "        vertical-align: middle;\n",
              "    }\n",
              "\n",
              "    .dataframe tbody tr th {\n",
              "        vertical-align: top;\n",
              "    }\n",
              "\n",
              "    .dataframe thead th {\n",
              "        text-align: right;\n",
              "    }\n",
              "</style>\n",
              "<table border=\"1\" class=\"dataframe\">\n",
              "  <thead>\n",
              "    <tr style=\"text-align: right;\">\n",
              "      <th>match</th>\n",
              "      <th>0</th>\n",
              "      <th>1</th>\n",
              "    </tr>\n",
              "    <tr>\n",
              "      <th>num_in_3</th>\n",
              "      <th></th>\n",
              "      <th></th>\n",
              "    </tr>\n",
              "  </thead>\n",
              "  <tbody>\n",
              "    <tr>\n",
              "      <th>0.0</th>\n",
              "      <td>0.855346</td>\n",
              "      <td>0.144654</td>\n",
              "    </tr>\n",
              "    <tr>\n",
              "      <th>1.0</th>\n",
              "      <td>0.737209</td>\n",
              "      <td>0.262791</td>\n",
              "    </tr>\n",
              "    <tr>\n",
              "      <th>2.0</th>\n",
              "      <td>0.639344</td>\n",
              "      <td>0.360656</td>\n",
              "    </tr>\n",
              "    <tr>\n",
              "      <th>4.0</th>\n",
              "      <td>0.555556</td>\n",
              "      <td>0.444444</td>\n",
              "    </tr>\n",
              "  </tbody>\n",
              "</table>\n",
              "</div>"
            ],
            "text/plain": [
              "match            0         1\n",
              "num_in_3                    \n",
              "0.0       0.855346  0.144654\n",
              "1.0       0.737209  0.262791\n",
              "2.0       0.639344  0.360656\n",
              "4.0       0.555556  0.444444"
            ]
          },
          "metadata": {
            "tags": []
          },
          "execution_count": 564
        }
      ]
    },
    {
      "cell_type": "markdown",
      "metadata": {
        "id": "uEhI39Ac0Bbz",
        "colab_type": "text"
      },
      "source": [
        "more number of dates more matches"
      ]
    },
    {
      "cell_type": "code",
      "metadata": {
        "id": "BIb8k8ykz18J",
        "colab_type": "code",
        "outputId": "b30dc008-0f29-4ab3-92a1-f8369c1dc32e",
        "colab": {
          "base_uri": "https://localhost:8080/",
          "height": 204
        }
      },
      "source": [
        "num_in_3_gender=pd.crosstab(data['num_in_3'],data['gender'])\n",
        "num_in_3_gender.div(num_in_3_gender.sum(1).astype(float),axis=0)"
      ],
      "execution_count": 565,
      "outputs": [
        {
          "output_type": "execute_result",
          "data": {
            "text/html": [
              "<div>\n",
              "<style scoped>\n",
              "    .dataframe tbody tr th:only-of-type {\n",
              "        vertical-align: middle;\n",
              "    }\n",
              "\n",
              "    .dataframe tbody tr th {\n",
              "        vertical-align: top;\n",
              "    }\n",
              "\n",
              "    .dataframe thead th {\n",
              "        text-align: right;\n",
              "    }\n",
              "</style>\n",
              "<table border=\"1\" class=\"dataframe\">\n",
              "  <thead>\n",
              "    <tr style=\"text-align: right;\">\n",
              "      <th>gender</th>\n",
              "      <th>0</th>\n",
              "      <th>1</th>\n",
              "    </tr>\n",
              "    <tr>\n",
              "      <th>num_in_3</th>\n",
              "      <th></th>\n",
              "      <th></th>\n",
              "    </tr>\n",
              "  </thead>\n",
              "  <tbody>\n",
              "    <tr>\n",
              "      <th>0.0</th>\n",
              "      <td>0.742138</td>\n",
              "      <td>0.257862</td>\n",
              "    </tr>\n",
              "    <tr>\n",
              "      <th>1.0</th>\n",
              "      <td>0.713953</td>\n",
              "      <td>0.286047</td>\n",
              "    </tr>\n",
              "    <tr>\n",
              "      <th>2.0</th>\n",
              "      <td>0.360656</td>\n",
              "      <td>0.639344</td>\n",
              "    </tr>\n",
              "    <tr>\n",
              "      <th>4.0</th>\n",
              "      <td>0.000000</td>\n",
              "      <td>1.000000</td>\n",
              "    </tr>\n",
              "  </tbody>\n",
              "</table>\n",
              "</div>"
            ],
            "text/plain": [
              "gender           0         1\n",
              "num_in_3                    \n",
              "0.0       0.742138  0.257862\n",
              "1.0       0.713953  0.286047\n",
              "2.0       0.360656  0.639344\n",
              "4.0       0.000000  1.000000"
            ]
          },
          "metadata": {
            "tags": []
          },
          "execution_count": 565
        }
      ]
    },
    {
      "cell_type": "code",
      "metadata": {
        "id": "dZaXYaufIX1r",
        "colab_type": "code",
        "outputId": "8b092489-52f2-4d03-ceab-576227f9cb5a",
        "colab": {
          "base_uri": "https://localhost:8080/",
          "height": 323
        }
      },
      "source": [
        "data.match_es.value_counts()"
      ],
      "execution_count": 566,
      "outputs": [
        {
          "output_type": "execute_result",
          "data": {
            "text/plain": [
              "2.0     1695\n",
              "3.0     1214\n",
              "1.0      968\n",
              "4.0      875\n",
              "5.0      736\n",
              "0.0      616\n",
              "6.0      323\n",
              "8.0      173\n",
              "7.0      153\n",
              "10.0     147\n",
              "9.0      115\n",
              "2.5       53\n",
              "1.5       40\n",
              "12.0      33\n",
              "0.5       22\n",
              "3.4       22\n",
              "18.0      20\n",
              "Name: match_es, dtype: int64"
            ]
          },
          "metadata": {
            "tags": []
          },
          "execution_count": 566
        }
      ]
    },
    {
      "cell_type": "code",
      "metadata": {
        "id": "XAKvrBMBEyiV",
        "colab_type": "code",
        "outputId": "cd6f7ea3-20fd-433b-9866-a725d7085f5a",
        "colab": {
          "base_uri": "https://localhost:8080/",
          "height": 100
        }
      },
      "source": [
        "data.head(1)"
      ],
      "execution_count": 567,
      "outputs": [
        {
          "output_type": "execute_result",
          "data": {
            "text/html": [
              "<div>\n",
              "<style scoped>\n",
              "    .dataframe tbody tr th:only-of-type {\n",
              "        vertical-align: middle;\n",
              "    }\n",
              "\n",
              "    .dataframe tbody tr th {\n",
              "        vertical-align: top;\n",
              "    }\n",
              "\n",
              "    .dataframe thead th {\n",
              "        text-align: right;\n",
              "    }\n",
              "</style>\n",
              "<table border=\"1\" class=\"dataframe\">\n",
              "  <thead>\n",
              "    <tr style=\"text-align: right;\">\n",
              "      <th></th>\n",
              "      <th>iid</th>\n",
              "      <th>id</th>\n",
              "      <th>gender</th>\n",
              "      <th>idg</th>\n",
              "      <th>condtn</th>\n",
              "      <th>wave</th>\n",
              "      <th>round</th>\n",
              "      <th>position</th>\n",
              "      <th>positin1</th>\n",
              "      <th>order</th>\n",
              "      <th>partner</th>\n",
              "      <th>pid</th>\n",
              "      <th>match</th>\n",
              "      <th>int_corr</th>\n",
              "      <th>samerace</th>\n",
              "      <th>age_o</th>\n",
              "      <th>race_o</th>\n",
              "      <th>pf_o_att</th>\n",
              "      <th>pf_o_sin</th>\n",
              "      <th>pf_o_int</th>\n",
              "      <th>pf_o_fun</th>\n",
              "      <th>pf_o_amb</th>\n",
              "      <th>pf_o_sha</th>\n",
              "      <th>dec_o</th>\n",
              "      <th>attr_o</th>\n",
              "      <th>sinc_o</th>\n",
              "      <th>intel_o</th>\n",
              "      <th>fun_o</th>\n",
              "      <th>amb_o</th>\n",
              "      <th>shar_o</th>\n",
              "      <th>like_o</th>\n",
              "      <th>prob_o</th>\n",
              "      <th>met_o</th>\n",
              "      <th>age</th>\n",
              "      <th>field</th>\n",
              "      <th>field_cd</th>\n",
              "      <th>undergra</th>\n",
              "      <th>mn_sat</th>\n",
              "      <th>tuition</th>\n",
              "      <th>race</th>\n",
              "      <th>imprace</th>\n",
              "      <th>imprelig</th>\n",
              "      <th>from</th>\n",
              "      <th>zipcode</th>\n",
              "      <th>income</th>\n",
              "      <th>goal</th>\n",
              "      <th>date</th>\n",
              "      <th>go_out</th>\n",
              "      <th>career</th>\n",
              "      <th>career_c</th>\n",
              "      <th>sports</th>\n",
              "      <th>tvsports</th>\n",
              "      <th>exercise</th>\n",
              "      <th>dining</th>\n",
              "      <th>museums</th>\n",
              "      <th>art</th>\n",
              "      <th>hiking</th>\n",
              "      <th>gaming</th>\n",
              "      <th>clubbing</th>\n",
              "      <th>reading</th>\n",
              "      <th>tv</th>\n",
              "      <th>theater</th>\n",
              "      <th>movies</th>\n",
              "      <th>concerts</th>\n",
              "      <th>music</th>\n",
              "      <th>shopping</th>\n",
              "      <th>yoga</th>\n",
              "      <th>exphappy</th>\n",
              "      <th>expnum</th>\n",
              "      <th>attr1_1</th>\n",
              "      <th>sinc1_1</th>\n",
              "      <th>intel1_1</th>\n",
              "      <th>fun1_1</th>\n",
              "      <th>amb1_1</th>\n",
              "      <th>shar1_1</th>\n",
              "      <th>attr4_1</th>\n",
              "      <th>sinc4_1</th>\n",
              "      <th>intel4_1</th>\n",
              "      <th>fun4_1</th>\n",
              "      <th>amb4_1</th>\n",
              "      <th>shar4_1</th>\n",
              "      <th>attr2_1</th>\n",
              "      <th>sinc2_1</th>\n",
              "      <th>intel2_1</th>\n",
              "      <th>fun2_1</th>\n",
              "      <th>amb2_1</th>\n",
              "      <th>shar2_1</th>\n",
              "      <th>attr3_1</th>\n",
              "      <th>sinc3_1</th>\n",
              "      <th>fun3_1</th>\n",
              "      <th>intel3_1</th>\n",
              "      <th>amb3_1</th>\n",
              "      <th>attr5_1</th>\n",
              "      <th>sinc5_1</th>\n",
              "      <th>intel5_1</th>\n",
              "      <th>fun5_1</th>\n",
              "      <th>amb5_1</th>\n",
              "      <th>dec</th>\n",
              "      <th>attr</th>\n",
              "      <th>sinc</th>\n",
              "      <th>intel</th>\n",
              "      <th>fun</th>\n",
              "      <th>amb</th>\n",
              "      <th>shar</th>\n",
              "      <th>like</th>\n",
              "      <th>prob</th>\n",
              "      <th>met</th>\n",
              "      <th>match_es</th>\n",
              "      <th>attr1_s</th>\n",
              "      <th>sinc1_s</th>\n",
              "      <th>intel1_s</th>\n",
              "      <th>fun1_s</th>\n",
              "      <th>amb1_s</th>\n",
              "      <th>shar1_s</th>\n",
              "      <th>attr3_s</th>\n",
              "      <th>sinc3_s</th>\n",
              "      <th>intel3_s</th>\n",
              "      <th>fun3_s</th>\n",
              "      <th>amb3_s</th>\n",
              "      <th>satis_2</th>\n",
              "      <th>length</th>\n",
              "      <th>numdat_2</th>\n",
              "      <th>attr7_2</th>\n",
              "      <th>sinc7_2</th>\n",
              "      <th>intel7_2</th>\n",
              "      <th>fun7_2</th>\n",
              "      <th>amb7_2</th>\n",
              "      <th>shar7_2</th>\n",
              "      <th>attr1_2</th>\n",
              "      <th>sinc1_2</th>\n",
              "      <th>intel1_2</th>\n",
              "      <th>fun1_2</th>\n",
              "      <th>amb1_2</th>\n",
              "      <th>shar1_2</th>\n",
              "      <th>attr4_2</th>\n",
              "      <th>sinc4_2</th>\n",
              "      <th>intel4_2</th>\n",
              "      <th>fun4_2</th>\n",
              "      <th>amb4_2</th>\n",
              "      <th>shar4_2</th>\n",
              "      <th>attr2_2</th>\n",
              "      <th>sinc2_2</th>\n",
              "      <th>intel2_2</th>\n",
              "      <th>fun2_2</th>\n",
              "      <th>amb2_2</th>\n",
              "      <th>shar2_2</th>\n",
              "      <th>attr3_2</th>\n",
              "      <th>sinc3_2</th>\n",
              "      <th>intel3_2</th>\n",
              "      <th>fun3_2</th>\n",
              "      <th>amb3_2</th>\n",
              "      <th>attr5_2</th>\n",
              "      <th>sinc5_2</th>\n",
              "      <th>intel5_2</th>\n",
              "      <th>fun5_2</th>\n",
              "      <th>amb5_2</th>\n",
              "      <th>you_call</th>\n",
              "      <th>them_cal</th>\n",
              "      <th>date_3</th>\n",
              "      <th>numdat_3</th>\n",
              "      <th>num_in_3</th>\n",
              "      <th>attr1_3</th>\n",
              "      <th>sinc1_3</th>\n",
              "      <th>intel1_3</th>\n",
              "      <th>fun1_3</th>\n",
              "      <th>amb1_3</th>\n",
              "      <th>shar1_3</th>\n",
              "      <th>attr7_3</th>\n",
              "      <th>sinc7_3</th>\n",
              "      <th>intel7_3</th>\n",
              "      <th>fun7_3</th>\n",
              "      <th>amb7_3</th>\n",
              "      <th>shar7_3</th>\n",
              "      <th>attr4_3</th>\n",
              "      <th>sinc4_3</th>\n",
              "      <th>intel4_3</th>\n",
              "      <th>fun4_3</th>\n",
              "      <th>amb4_3</th>\n",
              "      <th>shar4_3</th>\n",
              "      <th>attr2_3</th>\n",
              "      <th>sinc2_3</th>\n",
              "      <th>intel2_3</th>\n",
              "      <th>fun2_3</th>\n",
              "      <th>amb2_3</th>\n",
              "      <th>shar2_3</th>\n",
              "      <th>attr3_3</th>\n",
              "      <th>sinc3_3</th>\n",
              "      <th>intel3_3</th>\n",
              "      <th>fun3_3</th>\n",
              "      <th>amb3_3</th>\n",
              "      <th>attr5_3</th>\n",
              "      <th>sinc5_3</th>\n",
              "      <th>intel5_3</th>\n",
              "      <th>fun5_3</th>\n",
              "      <th>amb5_3</th>\n",
              "      <th>like_o_bin</th>\n",
              "      <th>attr_o_bin</th>\n",
              "      <th>sinc_o_bin</th>\n",
              "      <th>intel_o_bin</th>\n",
              "      <th>fun_o_bin</th>\n",
              "      <th>amb_o_bin</th>\n",
              "      <th>shar_o_bin</th>\n",
              "      <th>prob_o_bin</th>\n",
              "      <th>wave_bin</th>\n",
              "      <th>round_bin</th>\n",
              "      <th>order_bin</th>\n",
              "      <th>age_o_bin</th>\n",
              "      <th>pf_o_att_bin</th>\n",
              "      <th>pf_o_sin_bin</th>\n",
              "      <th>pf_o_int_bin</th>\n",
              "      <th>pf_o_fun_bin</th>\n",
              "      <th>pf_o_amb_bin</th>\n",
              "      <th>pf_o_sha_bin</th>\n",
              "      <th>age_bin</th>\n",
              "      <th>like_bin</th>\n",
              "      <th>attr_bin</th>\n",
              "      <th>sinc_bin</th>\n",
              "      <th>intel_bin</th>\n",
              "      <th>fun_bin</th>\n",
              "      <th>amb_bin</th>\n",
              "      <th>shar_bin</th>\n",
              "      <th>prob_bin</th>\n",
              "    </tr>\n",
              "  </thead>\n",
              "  <tbody>\n",
              "    <tr>\n",
              "      <th>0</th>\n",
              "      <td>1</td>\n",
              "      <td>1.0</td>\n",
              "      <td>0</td>\n",
              "      <td>1</td>\n",
              "      <td>1</td>\n",
              "      <td>1</td>\n",
              "      <td>10</td>\n",
              "      <td>7</td>\n",
              "      <td>NaN</td>\n",
              "      <td>4</td>\n",
              "      <td>1</td>\n",
              "      <td>11.0</td>\n",
              "      <td>0</td>\n",
              "      <td>0.14</td>\n",
              "      <td>0</td>\n",
              "      <td>27.0</td>\n",
              "      <td>2.0</td>\n",
              "      <td>35.0</td>\n",
              "      <td>20.0</td>\n",
              "      <td>20.0</td>\n",
              "      <td>20.0</td>\n",
              "      <td>0.0</td>\n",
              "      <td>5.0</td>\n",
              "      <td>0</td>\n",
              "      <td>6.0</td>\n",
              "      <td>8.0</td>\n",
              "      <td>8.0</td>\n",
              "      <td>8.0</td>\n",
              "      <td>8.0</td>\n",
              "      <td>6.0</td>\n",
              "      <td>7.0</td>\n",
              "      <td>4.0</td>\n",
              "      <td>2.0</td>\n",
              "      <td>21.0</td>\n",
              "      <td>Law</td>\n",
              "      <td>1.0</td>\n",
              "      <td>NaN</td>\n",
              "      <td>NaN</td>\n",
              "      <td>NaN</td>\n",
              "      <td>4.0</td>\n",
              "      <td>2.0</td>\n",
              "      <td>4.0</td>\n",
              "      <td>Chicago</td>\n",
              "      <td>60,521</td>\n",
              "      <td>69,487.00</td>\n",
              "      <td>2.0</td>\n",
              "      <td>7.0</td>\n",
              "      <td>1.0</td>\n",
              "      <td>lawyer</td>\n",
              "      <td>2.0</td>\n",
              "      <td>9.0</td>\n",
              "      <td>2.0</td>\n",
              "      <td>8.0</td>\n",
              "      <td>9.0</td>\n",
              "      <td>1.0</td>\n",
              "      <td>1.0</td>\n",
              "      <td>5.0</td>\n",
              "      <td>1.0</td>\n",
              "      <td>5.0</td>\n",
              "      <td>6.0</td>\n",
              "      <td>9.0</td>\n",
              "      <td>1.0</td>\n",
              "      <td>10.0</td>\n",
              "      <td>10.0</td>\n",
              "      <td>9.0</td>\n",
              "      <td>8.0</td>\n",
              "      <td>1.0</td>\n",
              "      <td>3.0</td>\n",
              "      <td>2.0</td>\n",
              "      <td>15.0</td>\n",
              "      <td>20.0</td>\n",
              "      <td>20.0</td>\n",
              "      <td>15.0</td>\n",
              "      <td>15.0</td>\n",
              "      <td>15.0</td>\n",
              "      <td>NaN</td>\n",
              "      <td>NaN</td>\n",
              "      <td>NaN</td>\n",
              "      <td>NaN</td>\n",
              "      <td>NaN</td>\n",
              "      <td>NaN</td>\n",
              "      <td>35.0</td>\n",
              "      <td>20.0</td>\n",
              "      <td>15.0</td>\n",
              "      <td>20.0</td>\n",
              "      <td>5.0</td>\n",
              "      <td>5.0</td>\n",
              "      <td>6.0</td>\n",
              "      <td>8.0</td>\n",
              "      <td>8.0</td>\n",
              "      <td>8.0</td>\n",
              "      <td>7.0</td>\n",
              "      <td>NaN</td>\n",
              "      <td>NaN</td>\n",
              "      <td>NaN</td>\n",
              "      <td>NaN</td>\n",
              "      <td>NaN</td>\n",
              "      <td>1</td>\n",
              "      <td>6.0</td>\n",
              "      <td>9.0</td>\n",
              "      <td>7.0</td>\n",
              "      <td>7.0</td>\n",
              "      <td>6.0</td>\n",
              "      <td>5.0</td>\n",
              "      <td>7.0</td>\n",
              "      <td>6.0</td>\n",
              "      <td>2.0</td>\n",
              "      <td>4.0</td>\n",
              "      <td>NaN</td>\n",
              "      <td>NaN</td>\n",
              "      <td>NaN</td>\n",
              "      <td>NaN</td>\n",
              "      <td>NaN</td>\n",
              "      <td>NaN</td>\n",
              "      <td>NaN</td>\n",
              "      <td>NaN</td>\n",
              "      <td>NaN</td>\n",
              "      <td>NaN</td>\n",
              "      <td>NaN</td>\n",
              "      <td>6.0</td>\n",
              "      <td>2.0</td>\n",
              "      <td>1.0</td>\n",
              "      <td>NaN</td>\n",
              "      <td>NaN</td>\n",
              "      <td>NaN</td>\n",
              "      <td>NaN</td>\n",
              "      <td>NaN</td>\n",
              "      <td>NaN</td>\n",
              "      <td>19.44</td>\n",
              "      <td>16.67</td>\n",
              "      <td>13.89</td>\n",
              "      <td>22.22</td>\n",
              "      <td>11.11</td>\n",
              "      <td>16.67</td>\n",
              "      <td>NaN</td>\n",
              "      <td>NaN</td>\n",
              "      <td>NaN</td>\n",
              "      <td>NaN</td>\n",
              "      <td>NaN</td>\n",
              "      <td>NaN</td>\n",
              "      <td>NaN</td>\n",
              "      <td>NaN</td>\n",
              "      <td>NaN</td>\n",
              "      <td>NaN</td>\n",
              "      <td>NaN</td>\n",
              "      <td>NaN</td>\n",
              "      <td>6.0</td>\n",
              "      <td>7.0</td>\n",
              "      <td>8.0</td>\n",
              "      <td>7.0</td>\n",
              "      <td>6.0</td>\n",
              "      <td>NaN</td>\n",
              "      <td>NaN</td>\n",
              "      <td>NaN</td>\n",
              "      <td>NaN</td>\n",
              "      <td>NaN</td>\n",
              "      <td>1.0</td>\n",
              "      <td>1.0</td>\n",
              "      <td>0.0</td>\n",
              "      <td>NaN</td>\n",
              "      <td>NaN</td>\n",
              "      <td>15.0</td>\n",
              "      <td>20.0</td>\n",
              "      <td>20.0</td>\n",
              "      <td>15.0</td>\n",
              "      <td>15.0</td>\n",
              "      <td>15.0</td>\n",
              "      <td>NaN</td>\n",
              "      <td>NaN</td>\n",
              "      <td>NaN</td>\n",
              "      <td>NaN</td>\n",
              "      <td>NaN</td>\n",
              "      <td>NaN</td>\n",
              "      <td>NaN</td>\n",
              "      <td>NaN</td>\n",
              "      <td>NaN</td>\n",
              "      <td>NaN</td>\n",
              "      <td>NaN</td>\n",
              "      <td>NaN</td>\n",
              "      <td>NaN</td>\n",
              "      <td>NaN</td>\n",
              "      <td>NaN</td>\n",
              "      <td>NaN</td>\n",
              "      <td>NaN</td>\n",
              "      <td>NaN</td>\n",
              "      <td>5.0</td>\n",
              "      <td>7.0</td>\n",
              "      <td>7.0</td>\n",
              "      <td>7.0</td>\n",
              "      <td>7.0</td>\n",
              "      <td>NaN</td>\n",
              "      <td>NaN</td>\n",
              "      <td>NaN</td>\n",
              "      <td>NaN</td>\n",
              "      <td>NaN</td>\n",
              "      <td>5-7</td>\n",
              "      <td>5-7</td>\n",
              "      <td>7-10</td>\n",
              "      <td>7-10</td>\n",
              "      <td>7-10</td>\n",
              "      <td>7-10</td>\n",
              "      <td>5-7</td>\n",
              "      <td>3-5</td>\n",
              "      <td>NaN</td>\n",
              "      <td>5-10</td>\n",
              "      <td>1-5</td>\n",
              "      <td>0.0</td>\n",
              "      <td>30-40</td>\n",
              "      <td>10-20</td>\n",
              "      <td>10-20</td>\n",
              "      <td>10-20</td>\n",
              "      <td>NaN</td>\n",
              "      <td>NaN</td>\n",
              "      <td>0.0</td>\n",
              "      <td>5-7</td>\n",
              "      <td>5-7</td>\n",
              "      <td>7-10</td>\n",
              "      <td>5-7</td>\n",
              "      <td>5-7</td>\n",
              "      <td>5-7</td>\n",
              "      <td>3-5</td>\n",
              "      <td>5-7</td>\n",
              "    </tr>\n",
              "  </tbody>\n",
              "</table>\n",
              "</div>"
            ],
            "text/plain": [
              "   iid   id  gender  idg  condtn  wave  round  position  positin1  order  partner   pid  match  int_corr  samerace  age_o  race_o  pf_o_att  pf_o_sin  pf_o_int  pf_o_fun  pf_o_amb  pf_o_sha  dec_o  attr_o  sinc_o  intel_o  fun_o  amb_o  shar_o  like_o  prob_o  met_o   age field  field_cd undergra mn_sat tuition  race  imprace  imprelig     from zipcode     income  goal  date  go_out  career  career_c  sports  tvsports  exercise  dining  museums  art  hiking  gaming  clubbing  reading   tv  theater  movies  concerts  music  shopping  yoga  exphappy  expnum  attr1_1  sinc1_1  intel1_1  fun1_1  amb1_1  shar1_1  attr4_1  sinc4_1  intel4_1  fun4_1  amb4_1  shar4_1  attr2_1  sinc2_1  intel2_1  fun2_1  amb2_1  shar2_1  attr3_1  sinc3_1  fun3_1  intel3_1  amb3_1  attr5_1  sinc5_1  intel5_1  fun5_1  amb5_1  dec  attr  sinc  intel  fun  amb  shar  like  prob  met  match_es  attr1_s  sinc1_s  intel1_s  fun1_s  amb1_s  shar1_s  attr3_s  sinc3_s  intel3_s  fun3_s  amb3_s  satis_2  length  \\\n",
              "0    1  1.0       0    1       1     1     10         7       NaN      4        1  11.0      0      0.14         0   27.0     2.0      35.0      20.0      20.0      20.0       0.0       5.0      0     6.0     8.0      8.0    8.0    8.0     6.0     7.0     4.0    2.0  21.0   Law       1.0      NaN    NaN     NaN   4.0      2.0       4.0  Chicago  60,521  69,487.00   2.0   7.0     1.0  lawyer       2.0     9.0       2.0       8.0     9.0      1.0  1.0     5.0     1.0       5.0      6.0  9.0      1.0    10.0      10.0    9.0       8.0   1.0       3.0     2.0     15.0     20.0      20.0    15.0    15.0     15.0      NaN      NaN       NaN     NaN     NaN      NaN     35.0     20.0      15.0    20.0     5.0      5.0      6.0      8.0     8.0       8.0     7.0      NaN      NaN       NaN     NaN     NaN    1   6.0   9.0    7.0  7.0  6.0   5.0   7.0   6.0  2.0       4.0      NaN      NaN       NaN     NaN     NaN      NaN      NaN      NaN       NaN     NaN     NaN      6.0     2.0   \n",
              "\n",
              "   numdat_2  attr7_2  sinc7_2  intel7_2  fun7_2  amb7_2  shar7_2  attr1_2  sinc1_2  intel1_2  fun1_2  amb1_2  shar1_2  attr4_2  sinc4_2  intel4_2  fun4_2  amb4_2  shar4_2  attr2_2  sinc2_2  intel2_2  fun2_2  amb2_2  shar2_2  attr3_2  sinc3_2  intel3_2  fun3_2  amb3_2  attr5_2  sinc5_2  intel5_2  fun5_2  amb5_2  you_call  them_cal  date_3  numdat_3  num_in_3  attr1_3  sinc1_3  intel1_3  fun1_3  amb1_3  shar1_3  attr7_3  sinc7_3  intel7_3  fun7_3  amb7_3  shar7_3  attr4_3  sinc4_3  intel4_3  fun4_3  amb4_3  shar4_3  attr2_3  sinc2_3  intel2_3  fun2_3  amb2_3  shar2_3  attr3_3  sinc3_3  intel3_3  fun3_3  amb3_3  attr5_3  sinc5_3  intel5_3  fun5_3  amb5_3 like_o_bin attr_o_bin sinc_o_bin intel_o_bin fun_o_bin amb_o_bin shar_o_bin prob_o_bin wave_bin round_bin order_bin  age_o_bin pf_o_att_bin pf_o_sin_bin pf_o_int_bin pf_o_fun_bin pf_o_amb_bin pf_o_sha_bin  age_bin like_bin attr_bin sinc_bin intel_bin fun_bin amb_bin shar_bin prob_bin  \n",
              "0       1.0      NaN      NaN       NaN     NaN     NaN      NaN    19.44    16.67     13.89   22.22   11.11    16.67      NaN      NaN       NaN     NaN     NaN      NaN      NaN      NaN       NaN     NaN     NaN      NaN      6.0      7.0       8.0     7.0     6.0      NaN      NaN       NaN     NaN     NaN       1.0       1.0     0.0       NaN       NaN     15.0     20.0      20.0    15.0    15.0     15.0      NaN      NaN       NaN     NaN     NaN      NaN      NaN      NaN       NaN     NaN     NaN      NaN      NaN      NaN       NaN     NaN     NaN      NaN      5.0      7.0       7.0     7.0     7.0      NaN      NaN       NaN     NaN     NaN        5-7        5-7       7-10        7-10      7-10      7-10        5-7        3-5      NaN      5-10       1-5        0.0        30-40        10-20        10-20        10-20          NaN          NaN      0.0      5-7      5-7     7-10       5-7     5-7     5-7      3-5      5-7  "
            ]
          },
          "metadata": {
            "tags": []
          },
          "execution_count": 567
        }
      ]
    },
    {
      "cell_type": "code",
      "metadata": {
        "id": "51d6TqBRGcgR",
        "colab_type": "code",
        "outputId": "d2d5034b-e787-4813-ac67-ce6b0f75e4c6",
        "colab": {
          "base_uri": "https://localhost:8080/",
          "height": 80
        }
      },
      "source": [
        "new.head(1)"
      ],
      "execution_count": 568,
      "outputs": [
        {
          "output_type": "execute_result",
          "data": {
            "text/html": [
              "<div>\n",
              "<style scoped>\n",
              "    .dataframe tbody tr th:only-of-type {\n",
              "        vertical-align: middle;\n",
              "    }\n",
              "\n",
              "    .dataframe tbody tr th {\n",
              "        vertical-align: top;\n",
              "    }\n",
              "\n",
              "    .dataframe thead th {\n",
              "        text-align: right;\n",
              "    }\n",
              "</style>\n",
              "<table border=\"1\" class=\"dataframe\">\n",
              "  <thead>\n",
              "    <tr style=\"text-align: right;\">\n",
              "      <th></th>\n",
              "      <th>gender</th>\n",
              "      <th>match</th>\n",
              "      <th>goal</th>\n",
              "      <th>age</th>\n",
              "      <th>dec</th>\n",
              "      <th>attr</th>\n",
              "      <th>sinc</th>\n",
              "      <th>intel</th>\n",
              "      <th>fun</th>\n",
              "      <th>amb</th>\n",
              "      <th>like</th>\n",
              "    </tr>\n",
              "  </thead>\n",
              "  <tbody>\n",
              "    <tr>\n",
              "      <th>0</th>\n",
              "      <td>0</td>\n",
              "      <td>0</td>\n",
              "      <td>2.0</td>\n",
              "      <td>21.0</td>\n",
              "      <td>1</td>\n",
              "      <td>6.0</td>\n",
              "      <td>9.0</td>\n",
              "      <td>7.0</td>\n",
              "      <td>7.0</td>\n",
              "      <td>6.0</td>\n",
              "      <td>7.0</td>\n",
              "    </tr>\n",
              "  </tbody>\n",
              "</table>\n",
              "</div>"
            ],
            "text/plain": [
              "   gender  match  goal   age  dec  attr  sinc  intel  fun  amb  like\n",
              "0       0      0   2.0  21.0    1   6.0   9.0    7.0  7.0  6.0   7.0"
            ]
          },
          "metadata": {
            "tags": []
          },
          "execution_count": 568
        }
      ]
    },
    {
      "cell_type": "code",
      "metadata": {
        "id": "jTkBw803NGhs",
        "colab_type": "code",
        "colab": {
          "base_uri": "https://localhost:8080/",
          "height": 449
        },
        "outputId": "081caf15-5b2e-4f49-caf2-1e3296ebf6d0"
      },
      "source": [
        "import seaborn as sns\n",
        "corr1=data.corr().loc[('gender','goal','age','dec','attr','sinc','intel','fun','amb','like','match'),('gender','goal','age','dec','attr','sinc','intel','fun','amb','like','match')]\n",
        "fig, ax = plt.subplots(figsize=(8,7))\n",
        "sns.heatmap(corr1,annot=True, linewidths=.5, ax=ax)"
      ],
      "execution_count": 569,
      "outputs": [
        {
          "output_type": "execute_result",
          "data": {
            "text/plain": [
              "<matplotlib.axes._subplots.AxesSubplot at 0x7fd44a6fcf28>"
            ]
          },
          "metadata": {
            "tags": []
          },
          "execution_count": 569
        },
        {
          "output_type": "display_data",
          "data": {
            "image/png": "[encoded data removed]",
            "text/plain": [
              "<Figure size 576x504 with 2 Axes>"
            ]
          },
          "metadata": {
            "tags": []
          }
        }
      ]
    },
    {
      "cell_type": "markdown",
      "metadata": {
        "id": "PyMrXAwcTgGW",
        "colab_type": "text"
      },
      "source": [
        "## From above analyis and heatmap we consider only following columns"
      ]
    },
    {
      "cell_type": "code",
      "metadata": {
        "id": "gu0uisUyGcAx",
        "colab_type": "code",
        "colab": {}
      },
      "source": [
        "new=data[['gender','match','goal','age','dec','attr','sinc','intel','fun','amb','like']].copy()"
      ],
      "execution_count": 0,
      "outputs": []
    },
    {
      "cell_type": "code",
      "metadata": {
        "id": "MSyLyO5XKihS",
        "colab_type": "code",
        "outputId": "ea35b30c-a2ba-4242-cd00-100f36122b84",
        "colab": {
          "base_uri": "https://localhost:8080/",
          "height": 221
        }
      },
      "source": [
        "new.isnull().sum()"
      ],
      "execution_count": 572,
      "outputs": [
        {
          "output_type": "execute_result",
          "data": {
            "text/plain": [
              "gender      0\n",
              "match       0\n",
              "goal       79\n",
              "age         0\n",
              "dec         0\n",
              "attr      202\n",
              "sinc      277\n",
              "intel     296\n",
              "fun       350\n",
              "amb       712\n",
              "like      240\n",
              "dtype: int64"
            ]
          },
          "metadata": {
            "tags": []
          },
          "execution_count": 572
        }
      ]
    },
    {
      "cell_type": "code",
      "metadata": {
        "id": "h7Qw4sZiUU55",
        "colab_type": "code",
        "colab": {}
      },
      "source": [
        "#Replacing all nan with it's rescpect to mode values\n",
        "mode1=new.columns\n",
        "for i in mode1:\n",
        "  new[i]=new[i].fillna(new[i].mode()[0])"
      ],
      "execution_count": 0,
      "outputs": []
    },
    {
      "cell_type": "code",
      "metadata": {
        "id": "wBPQ530AN8Ka",
        "colab_type": "code",
        "colab": {}
      },
      "source": [
        "from sklearn.model_selection import train_test_split\n",
        "from sklearn.linear_model import LogisticRegression\n",
        "from sklearn.ensemble import RandomForestClassifier\n",
        "from sklearn.ensemble import GradientBoostingClassifier\n",
        "from sklearn import metrics"
      ],
      "execution_count": 0,
      "outputs": []
    },
    {
      "cell_type": "code",
      "metadata": {
        "id": "qWkxkoMrLtvp",
        "colab_type": "code",
        "colab": {}
      },
      "source": [
        "X=new.loc[:,new.columns!='match']\n",
        "y=new['match']\n",
        "X_train, X_test, y_train, y_test = train_test_split(X, y, test_size=0.2, random_state=0, stratify=y)"
      ],
      "execution_count": 0,
      "outputs": []
    },
    {
      "cell_type": "code",
      "metadata": {
        "id": "31Qs6v-vNsAH",
        "colab_type": "code",
        "outputId": "9fe806a7-14ab-4282-add8-17cbc6eedcef",
        "colab": {
          "base_uri": "https://localhost:8080/",
          "height": 207
        }
      },
      "source": [
        "model = LogisticRegression(C=1, random_state=3)\n",
        "lrc = model.fit(X_train, y_train)\n",
        "predict_train_lrc = lrc.predict(X_train)\n",
        "predict_test_lrc = lrc.predict(X_test)\n",
        "print('Training Accuracy:', metrics.accuracy_score(y_train, predict_train_lrc))\n",
        "print('Validation Accuracy:', metrics.accuracy_score(y_test, predict_test_lrc))"
      ],
      "execution_count": 577,
      "outputs": [
        {
          "output_type": "stream",
          "text": [
            "Training Accuracy: 0.8404953745150702\n",
            "Validation Accuracy: 0.8454653937947494\n"
          ],
          "name": "stdout"
        },
        {
          "output_type": "stream",
          "text": [
            "/usr/local/lib/python3.6/dist-packages/sklearn/linear_model/_logistic.py:940: ConvergenceWarning: lbfgs failed to converge (status=1):\n",
            "STOP: TOTAL NO. of ITERATIONS REACHED LIMIT.\n",
            "\n",
            "Increase the number of iterations (max_iter) or scale the data as shown in:\n",
            "    https://scikit-learn.org/stable/modules/preprocessing.html\n",
            "Please also refer to the documentation for alternative solver options:\n",
            "    https://scikit-learn.org/stable/modules/linear_model.html#logistic-regression\n",
            "  extra_warning_msg=_LOGISTIC_SOLVER_CONVERGENCE_MSG)\n"
          ],
          "name": "stderr"
        }
      ]
    },
    {
      "cell_type": "code",
      "metadata": {
        "id": "n3ZLh-i3N9p3",
        "colab_type": "code",
        "outputId": "57061560-895a-47cd-a244-89a3d86d7add",
        "colab": {
          "base_uri": "https://localhost:8080/",
          "height": 51
        }
      },
      "source": [
        "# xgboost model\n",
        "model = GradientBoostingClassifier()\n",
        "xgb_model = model.fit(X_train, y_train)\n",
        "predict_train_xgb = xgb_model.predict(X_train)\n",
        "predict_test_xgb = xgb_model.predict(X_test)\n",
        "print('Training Accuracy:', metrics.accuracy_score(y_train, predict_train_xgb))\n",
        "print('Validation Accuracy:', metrics.accuracy_score(y_test, predict_test_xgb))"
      ],
      "execution_count": 578,
      "outputs": [
        {
          "output_type": "stream",
          "text": [
            "Training Accuracy: 0.8636227991644285\n",
            "Validation Accuracy: 0.8597852028639618\n"
          ],
          "name": "stdout"
        }
      ]
    },
    {
      "cell_type": "code",
      "metadata": {
        "id": "DIkdPr79OImV",
        "colab_type": "code",
        "outputId": "7e96dd64-83c8-46ed-bc3b-2b870debda09",
        "colab": {
          "base_uri": "https://localhost:8080/",
          "height": 51
        }
      },
      "source": [
        "model = RandomForestClassifier()\n",
        "rf_model = model.fit(X_train, y_train)\n",
        "predict_train_rf = rf_model.predict(X_train)\n",
        "predict_test_rf = rf_model.predict(X_test)\n",
        "print('Training Accuracy:', metrics.accuracy_score(y_train, predict_train_rf))\n",
        "print('Validation Accuracy:', metrics.accuracy_score(y_test, predict_test_rf))"
      ],
      "execution_count": 579,
      "outputs": [
        {
          "output_type": "stream",
          "text": [
            "Training Accuracy: 0.9920919128618323\n",
            "Validation Accuracy: 0.8305489260143198\n"
          ],
          "name": "stdout"
        }
      ]
    },
    {
      "cell_type": "markdown",
      "metadata": {
        "id": "luJv5fQgZbuc",
        "colab_type": "text"
      },
      "source": [
        "#XGBooster model is perfect model "
      ]
    },
    {
      "cell_type": "markdown",
      "metadata": {
        "id": "h4BsvnXnREaA",
        "colab_type": "text"
      },
      "source": [
        "# Conclusion:\n",
        "1. Matches are more for attarctive candiate\n",
        "2. Women tends to get more dates than men\n",
        "3. Men is more into attractive women but women do consider ambitious partner too.\n",
        "4. Different age group have different goals for instance younger age group tends to look for fun night where as older candidate looks forward to meet new people.\n",
        "5. Candidate religion and race doesn't matter much \n"
      ]
    },
    {
      "cell_type": "markdown",
      "metadata": {
        "id": "09R672wFZkqS",
        "colab_type": "text"
      },
      "source": [
        "#END"
      ]
    },
    {
      "cell_type": "code",
      "metadata": {
        "id": "r5rPFqvdOTLg",
        "colab_type": "code",
        "colab": {}
      },
      "source": [
        ""
      ],
      "execution_count": 0,
      "outputs": []
    }
  ]
}